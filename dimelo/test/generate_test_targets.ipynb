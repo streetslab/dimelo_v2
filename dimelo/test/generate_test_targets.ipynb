{
 "cells": [
  {
   "cell_type": "code",
   "execution_count": 1,
   "metadata": {},
   "outputs": [
    {
     "name": "stdout",
     "output_type": "stream",
     "text": [
      "PATH does not include the conda environment /bin folder. Adding /global/home/users/dixonluinenburg/.conda/envs/dimelo_v2/bin.\n",
      "PATH is now /global/home/users/dixonluinenburg/.conda/envs/dimelo_v2/bin:/global/software/rocky-8.x86_64/manual/modules/langs/anaconda3/2024.02-1/bin:/global/home/users/dixonluinenburg/perl5/bin:/usr/share/Modules/bin:/usr/local/bin:/usr/bin:/usr/local/sbin:/usr/sbin:/global/home/groups/allhands/bin:/global/home/users/dixonluinenburg/bin\n",
      "modkit found with expected version 0.2.4\n",
      "Reference genome already downloaded.\n",
      "Input bam already retagged.\n"
     ]
    }
   ],
   "source": [
    "from pathlib import Path\n",
    "from matplotlib import pyplot as plt\n",
    "import pickle\n",
    "from collections import defaultdict\n",
    "import os\n",
    "from inspect import signature\n",
    "\n",
    "import dimelo\n",
    "from dimelo import parse_bam, load_processed\n",
    "from dimelo.test import RelativePath,DiMeLoParsingTestCase,filter_kwargs_for_func\n",
    "\n",
    "# Base input and output directories\n",
    "test_data_dir = Path('./data')\n",
    "output_dir = test_data_dir / 'test_targets'\n",
    "\n",
    "output_dir.mkdir(exist_ok=True)\n",
    "\n",
    "region = 'chr1:114357437-114359753' # 'chr1:9167177-9169177'\n",
    "\n",
    "# Paths to input files\n",
    "ctcf_bam_file = test_data_dir / 'ctcf_demo.sorted.bam'\n",
    "# ctcf_guppy_bam_file = test_data_dir / 'winnowmap_guppy_merge_subset.updated.bam'\n",
    "ctcf_target_regions = RelativePath(test_data_dir / 'ctcf_demo_peak.bed')\n",
    "ctcf_off_target_regions = RelativePath(test_data_dir / 'ctcf_demo_not_peak.bed')\n",
    "ref_genome_file = Path('./output/chm13.draft_v1.0.fasta')\n",
    "ctcf_bam_file_updated =  RelativePath('./output/ctcf_demo.updated.bam')\n",
    "output_dir = RelativePath(output_dir)\n",
    "\n",
    "# Set up input files\n",
    "DiMeLoParsingTestCase.setup_class()"
   ]
  },
  {
   "cell_type": "markdown",
   "metadata": {},
   "source": [
    "## Create or load test matrix"
   ]
  },
  {
   "cell_type": "markdown",
   "metadata": {},
   "source": [
    "### Load a pre-existing test matrix\n",
    "\n",
    "This code should be used if you are trying to update only some test cases. Tests can only be updated by category in rest of the code. Only run categories where you are confident that you haven't broken any functionality."
   ]
  },
  {
   "cell_type": "code",
   "execution_count": 2,
   "metadata": {},
   "outputs": [],
   "source": [
    "# if Path(RelativePath('data/test_targets/test_matrix.pickle')).exists():\n",
    "#     with open(RelativePath('data/test_targets/test_matrix.pickle'), 'rb') as file:\n",
    "#         test_matrix = pickle.load(file)"
   ]
  },
  {
   "cell_type": "markdown",
   "metadata": {},
   "source": [
    "### Create a fresh test matrix\n",
    "\n",
    "This code should be used if you are re-creating your test matrix from scratch: you should know everything is working correctly and plan to run all the remaining cells in the notebook to get all the different test cases covered."
   ]
  },
  {
   "cell_type": "code",
   "execution_count": 3,
   "metadata": {},
   "outputs": [],
   "source": [
    "test_matrix = {\n",
    "    'megalodon_peaks_190':(\n",
    "        # input kwargs\n",
    "        {\n",
    "            'input_file':ctcf_bam_file_updated,\n",
    "            'output_name':'megalodon_peaks_190',\n",
    "            'output_directory':output_dir,\n",
    "            'regions':[ctcf_target_regions,ctcf_off_target_regions],\n",
    "            'motifs':['A,0','CG,0'],\n",
    "            'thresh':190,\n",
    "            'window_size':5000,\n",
    "            'sort_by':['read_start','read_name','motif'],\n",
    "            'smooth_window':1,\n",
    "            'title':'megalodon_peaks_190',\n",
    "        },\n",
    "        # outputs dict function:values\n",
    "        {}, # populated in subsequent cells\n",
    "    ),\n",
    "    'megalodon_single_190':(\n",
    "        # input kwargs\n",
    "        {\n",
    "            'input_file':ctcf_bam_file_updated,\n",
    "            'output_name':'megalodon_single_190',\n",
    "            'output_directory':output_dir,\n",
    "            'regions':region,\n",
    "            'motifs':['A,0','CG,0'],\n",
    "            'thresh':190,\n",
    "            'window_size':None,\n",
    "            'sort_by':['read_start','read_name','motif'],\n",
    "            'smooth_window':10,\n",
    "            'title':'megalodon_single_190',\n",
    "        },\n",
    "        # outputs dict function:values\n",
    "        {}, # populated in subsequent cells\n",
    "    ),\n",
    "    'megalodon_single_and_peaks_190':(\n",
    "        # input kwargs\n",
    "        {\n",
    "            'input_file':ctcf_bam_file_updated,\n",
    "            'output_name':'megalodon_single_and_peaks_190',\n",
    "            'output_directory':output_dir,\n",
    "            'regions':[region,ctcf_target_regions,ctcf_off_target_regions],\n",
    "            'motifs':['A,0','CG,0'],\n",
    "            'thresh':190,\n",
    "            'window_size':5000,\n",
    "            'sort_by':['read_start','read_name','motif'],\n",
    "            'smooth_window':100,\n",
    "            'title':'megalodon_single_and_peaks_190',\n",
    "        },\n",
    "        # outputs dict function:values\n",
    "        {}, # populated in subsequent cells\n",
    "    ),\n",
    "    'megalodon_peaks_nothresh':(\n",
    "        # input kwargs\n",
    "        {\n",
    "            'input_file':ctcf_bam_file_updated,\n",
    "            'output_name':'megalodon_peaks_nothresh',\n",
    "            'output_directory':output_dir,\n",
    "            'regions':[ctcf_target_regions,ctcf_off_target_regions],\n",
    "            'motifs':['A,0','CG,0'],\n",
    "            'thresh':None,\n",
    "            'window_size':5000,\n",
    "            'sort_by':['read_start','read_name','motif'],\n",
    "            'smooth_window':100,\n",
    "            'title':'megalodon_peaks_nothresh',\n",
    "        },\n",
    "        # outputs dict function:values\n",
    "        {}, # populated in subsequent cells\n",
    "    ),\n",
    "    'megalodon_single_nothresh':(\n",
    "        # input kwargs\n",
    "        {\n",
    "            'input_file':ctcf_bam_file_updated,\n",
    "            'output_name':'megalodon_single_nothresh',\n",
    "            'output_directory':output_dir,\n",
    "            'regions':region,\n",
    "            'motifs':['A,0','CG,0'],\n",
    "            'thresh':None,\n",
    "            'window_size':5000,\n",
    "            'sort_by':['read_start','read_name','motif'],\n",
    "            'smooth_window':1,\n",
    "            'title':'megalodon_single_nothresh',\n",
    "        },\n",
    "        # outputs dict function:values\n",
    "        {}, # populated in subsequent cells\n",
    "    )\n",
    "}"
   ]
  },
  {
   "cell_type": "markdown",
   "metadata": {},
   "source": [
    "## Generate parse_bam outputs"
   ]
  },
  {
   "cell_type": "markdown",
   "metadata": {},
   "source": [
    "### pileup"
   ]
  },
  {
   "cell_type": "code",
   "execution_count": 4,
   "metadata": {},
   "outputs": [
    {
     "name": "stdout",
     "output_type": "stream",
     "text": [
      "No specified number of cores requested. 64 available on machine, allocating all.\n",
      "Modification threshold of 190 assumed to be for range 0-255. 190/255=0.7450980392156863 will be sent to modkit.\n"
     ]
    },
    {
     "data": {
      "application/vnd.jupyter.widget-view+json": {
       "model_id": "3e9e05f68db940cdb182cc3fe235a6dd",
       "version_major": 2,
       "version_minor": 0
      },
      "text/plain": [
       "          | Step 1: Identify motif locations in chm13.draft_v1.0.fasta   0% | 00:00"
      ]
     },
     "metadata": {},
     "output_type": "display_data"
    },
    {
     "data": {
      "application/vnd.jupyter.widget-view+json": {
       "model_id": "c203d4beab4e4f52a5af95adbcbf83e6",
       "version_major": 2,
       "version_minor": 0
      },
      "text/plain": [
       "          | Step 2: Parse regions in ctcf_demo.updated.bam   0% | 00:00<?"
      ]
     },
     "metadata": {},
     "output_type": "display_data"
    },
    {
     "data": {
      "application/vnd.jupyter.widget-view+json": {
       "model_id": "a36fcc1dbdb14123b9947936f1e28f1e",
       "version_major": 2,
       "version_minor": 0
      },
      "text/plain": [
       "          |    0%"
      ]
     },
     "metadata": {},
     "output_type": "display_data"
    },
    {
     "name": "stdout",
     "output_type": "stream",
     "text": [
      "No specified number of cores requested. 64 available on machine, allocating all.\n",
      "Modification threshold of 190 assumed to be for range 0-255. 190/255=0.7450980392156863 will be sent to modkit.\n"
     ]
    },
    {
     "data": {
      "application/vnd.jupyter.widget-view+json": {
       "model_id": "98a4d0dc91b8447aa417415bee4c17d0",
       "version_major": 2,
       "version_minor": 0
      },
      "text/plain": [
       "          | Step 1: Identify motif locations in chm13.draft_v1.0.fasta   0% | 00:00"
      ]
     },
     "metadata": {},
     "output_type": "display_data"
    },
    {
     "data": {
      "application/vnd.jupyter.widget-view+json": {
       "model_id": "c16d53f157714b7ba30eb079f703fbde",
       "version_major": 2,
       "version_minor": 0
      },
      "text/plain": [
       "          | Step 2: Parse regions in ctcf_demo.updated.bam   0% | 00:00<?"
      ]
     },
     "metadata": {},
     "output_type": "display_data"
    },
    {
     "data": {
      "application/vnd.jupyter.widget-view+json": {
       "model_id": "21cd40d8ccca4273b5f104383158cd0a",
       "version_major": 2,
       "version_minor": 0
      },
      "text/plain": [
       "          |    0%"
      ]
     },
     "metadata": {},
     "output_type": "display_data"
    },
    {
     "name": "stdout",
     "output_type": "stream",
     "text": [
      "No specified number of cores requested. 64 available on machine, allocating all.\n",
      "Modification threshold of 190 assumed to be for range 0-255. 190/255=0.7450980392156863 will be sent to modkit.\n"
     ]
    },
    {
     "data": {
      "application/vnd.jupyter.widget-view+json": {
       "model_id": "a3a47cf7086e4e728ab60d9a0eafa8c3",
       "version_major": 2,
       "version_minor": 0
      },
      "text/plain": [
       "          | Step 1: Identify motif locations in chm13.draft_v1.0.fasta   0% | 00:00"
      ]
     },
     "metadata": {},
     "output_type": "display_data"
    },
    {
     "data": {
      "application/vnd.jupyter.widget-view+json": {
       "model_id": "ae1f5e5e5afb40ca96a4c8e82c2ee1be",
       "version_major": 2,
       "version_minor": 0
      },
      "text/plain": [
       "          | Step 2: Parse regions in ctcf_demo.updated.bam   0% | 00:00<?"
      ]
     },
     "metadata": {},
     "output_type": "display_data"
    },
    {
     "data": {
      "application/vnd.jupyter.widget-view+json": {
       "model_id": "66c7f7c1882f492ea00a90474c1e001b",
       "version_major": 2,
       "version_minor": 0
      },
      "text/plain": [
       "          |    0%"
      ]
     },
     "metadata": {},
     "output_type": "display_data"
    },
    {
     "name": "stdout",
     "output_type": "stream",
     "text": [
      "No specified number of cores requested. 64 available on machine, allocating all.\n",
      "No base modification threshold provided. Using adaptive threshold selection via modkit.\n"
     ]
    },
    {
     "data": {
      "application/vnd.jupyter.widget-view+json": {
       "model_id": "b4e02725eb5147cbbfd4854ae551d2cb",
       "version_major": 2,
       "version_minor": 0
      },
      "text/plain": [
       "          | Step 1: Identify motif locations in chm13.draft_v1.0.fasta   0% | 00:00"
      ]
     },
     "metadata": {},
     "output_type": "display_data"
    },
    {
     "data": {
      "application/vnd.jupyter.widget-view+json": {
       "model_id": "ab11ee9979454de3be0a836d21d0d241",
       "version_major": 2,
       "version_minor": 0
      },
      "text/plain": [
       "          | Step 2: Parse regions in ctcf_demo.updated.bam   0% | 00:00<?"
      ]
     },
     "metadata": {},
     "output_type": "display_data"
    },
    {
     "data": {
      "application/vnd.jupyter.widget-view+json": {
       "model_id": "94ab8afb1f914650a32c9c76c397941e",
       "version_major": 2,
       "version_minor": 0
      },
      "text/plain": [
       "          |    0%"
      ]
     },
     "metadata": {},
     "output_type": "display_data"
    },
    {
     "name": "stdout",
     "output_type": "stream",
     "text": [
      "No specified number of cores requested. 64 available on machine, allocating all.\n",
      "No base modification threshold provided. Using adaptive threshold selection via modkit.\n"
     ]
    },
    {
     "data": {
      "application/vnd.jupyter.widget-view+json": {
       "model_id": "51cd80c58855437b80f29f8e3a676a8b",
       "version_major": 2,
       "version_minor": 0
      },
      "text/plain": [
       "          | Step 1: Identify motif locations in chm13.draft_v1.0.fasta   0% | 00:00"
      ]
     },
     "metadata": {},
     "output_type": "display_data"
    },
    {
     "data": {
      "application/vnd.jupyter.widget-view+json": {
       "model_id": "f8f9591c14af4f1d8ad6f0174d2526c3",
       "version_major": 2,
       "version_minor": 0
      },
      "text/plain": [
       "          | Step 2: Parse regions in ctcf_demo.updated.bam   0% | 00:00<?"
      ]
     },
     "metadata": {},
     "output_type": "display_data"
    },
    {
     "data": {
      "application/vnd.jupyter.widget-view+json": {
       "model_id": "39109087537b4d2ab189a9f52db73454",
       "version_major": 2,
       "version_minor": 0
      },
      "text/plain": [
       "          |    0%"
      ]
     },
     "metadata": {},
     "output_type": "display_data"
    }
   ],
   "source": [
    "for kwargs,results in test_matrix.values():\n",
    "    kwargs_pileup = filter_kwargs_for_func(parse_bam.pileup,kwargs)\n",
    "    pileup_file, pileup_regions = parse_bam.pileup(\n",
    "        **kwargs_pileup,\n",
    "        ref_genome = ref_genome_file,\n",
    "    )\n",
    "    results['pileup'] = (RelativePath(pileup_file),RelativePath(pileup_regions))\n",
    "\n",
    "# pileup_file, pileup_regions = parse_bam.pileup(\n",
    "#     input_file=ctcf_bam_file_updated,\n",
    "#     output_name='megalodon_merged_regions',\n",
    "#     ref_genome=ref_genome_file,\n",
    "#     output_directory=output_dir,\n",
    "#     regions=[ctcf_target_regions,ctcf_off_target_regions],\n",
    "#     motifs=['A,0','CG,0'],\n",
    "#     thresh=190,\n",
    "#     window_size=1000,\n",
    "# )\n",
    "# pileup_file_one, pileup_regions_one = parse_bam.pileup(\n",
    "#     input_file=ctcf_bam_file_updated,\n",
    "#     output_name='megalodon_one_region',\n",
    "#     ref_genome=ref_genome_file,\n",
    "#     output_directory=output_dir,\n",
    "#     regions=region,\n",
    "#     motifs=['A,0','CG,0'],\n",
    "#     thresh=190,\n",
    "#     window_size=None,\n",
    "# )"
   ]
  },
  {
   "cell_type": "markdown",
   "metadata": {},
   "source": [
    "### extract"
   ]
  },
  {
   "cell_type": "code",
   "execution_count": 5,
   "metadata": {},
   "outputs": [
    {
     "name": "stdout",
     "output_type": "stream",
     "text": [
      "Allocating requested 1 cores.\n",
      "Modification threshold of 190 assumed to be for range 0-255. 190/255=0.7450980392156863 will be sent to modkit.\n"
     ]
    },
    {
     "data": {
      "application/vnd.jupyter.widget-view+json": {
       "model_id": "08092157e12d4dc69cd807a52ff6667b",
       "version_major": 2,
       "version_minor": 0
      },
      "text/plain": [
       "          | Step 1: Identify motif locations in chm13.draft_v1.0.fasta   0% | 00:00"
      ]
     },
     "metadata": {},
     "output_type": "display_data"
    },
    {
     "data": {
      "application/vnd.jupyter.widget-view+json": {
       "model_id": "3d6ab0d24cf84dfcb227ce3563c70053",
       "version_major": 2,
       "version_minor": 0
      },
      "text/plain": [
       "          | Step 2: Parse regions in ctcf_demo.updated.bam   0% | 00:00<?"
      ]
     },
     "metadata": {},
     "output_type": "display_data"
    },
    {
     "data": {
      "application/vnd.jupyter.widget-view+json": {
       "model_id": "b62d69e5e86b4a169a0408d4a2034dc5",
       "version_major": 2,
       "version_minor": 0
      },
      "text/plain": [
       "          |    0%"
      ]
     },
     "metadata": {},
     "output_type": "display_data"
    },
    {
     "data": {
      "application/vnd.jupyter.widget-view+json": {
       "model_id": "6d89e61c3d444dddbec4beb2d6a12ca9",
       "version_major": 2,
       "version_minor": 0
      },
      "text/plain": [
       "          | Transferring 963 from reads.A,0.txt into reads.combined_basemods.h5, new size 963   0% | 00:00<?"
      ]
     },
     "metadata": {},
     "output_type": "display_data"
    },
    {
     "data": {
      "application/vnd.jupyter.widget-view+json": {
       "model_id": "083887875b5447a4be39df8061b21ac2",
       "version_major": 2,
       "version_minor": 0
      },
      "text/plain": [
       "          | Step 1: Identify motif locations in chm13.draft_v1.0.fasta   0% | 00:00"
      ]
     },
     "metadata": {},
     "output_type": "display_data"
    },
    {
     "data": {
      "application/vnd.jupyter.widget-view+json": {
       "model_id": "0c4d44bedaa1426089b2efb5ace4b90c",
       "version_major": 2,
       "version_minor": 0
      },
      "text/plain": [
       "          | Step 2: Parse regions in ctcf_demo.updated.bam   0% | 00:00<?"
      ]
     },
     "metadata": {},
     "output_type": "display_data"
    },
    {
     "data": {
      "application/vnd.jupyter.widget-view+json": {
       "model_id": "9cfec09c789e4d7dbf50fdf8163abd5a",
       "version_major": 2,
       "version_minor": 0
      },
      "text/plain": [
       "          |    0%"
      ]
     },
     "metadata": {},
     "output_type": "display_data"
    },
    {
     "data": {
      "application/vnd.jupyter.widget-view+json": {
       "model_id": "024b60026b69446e8f3157aef6216918",
       "version_major": 2,
       "version_minor": 0
      },
      "text/plain": [
       "          | Transferring 963 from reads.CG,0.txt into reads.combined_basemods.h5, new size 1926   0% | 00:00<?"
      ]
     },
     "metadata": {},
     "output_type": "display_data"
    },
    {
     "name": "stdout",
     "output_type": "stream",
     "text": [
      "Allocating requested 1 cores.\n",
      "Modification threshold of 190 assumed to be for range 0-255. 190/255=0.7450980392156863 will be sent to modkit.\n"
     ]
    },
    {
     "data": {
      "application/vnd.jupyter.widget-view+json": {
       "model_id": "10af3b828f104f2e88d745f47499a069",
       "version_major": 2,
       "version_minor": 0
      },
      "text/plain": [
       "          | Step 1: Identify motif locations in chm13.draft_v1.0.fasta   0% | 00:00"
      ]
     },
     "metadata": {},
     "output_type": "display_data"
    },
    {
     "data": {
      "application/vnd.jupyter.widget-view+json": {
       "model_id": "ffd93ce116d34f11abf00b5709c94d83",
       "version_major": 2,
       "version_minor": 0
      },
      "text/plain": [
       "          | Step 2: Parse regions in ctcf_demo.updated.bam   0% | 00:00<?"
      ]
     },
     "metadata": {},
     "output_type": "display_data"
    },
    {
     "data": {
      "application/vnd.jupyter.widget-view+json": {
       "model_id": "7953443d3a0f4c71a97e9ccc1e020a34",
       "version_major": 2,
       "version_minor": 0
      },
      "text/plain": [
       "          |    0%"
      ]
     },
     "metadata": {},
     "output_type": "display_data"
    },
    {
     "data": {
      "application/vnd.jupyter.widget-view+json": {
       "model_id": "f0c6f4f466744ebcacfa344548446d18",
       "version_major": 2,
       "version_minor": 0
      },
      "text/plain": [
       "          | Transferring 27 from reads.A,0.txt into reads.combined_basemods.h5, new size 27   0% | 00:00<?"
      ]
     },
     "metadata": {},
     "output_type": "display_data"
    },
    {
     "data": {
      "application/vnd.jupyter.widget-view+json": {
       "model_id": "b1aeac055fd342e2ad56288d47cfd387",
       "version_major": 2,
       "version_minor": 0
      },
      "text/plain": [
       "          | Step 1: Identify motif locations in chm13.draft_v1.0.fasta   0% | 00:00"
      ]
     },
     "metadata": {},
     "output_type": "display_data"
    },
    {
     "data": {
      "application/vnd.jupyter.widget-view+json": {
       "model_id": "2fe49a5716f347e29a54a742c349fdf8",
       "version_major": 2,
       "version_minor": 0
      },
      "text/plain": [
       "          | Step 2: Parse regions in ctcf_demo.updated.bam   0% | 00:00<?"
      ]
     },
     "metadata": {},
     "output_type": "display_data"
    },
    {
     "data": {
      "application/vnd.jupyter.widget-view+json": {
       "model_id": "d77dec13397a469bbf2200c33c063450",
       "version_major": 2,
       "version_minor": 0
      },
      "text/plain": [
       "          |    0%"
      ]
     },
     "metadata": {},
     "output_type": "display_data"
    },
    {
     "data": {
      "application/vnd.jupyter.widget-view+json": {
       "model_id": "d9b6a691b7c04bbc8c6781dc5d6e9e6b",
       "version_major": 2,
       "version_minor": 0
      },
      "text/plain": [
       "          | Transferring 27 from reads.CG,0.txt into reads.combined_basemods.h5, new size 54   0% | 00:00<?"
      ]
     },
     "metadata": {},
     "output_type": "display_data"
    },
    {
     "name": "stdout",
     "output_type": "stream",
     "text": [
      "Allocating requested 1 cores.\n",
      "Modification threshold of 190 assumed to be for range 0-255. 190/255=0.7450980392156863 will be sent to modkit.\n"
     ]
    },
    {
     "data": {
      "application/vnd.jupyter.widget-view+json": {
       "model_id": "b448df4dbf2c47edad8828faa82a9a99",
       "version_major": 2,
       "version_minor": 0
      },
      "text/plain": [
       "          | Step 1: Identify motif locations in chm13.draft_v1.0.fasta   0% | 00:00"
      ]
     },
     "metadata": {},
     "output_type": "display_data"
    },
    {
     "data": {
      "application/vnd.jupyter.widget-view+json": {
       "model_id": "5194c336efbc49a4ba15edc69bbe9fc3",
       "version_major": 2,
       "version_minor": 0
      },
      "text/plain": [
       "          | Step 2: Parse regions in ctcf_demo.updated.bam   0% | 00:00<?"
      ]
     },
     "metadata": {},
     "output_type": "display_data"
    },
    {
     "data": {
      "application/vnd.jupyter.widget-view+json": {
       "model_id": "d84c671ab59649ceb86993034bca98a9",
       "version_major": 2,
       "version_minor": 0
      },
      "text/plain": [
       "          |    0%"
      ]
     },
     "metadata": {},
     "output_type": "display_data"
    },
    {
     "data": {
      "application/vnd.jupyter.widget-view+json": {
       "model_id": "1795ecb4320f422b89b59fa8f35ff693",
       "version_major": 2,
       "version_minor": 0
      },
      "text/plain": [
       "          | Transferring 963 from reads.A,0.txt into reads.combined_basemods.h5, new size 963   0% | 00:00<?"
      ]
     },
     "metadata": {},
     "output_type": "display_data"
    },
    {
     "data": {
      "application/vnd.jupyter.widget-view+json": {
       "model_id": "e34aeb3f49e24436bfab13bc7081427b",
       "version_major": 2,
       "version_minor": 0
      },
      "text/plain": [
       "          | Step 1: Identify motif locations in chm13.draft_v1.0.fasta   0% | 00:00"
      ]
     },
     "metadata": {},
     "output_type": "display_data"
    },
    {
     "data": {
      "application/vnd.jupyter.widget-view+json": {
       "model_id": "2b950092398645dd91a25c49b92b9675",
       "version_major": 2,
       "version_minor": 0
      },
      "text/plain": [
       "          | Step 2: Parse regions in ctcf_demo.updated.bam   0% | 00:00<?"
      ]
     },
     "metadata": {},
     "output_type": "display_data"
    },
    {
     "data": {
      "application/vnd.jupyter.widget-view+json": {
       "model_id": "bbefdbb3c4b5430ba2fd57a669522f24",
       "version_major": 2,
       "version_minor": 0
      },
      "text/plain": [
       "          |    0%"
      ]
     },
     "metadata": {},
     "output_type": "display_data"
    },
    {
     "data": {
      "application/vnd.jupyter.widget-view+json": {
       "model_id": "108094e1416d4ca49ec44ba330d52f70",
       "version_major": 2,
       "version_minor": 0
      },
      "text/plain": [
       "          | Transferring 963 from reads.CG,0.txt into reads.combined_basemods.h5, new size 1926   0% | 00:00<?"
      ]
     },
     "metadata": {},
     "output_type": "display_data"
    },
    {
     "name": "stdout",
     "output_type": "stream",
     "text": [
      "Allocating requested 1 cores.\n",
      "No valid base modification threshold provided. Raw probs will be saved.\n"
     ]
    },
    {
     "data": {
      "application/vnd.jupyter.widget-view+json": {
       "model_id": "5ca93dd10d1441adb79a238bd4ea5fb6",
       "version_major": 2,
       "version_minor": 0
      },
      "text/plain": [
       "          | Step 1: Identify motif locations in chm13.draft_v1.0.fasta   0% | 00:00"
      ]
     },
     "metadata": {},
     "output_type": "display_data"
    },
    {
     "data": {
      "application/vnd.jupyter.widget-view+json": {
       "model_id": "9b639ed674814c24bbcf3939c16af33f",
       "version_major": 2,
       "version_minor": 0
      },
      "text/plain": [
       "          | Step 2: Parse regions in ctcf_demo.updated.bam   0% | 00:00<?"
      ]
     },
     "metadata": {},
     "output_type": "display_data"
    },
    {
     "data": {
      "application/vnd.jupyter.widget-view+json": {
       "model_id": "aebb692c090143afb59a0539a3b64ae4",
       "version_major": 2,
       "version_minor": 0
      },
      "text/plain": [
       "          |    0%"
      ]
     },
     "metadata": {},
     "output_type": "display_data"
    },
    {
     "data": {
      "application/vnd.jupyter.widget-view+json": {
       "model_id": "383a8b2577664f728ed149b043ab055b",
       "version_major": 2,
       "version_minor": 0
      },
      "text/plain": [
       "          | Transferring 963 from reads.A,0.txt into reads.combined_basemods.h5, new size 963   0% | 00:00<?"
      ]
     },
     "metadata": {},
     "output_type": "display_data"
    },
    {
     "data": {
      "application/vnd.jupyter.widget-view+json": {
       "model_id": "2b6d3160c469476093b658602ba0424d",
       "version_major": 2,
       "version_minor": 0
      },
      "text/plain": [
       "          | Step 1: Identify motif locations in chm13.draft_v1.0.fasta   0% | 00:00"
      ]
     },
     "metadata": {},
     "output_type": "display_data"
    },
    {
     "data": {
      "application/vnd.jupyter.widget-view+json": {
       "model_id": "0aab6ac5474945b6a8313c304d58c6f2",
       "version_major": 2,
       "version_minor": 0
      },
      "text/plain": [
       "          | Step 2: Parse regions in ctcf_demo.updated.bam   0% | 00:00<?"
      ]
     },
     "metadata": {},
     "output_type": "display_data"
    },
    {
     "data": {
      "application/vnd.jupyter.widget-view+json": {
       "model_id": "58499899c927482d923c93fbe9e005b8",
       "version_major": 2,
       "version_minor": 0
      },
      "text/plain": [
       "          |    0%"
      ]
     },
     "metadata": {},
     "output_type": "display_data"
    },
    {
     "data": {
      "application/vnd.jupyter.widget-view+json": {
       "model_id": "baaf18df585440cc83eb82ff630edfb1",
       "version_major": 2,
       "version_minor": 0
      },
      "text/plain": [
       "          | Transferring 963 from reads.CG,0.txt into reads.combined_basemods.h5, new size 1926   0% | 00:00<?"
      ]
     },
     "metadata": {},
     "output_type": "display_data"
    },
    {
     "name": "stdout",
     "output_type": "stream",
     "text": [
      "Allocating requested 1 cores.\n",
      "No valid base modification threshold provided. Raw probs will be saved.\n"
     ]
    },
    {
     "data": {
      "application/vnd.jupyter.widget-view+json": {
       "model_id": "dc69a86d15f446f185ca66a49e1a42d1",
       "version_major": 2,
       "version_minor": 0
      },
      "text/plain": [
       "          | Step 1: Identify motif locations in chm13.draft_v1.0.fasta   0% | 00:00"
      ]
     },
     "metadata": {},
     "output_type": "display_data"
    },
    {
     "data": {
      "application/vnd.jupyter.widget-view+json": {
       "model_id": "9b19c2a60d3247738488751d06de602c",
       "version_major": 2,
       "version_minor": 0
      },
      "text/plain": [
       "          | Step 2: Parse regions in ctcf_demo.updated.bam   0% | 00:00<?"
      ]
     },
     "metadata": {},
     "output_type": "display_data"
    },
    {
     "data": {
      "application/vnd.jupyter.widget-view+json": {
       "model_id": "19949f8bcca948e096b1b95d02d70ad0",
       "version_major": 2,
       "version_minor": 0
      },
      "text/plain": [
       "          |    0%"
      ]
     },
     "metadata": {},
     "output_type": "display_data"
    },
    {
     "data": {
      "application/vnd.jupyter.widget-view+json": {
       "model_id": "f4dc3833fc95402087221d0dd527d0b2",
       "version_major": 2,
       "version_minor": 0
      },
      "text/plain": [
       "          | Transferring 27 from reads.A,0.txt into reads.combined_basemods.h5, new size 27   0% | 00:00<?"
      ]
     },
     "metadata": {},
     "output_type": "display_data"
    },
    {
     "data": {
      "application/vnd.jupyter.widget-view+json": {
       "model_id": "4df77c4ba53a472ca298614430b815f1",
       "version_major": 2,
       "version_minor": 0
      },
      "text/plain": [
       "          | Step 1: Identify motif locations in chm13.draft_v1.0.fasta   0% | 00:00"
      ]
     },
     "metadata": {},
     "output_type": "display_data"
    },
    {
     "data": {
      "application/vnd.jupyter.widget-view+json": {
       "model_id": "49234f76394647e5b64fa664d938c965",
       "version_major": 2,
       "version_minor": 0
      },
      "text/plain": [
       "          | Step 2: Parse regions in ctcf_demo.updated.bam   0% | 00:00<?"
      ]
     },
     "metadata": {},
     "output_type": "display_data"
    },
    {
     "data": {
      "application/vnd.jupyter.widget-view+json": {
       "model_id": "5ec09a14d1ab444792f10a607a3beadf",
       "version_major": 2,
       "version_minor": 0
      },
      "text/plain": [
       "          |    0%"
      ]
     },
     "metadata": {},
     "output_type": "display_data"
    },
    {
     "data": {
      "application/vnd.jupyter.widget-view+json": {
       "model_id": "07f159d8d2f44f21a1b978f0b950acf8",
       "version_major": 2,
       "version_minor": 0
      },
      "text/plain": [
       "          | Transferring 27 from reads.CG,0.txt into reads.combined_basemods.h5, new size 54   0% | 00:00<?"
      ]
     },
     "metadata": {},
     "output_type": "display_data"
    }
   ],
   "source": [
    "for kwargs,results in test_matrix.values():\n",
    "    kwargs_extract = filter_kwargs_for_func(parse_bam.extract,kwargs)\n",
    "    # if kwargs['regions']==region: # for now, we only want to extract with the single region due to output file size\n",
    "    extract_file, extract_regions = parse_bam.extract(\n",
    "        **kwargs_extract,\n",
    "        ref_genome = ref_genome_file,\n",
    "        cores=1,\n",
    "    )\n",
    "    results['extract'] = (RelativePath(extract_file),RelativePath(extract_regions))\n",
    "    # else:\n",
    "    #     results['extract'] = (None,None)"
   ]
  },
  {
   "cell_type": "markdown",
   "metadata": {},
   "source": [
    "## Generate load_processed outputs"
   ]
  },
  {
   "cell_type": "markdown",
   "metadata": {},
   "source": [
    "### pileup_counts_from_bedmethyl"
   ]
  },
  {
   "cell_type": "code",
   "execution_count": 6,
   "metadata": {},
   "outputs": [],
   "source": [
    "for kwargs,results in test_matrix.values():\n",
    "    results['pileup_counts_from_bedmethyl'] = {}\n",
    "    kwargs_func = filter_kwargs_for_func(load_processed.pileup_counts_from_bedmethyl,kwargs)\n",
    "    for motif in kwargs['motifs']:\n",
    "        results['pileup_counts_from_bedmethyl'][motif] = load_processed.pileup_counts_from_bedmethyl(\n",
    "            bedmethyl_file = results['pileup'][0],\n",
    "            **kwargs_func,\n",
    "            motif = motif,\n",
    "        )"
   ]
  },
  {
   "cell_type": "markdown",
   "metadata": {},
   "source": [
    "### pileup_vectors_from_bedmethyl"
   ]
  },
  {
   "cell_type": "code",
   "execution_count": 7,
   "metadata": {},
   "outputs": [],
   "source": [
    "for kwargs,results in test_matrix.values():\n",
    "    results['pileup_vectors_from_bedmethyl'] = {}\n",
    "    kwargs_func = filter_kwargs_for_func(load_processed.pileup_vectors_from_bedmethyl,kwargs)\n",
    "    for motif in kwargs['motifs']:\n",
    "        results['pileup_vectors_from_bedmethyl'][motif] = load_processed.pileup_vectors_from_bedmethyl(\n",
    "            bedmethyl_file = results['pileup'][0],\n",
    "            **kwargs_func,\n",
    "            motif=motif,\n",
    "        )"
   ]
  },
  {
   "cell_type": "markdown",
   "metadata": {},
   "source": [
    "### read_vectors_from_hdf5"
   ]
  },
  {
   "cell_type": "code",
   "execution_count": 8,
   "metadata": {},
   "outputs": [],
   "source": [
    "for kwargs,results in test_matrix.values():\n",
    "    extract_file,regions_bed = results['extract']\n",
    "    if extract_file is not None and regions_bed is not None:\n",
    "        kwargs_func = filter_kwargs_for_func(load_processed.read_vectors_from_hdf5,kwargs)\n",
    "        read_data_list, datasets, _ = load_processed.read_vectors_from_hdf5(\n",
    "            file=extract_file,\n",
    "            **kwargs_func,\n",
    "        )        \n",
    "        read_data_dict = {}\n",
    "        # Pull out the data from the first read\n",
    "        for idx,dataset in enumerate(datasets):\n",
    "            for read_data in read_data_list:\n",
    "                read_data_dict[dataset] = read_data[idx]\n",
    "                break    \n",
    "        results['read_vectors_from_hdf5'] = read_data_dict"
   ]
  },
  {
   "cell_type": "markdown",
   "metadata": {},
   "source": [
    "## Save text matrix"
   ]
  },
  {
   "cell_type": "code",
   "execution_count": 9,
   "metadata": {},
   "outputs": [
    {
     "name": "stdout",
     "output_type": "stream",
     "text": [
      "megalodon_peaks_190 outputs\n",
      "pileup\n",
      "(<dimelo.test.RelativePath object at 0x14558099ec50>, <dimelo.test.RelativePath object at 0x145514d7d2d0>)\n",
      "extract\n",
      "(<dimelo.test.RelativePath object at 0x1454cab8a3d0>, <dimelo.test.RelativePath object at 0x1454c7695390>)\n",
      "pileup_counts_from_bedmethyl\n",
      "{'A,0': (15443, 314114), 'CG,0': (916, 42934)}\n",
      "pileup_vectors_from_bedmethyl\n",
      "{'A,0': (array([ 9,  7,  8, ..., 15, 15, 10]), array([1338, 1322, 1253, ..., 1367, 1257, 1235])), 'CG,0': (array([ 8, 30,  9, ...,  9,  8,  2]), array([160, 195, 155, ..., 116,  81,  31]))}\n",
      "read_vectors_from_hdf5\n",
      "{'chromosome': 'chr16', 'mod_vector': array([False, False, False, ..., False, False, False]), 'motif': 'A,0', 'read_end': np.int32(4300281), 'read_name': 'a43ee3d9-8286-4f66-8688-90d9aebe2ba9', 'read_start': np.int32(4238224), 'strand': '+', 'val_vector': array([False, False, False, ..., False, False,  True]), 'region_start': 4274549, 'region_end': 4284549, 'region_strand': '.', 'A,0_mod_fraction': np.float64(0.0002754062241806665), 'CG,0_mod_fraction': np.float64(0.20316622691292877)}\n",
      "megalodon_single_190 outputs\n",
      "pileup\n",
      "(<dimelo.test.RelativePath object at 0x1455124e8f50>, <dimelo.test.RelativePath object at 0x1454ca302050>)\n",
      "extract\n",
      "(<dimelo.test.RelativePath object at 0x1454c76ac8d0>, <dimelo.test.RelativePath object at 0x1454c73b6410>)\n",
      "pileup_counts_from_bedmethyl\n",
      "{'A,0': (335, 13875), 'CG,0': (185, 2039)}\n",
      "pileup_vectors_from_bedmethyl\n",
      "{'A,0': (array([0, 0, 0, ..., 0, 0, 0]), array([14,  0, 14, ...,  0, 12,  0])), 'CG,0': (array([0, 0, 0, ..., 0, 0, 0]), array([0, 0, 0, ..., 0, 0, 0]))}\n",
      "read_vectors_from_hdf5\n",
      "{'chromosome': 'chr1', 'mod_vector': array([False, False, False, ..., False, False, False]), 'motif': 'A,0', 'read_end': np.int32(114371007), 'read_name': 'bd15781e-a765-43ba-b641-64cff386435f', 'read_start': np.int32(114272757), 'strand': '+', 'val_vector': array([False, False, False, ...,  True,  True,  True]), 'region_start': 114357437, 'region_end': 114359753, 'region_strand': '.', 'A,0_mod_fraction': np.float64(0.0), 'CG,0_mod_fraction': np.float64(0.08108108108108109)}\n",
      "megalodon_single_and_peaks_190 outputs\n",
      "pileup\n",
      "(<dimelo.test.RelativePath object at 0x145513909290>, <dimelo.test.RelativePath object at 0x145516eb1150>)\n",
      "extract\n",
      "(<dimelo.test.RelativePath object at 0x1455809b8090>, <dimelo.test.RelativePath object at 0x1455809b8d90>)\n",
      "pileup_counts_from_bedmethyl\n",
      "{'A,0': (15778, 327989), 'CG,0': (1101, 44973)}\n",
      "pileup_vectors_from_bedmethyl\n",
      "{'A,0': (array([ 9,  7,  8, ..., 15, 15, 10]), array([1338, 1322, 1263, ..., 1376, 1266, 1235])), 'CG,0': (array([ 8, 30,  9, ...,  9,  8,  2]), array([160, 195, 155, ..., 116,  81,  31]))}\n",
      "read_vectors_from_hdf5\n",
      "{'chromosome': 'chr16', 'mod_vector': array([False, False, False, ..., False, False, False]), 'motif': 'A,0', 'read_end': np.int32(4300281), 'read_name': 'a43ee3d9-8286-4f66-8688-90d9aebe2ba9', 'read_start': np.int32(4238224), 'strand': '+', 'val_vector': array([False, False, False, ..., False, False,  True]), 'region_start': 4274549, 'region_end': 4284549, 'region_strand': '.', 'A,0_mod_fraction': np.float64(0.0002754062241806665), 'CG,0_mod_fraction': np.float64(0.20316622691292877)}\n",
      "megalodon_peaks_nothresh outputs\n",
      "pileup\n",
      "(<dimelo.test.RelativePath object at 0x145514dd2a90>, <dimelo.test.RelativePath object at 0x14558095ccd0>)\n",
      "extract\n",
      "(<dimelo.test.RelativePath object at 0x1454c735d710>, <dimelo.test.RelativePath object at 0x1454c735dc90>)\n",
      "pileup_counts_from_bedmethyl\n",
      "{'A,0': (27822, 314114), 'CG,0': (1679, 42934)}\n",
      "pileup_vectors_from_bedmethyl\n",
      "{'A,0': (array([28, 20, 15, ..., 32, 28, 27]), array([1338, 1322, 1253, ..., 1367, 1257, 1235])), 'CG,0': (array([14, 54, 23, ..., 18, 27,  8]), array([160, 195, 155, ..., 116,  81,  31]))}\n",
      "read_vectors_from_hdf5\n",
      "{'chromosome': 'chr16', 'mod_vector': array([0.      , 0.      , 0.      , ..., 0.      , 0.      , 0.001953],\n",
      "      dtype=float16), 'motif': 'A,0', 'read_end': np.int32(4300281), 'read_name': 'a43ee3d9-8286-4f66-8688-90d9aebe2ba9', 'read_start': np.int32(4238224), 'strand': '+', 'val_vector': array([0, 0, 0, ..., 0, 0, 1]), 'region_start': 4274549, 'region_end': 4284549, 'region_strand': '.', 'A,0_mod_fraction': np.float64(0.0031714748003304873), 'CG,0_mod_fraction': np.float64(0.3308047493403694)}\n",
      "megalodon_single_nothresh outputs\n",
      "pileup\n",
      "(<dimelo.test.RelativePath object at 0x1454ca0990d0>, <dimelo.test.RelativePath object at 0x1454c857c610>)\n",
      "extract\n",
      "(<dimelo.test.RelativePath object at 0x1454c86a9e90>, <dimelo.test.RelativePath object at 0x1454c86ab410>)\n",
      "pileup_counts_from_bedmethyl\n",
      "{'A,0': (577, 13875), 'CG,0': (320, 2039)}\n",
      "pileup_vectors_from_bedmethyl\n",
      "{'A,0': (array([0, 0, 0, ..., 0, 0, 0]), array([ 0,  0, 10, ...,  9,  9,  0])), 'CG,0': (array([0, 0, 0, ..., 0, 0, 0]), array([0, 0, 0, ..., 0, 0, 0]))}\n",
      "read_vectors_from_hdf5\n",
      "{'chromosome': 'chr1', 'mod_vector': array([0.      , 0.      , 0.      , ..., 0.      , 0.      , 0.001953],\n",
      "      dtype=float16), 'motif': 'A,0', 'read_end': np.int32(114371007), 'read_name': 'bd15781e-a765-43ba-b641-64cff386435f', 'read_start': np.int32(114272757), 'strand': '+', 'val_vector': array([0, 0, 0, ..., 0, 0, 1]), 'region_start': 114353595, 'region_end': 114363595, 'region_strand': '.', 'A,0_mod_fraction': np.float64(0.004707313073895934), 'CG,0_mod_fraction': np.float64(0.1787109375)}\n"
     ]
    }
   ],
   "source": [
    "for test_name,entries in test_matrix.items():\n",
    "    print(test_name,'outputs')\n",
    "    for key,value in entries[1].items():\n",
    "        print(key)\n",
    "        print(value)"
   ]
  },
  {
   "cell_type": "code",
   "execution_count": 10,
   "metadata": {},
   "outputs": [],
   "source": [
    "with open('./data/test_targets/test_matrix.pickle', 'wb') as file:\n",
    "    pickle.dump(test_matrix, file)"
   ]
  },
  {
   "cell_type": "code",
   "execution_count": 11,
   "metadata": {},
   "outputs": [],
   "source": [
    "# counts_dict = defaultdict(dict)\n",
    "# vectors_dict = defaultdict(dict)\n",
    "# binarized_reads_dict = defaultdict(dict)\n",
    "# prob_reads_dict = defaultdict(dict)\n",
    "# for motif in ['A,0','CG,0']:\n",
    "#     # Extract the total counts for the motif/regions\n",
    "#     for regions in [region,ctcf_target_regions]:\n",
    "#         counts_dict[motif][regions] = load_processed.pileup_counts_from_bedmethyl(\n",
    "#             bedmethyl_file = pileup_file,\n",
    "#             motif = motif,\n",
    "#             regions = regions\n",
    "#         )\n",
    "#     # Extract counts profiles for the motif/regions\n",
    "#     vectors_dict[motif][regions] = load_processed.pileup_vectors_from_bedmethyl(\n",
    "#         bedmethyl_file = pileup_file,\n",
    "#         motif = motif,\n",
    "#         regions = regions,\n",
    "#         window_size = 10, # Trim/extend regions to same size    \n",
    "#     )\n",
    "#     # Extract binarized read vectors for the motif/regions\n",
    "#     read_data_list, datasets, _ = load_processed.read_vectors_from_hdf5(\n",
    "#         file=extract_file, # binarized modification calls\n",
    "#         regions=regions,\n",
    "#         motifs=[motif],\n",
    "#         sort_by = ['chromosome','read_start','read_name']\n",
    "#     )\n",
    "#     read_data_dict = {}\n",
    "#     for idx,dataset in enumerate(datasets):\n",
    "#         for read_data in read_data_list:\n",
    "#             read_data_dict[dataset] = read_data[idx]\n",
    "#             break    \n",
    "#     binarized_reads_dict[motif][regions] = read_data_dict\n",
    "#     # Extract probability read vectors for the motif/regions\n",
    "#     read_data_list, datasets, _ = load_processed.read_vectors_from_hdf5(\n",
    "#         file=extract_file_no_thresh, # raw modification probabilities\n",
    "#         regions=regions,\n",
    "#         motifs=[motif],\n",
    "#         sort_by = ['chromosome','read_start','read_name']\n",
    "#     )\n",
    "#     read_data_dict = {}\n",
    "#     # Print out the data from the first read\n",
    "#     for idx,dataset in enumerate(datasets):\n",
    "#         for read_data in read_data_list:\n",
    "#             read_data_dict[dataset] = read_data[idx]\n",
    "#             break\n",
    "#     prob_reads_dict[motif][regions] = read_data_dict\n",
    "# data_struct = (counts_dict,vectors_dict,binarized_reads_dict,prob_reads_dict)\n",
    "# # Pickle the combined structure to a file\n",
    "# with open(target_paths_dict['load_processed'], 'wb') as file:\n",
    "#     pickle.dump(data_struct, file)"
   ]
  }
 ],
 "metadata": {
  "kernelspec": {
   "display_name": "dimelo_v2",
   "language": "python",
   "name": "dimelo_v2"
  },
  "language_info": {
   "codemirror_mode": {
    "name": "ipython",
    "version": 3
   },
   "file_extension": ".py",
   "mimetype": "text/x-python",
   "name": "python",
   "nbconvert_exporter": "python",
   "pygments_lexer": "ipython3",
   "version": "3.11.9"
  }
 },
 "nbformat": 4,
 "nbformat_minor": 4
}
