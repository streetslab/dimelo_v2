{
 "cells": [
  {
   "cell_type": "markdown",
   "metadata": {},
   "source": [
    "# Mac and Linux setup\n",
    "\n",
    "Make sure to have enabled the environment set up for running `dimelo` analysis. See the readme for details. If you are running your jupyter notebook some way other than by the `jupyter notebook` command in the command line from within your activated `conda` environment, you may need to use `ipykernel` to connect this notebook appropriately to the environment with `dimelo` and `modkit` installed."
   ]
  },
  {
   "cell_type": "markdown",
   "metadata": {},
   "source": [
    "# Colab setup\n",
    "\n",
    "If you are running in Google Colab, run the cells below. **It is expected that Colab will make you restart your runtime to enable new package versions.** "
   ]
  },
  {
   "cell_type": "code",
   "execution_count": 1,
   "metadata": {},
   "outputs": [
    {
     "name": "stdout",
     "output_type": "stream",
     "text": [
      "\n",
      "You don't seem to be running on Google Colab so this cell is not going to be useful for you.\n",
      "Make sure you are running you notebook in a conda environment set up as per README.md.\n",
      "Once you have this notebook running in a correctly configured environment, proceed to the rest of the cells.\n",
      "          \n"
     ]
    }
   ],
   "source": [
    "# Lets Colab access your Google drive\n",
    "try:\n",
    "    from google.colab import drive\n",
    "except:\n",
    "    print(\"\"\"\n",
    "You don't seem to be running on Google Colab so this cell is not going to be useful for you.\n",
    "Make sure you are running you notebook in a conda environment set up as per README.md.\n",
    "Once you have this notebook running in a correctly configured environment, proceed to the rest of the cells.\n",
    "          \"\"\")\n",
    "else:\n",
    "    drive.mount('/content/drive')\n",
    "    # Install condacolab to let us get the modkit dependency\n",
    "    !pip install -q condacolab\n",
    "    import condacolab\n",
    "    condacolab.install()\n",
    "    # Install modkit\n",
    "    !conda install nanoporetech::modkit==0.2.4\n",
    "    # Clone the repo, change the active path to be inside the repo, and install the package\n",
    "    !rm -r dimelo_v2\n",
    "    !git clone https://github.com/streetslab/dimelo_v2\n",
    "    import os\n",
    "    os.chdir('dimelo_v2')\n",
    "    !pip install ipywidgets==7.7.1 .\n"
   ]
  },
  {
   "cell_type": "markdown",
   "metadata": {},
   "source": [
    "After runtime restart in previous cell, run this cell to make sure your notebook is set up."
   ]
  },
  {
   "cell_type": "code",
   "execution_count": 2,
   "metadata": {},
   "outputs": [],
   "source": [
    "try:\n",
    "    from google.colab import drive\n",
    "    drive.mount('/content/drive')\n",
    "    import os\n",
    "    os.chdir('dimelo_v2')   \n",
    "except:\n",
    "    pass"
   ]
  },
  {
   "cell_type": "markdown",
   "metadata": {},
   "source": [
    "# System and Versions Information"
   ]
  },
  {
   "cell_type": "markdown",
   "metadata": {},
   "source": [
    "## Conda Environment"
   ]
  },
  {
   "cell_type": "markdown",
   "metadata": {},
   "source": [
    "Run this cell to list the packages present in your conda environment"
   ]
  },
  {
   "cell_type": "code",
   "execution_count": 3,
   "metadata": {},
   "outputs": [
    {
     "name": "stdout",
     "output_type": "stream",
     "text": [
      "# packages in environment at /Users/oberondixon-luinenburg/mambaforge/envs/dimelo_v2:\n",
      "#\n",
      "# Name                    Version                   Build  Channel\n",
      "anyio                     4.3.0                    pypi_0    pypi\n",
      "appnope                   0.1.4                    pypi_0    pypi\n",
      "argon2-cffi               23.1.0                   pypi_0    pypi\n",
      "argon2-cffi-bindings      21.2.0                   pypi_0    pypi\n",
      "arrow                     1.3.0                    pypi_0    pypi\n",
      "asttokens                 2.4.1                    pypi_0    pypi\n",
      "async-lru                 2.0.4                    pypi_0    pypi\n",
      "attrs                     23.2.0                   pypi_0    pypi\n",
      "babel                     2.15.0                   pypi_0    pypi\n",
      "beautifulsoup4            4.12.3                   pypi_0    pypi\n",
      "bleach                    6.1.0                    pypi_0    pypi\n",
      "bzip2                     1.0.8                h93a5062_5    conda-forge\n",
      "ca-certificates           2024.2.2             hf0a4a13_0    conda-forge\n",
      "certifi                   2024.2.2                 pypi_0    pypi\n",
      "cffi                      1.16.0                   pypi_0    pypi\n",
      "cfgv                      3.4.0                    pypi_0    pypi\n",
      "charset-normalizer        3.3.2                    pypi_0    pypi\n",
      "colorama                  0.4.6              pyhd8ed1ab_0    conda-forge\n",
      "comm                      0.2.2                    pypi_0    pypi\n",
      "contourpy                 1.2.1                    pypi_0    pypi\n",
      "cycler                    0.12.1                   pypi_0    pypi\n",
      "debugpy                   1.8.1                    pypi_0    pypi\n",
      "decorator                 5.1.1                    pypi_0    pypi\n",
      "defusedxml                0.7.1                    pypi_0    pypi\n",
      "dimelo                    1.0.0                     dev_0    <develop>\n",
      "distlib                   0.3.8                    pypi_0    pypi\n",
      "exceptiongroup            1.2.0              pyhd8ed1ab_2    conda-forge\n",
      "executing                 2.0.1                    pypi_0    pypi\n",
      "fastjsonschema            2.19.1                   pypi_0    pypi\n",
      "filelock                  3.14.0                   pypi_0    pypi\n",
      "fonttools                 4.51.0                   pypi_0    pypi\n",
      "fqdn                      1.5.1                    pypi_0    pypi\n",
      "h11                       0.14.0                   pypi_0    pypi\n",
      "h5py                      3.11.0                   pypi_0    pypi\n",
      "httpcore                  1.0.5                    pypi_0    pypi\n",
      "httpx                     0.27.0                   pypi_0    pypi\n",
      "identify                  2.5.36                   pypi_0    pypi\n",
      "idna                      3.7                      pypi_0    pypi\n",
      "iniconfig                 2.0.0              pyhd8ed1ab_0    conda-forge\n",
      "ipykernel                 6.29.4                   pypi_0    pypi\n",
      "ipython                   8.24.0                   pypi_0    pypi\n",
      "ipywidgets                8.1.2                    pypi_0    pypi\n",
      "isoduration               20.11.0                  pypi_0    pypi\n",
      "jedi                      0.19.1                   pypi_0    pypi\n",
      "jinja2                    3.1.4                    pypi_0    pypi\n",
      "json5                     0.9.25                   pypi_0    pypi\n",
      "jsonpointer               2.4                      pypi_0    pypi\n",
      "jsonschema                4.22.0                   pypi_0    pypi\n",
      "jsonschema-specifications 2023.12.1                pypi_0    pypi\n",
      "jupyter-client            8.6.1                    pypi_0    pypi\n",
      "jupyter-core              5.7.2                    pypi_0    pypi\n",
      "jupyter-events            0.10.0                   pypi_0    pypi\n",
      "jupyter-lsp               2.2.5                    pypi_0    pypi\n",
      "jupyter-server            2.14.0                   pypi_0    pypi\n",
      "jupyter-server-terminals  0.5.3                    pypi_0    pypi\n",
      "jupyterlab                4.1.8                    pypi_0    pypi\n",
      "jupyterlab-pygments       0.3.0                    pypi_0    pypi\n",
      "jupyterlab-server         2.27.1                   pypi_0    pypi\n",
      "jupyterlab-widgets        3.0.10                   pypi_0    pypi\n",
      "kiwisolver                1.4.5                    pypi_0    pypi\n",
      "libcxx                    16.0.6               h4653b0c_0    conda-forge\n",
      "libexpat                  2.6.2                hebf3989_0    conda-forge\n",
      "libffi                    3.4.2                h3422bc3_5    conda-forge\n",
      "libsqlite                 3.45.3               h091b4b1_0    conda-forge\n",
      "libzlib                   1.2.13               h53f4e23_5    conda-forge\n",
      "markupsafe                2.1.5                    pypi_0    pypi\n",
      "matplotlib                3.8.4                    pypi_0    pypi\n",
      "matplotlib-inline         0.1.7                    pypi_0    pypi\n",
      "mistune                   3.0.2                    pypi_0    pypi\n",
      "modkit                    0.2.4                h70deae4_1    nanoporetech\n",
      "mypy                      1.10.1                   pypi_0    pypi\n",
      "mypy-extensions           1.0.0                    pypi_0    pypi\n",
      "nbclient                  0.10.0                   pypi_0    pypi\n",
      "nbconvert                 7.16.4                   pypi_0    pypi\n",
      "nbformat                  5.10.4                   pypi_0    pypi\n",
      "ncurses                   6.4.20240210         h078ce10_0    conda-forge\n",
      "nest-asyncio              1.6.0                    pypi_0    pypi\n",
      "nodeenv                   1.8.0                    pypi_0    pypi\n",
      "notebook                  7.1.3                    pypi_0    pypi\n",
      "notebook-shim             0.2.4                    pypi_0    pypi\n",
      "numpy                     1.26.4                   pypi_0    pypi\n",
      "openssl                   3.3.0                h0d3ecfb_0    conda-forge\n",
      "overrides                 7.7.0                    pypi_0    pypi\n",
      "packaging                 24.0               pyhd8ed1ab_0    conda-forge\n",
      "pandas                    2.2.2                    pypi_0    pypi\n",
      "pandocfilters             1.5.1                    pypi_0    pypi\n",
      "parso                     0.8.4                    pypi_0    pypi\n",
      "pexpect                   4.9.0                    pypi_0    pypi\n",
      "pillow                    10.3.0                   pypi_0    pypi\n",
      "pip                       24.0               pyhd8ed1ab_0    conda-forge\n",
      "platformdirs              4.2.1                    pypi_0    pypi\n",
      "plotly                    5.22.0                   pypi_0    pypi\n",
      "pluggy                    1.5.0              pyhd8ed1ab_0    conda-forge\n",
      "pre-commit                3.7.0                    pypi_0    pypi\n",
      "prometheus-client         0.20.0                   pypi_0    pypi\n",
      "prompt-toolkit            3.0.43                   pypi_0    pypi\n",
      "psutil                    5.9.8                    pypi_0    pypi\n",
      "ptyprocess                0.7.0                    pypi_0    pypi\n",
      "pure-eval                 0.2.2                    pypi_0    pypi\n",
      "pybigwig                  0.3.22                   pypi_0    pypi\n",
      "pycparser                 2.22                     pypi_0    pypi\n",
      "pygments                  2.18.0                   pypi_0    pypi\n",
      "pyparsing                 3.1.2                    pypi_0    pypi\n",
      "pysam                     0.22.1                   pypi_0    pypi\n",
      "pytest                    8.2.0              pyhd8ed1ab_0    conda-forge\n",
      "python                    3.11.9          h932a869_0_cpython    conda-forge\n",
      "python-dateutil           2.9.0.post0              pypi_0    pypi\n",
      "python-json-logger        2.0.7                    pypi_0    pypi\n",
      "pytz                      2024.1                   pypi_0    pypi\n",
      "pyyaml                    6.0.1                    pypi_0    pypi\n",
      "pyzmq                     26.0.3                   pypi_0    pypi\n",
      "readline                  8.2                  h92ec313_1    conda-forge\n",
      "referencing               0.35.1                   pypi_0    pypi\n",
      "requests                  2.31.0                   pypi_0    pypi\n",
      "rfc3339-validator         0.1.4                    pypi_0    pypi\n",
      "rfc3986-validator         0.1.1                    pypi_0    pypi\n",
      "rpds-py                   0.18.0                   pypi_0    pypi\n",
      "seaborn                   0.13.2                   pypi_0    pypi\n",
      "send2trash                1.8.3                    pypi_0    pypi\n",
      "setuptools                69.5.1             pyhd8ed1ab_0    conda-forge\n",
      "six                       1.16.0                   pypi_0    pypi\n",
      "sniffio                   1.3.1                    pypi_0    pypi\n",
      "soupsieve                 2.5                      pypi_0    pypi\n",
      "stack-data                0.6.3                    pypi_0    pypi\n",
      "tenacity                  8.3.0                    pypi_0    pypi\n",
      "terminado                 0.18.1                   pypi_0    pypi\n",
      "tinycss2                  1.3.0                    pypi_0    pypi\n",
      "tk                        8.6.13               h5083fa2_1    conda-forge\n",
      "tomli                     2.0.1              pyhd8ed1ab_0    conda-forge\n",
      "tornado                   6.4                      pypi_0    pypi\n",
      "tqdm                      4.66.4                   pypi_0    pypi\n",
      "traitlets                 5.14.3                   pypi_0    pypi\n",
      "types-python-dateutil     2.9.0.20240316           pypi_0    pypi\n",
      "types-tqdm                4.66.0.20240417          pypi_0    pypi\n",
      "typing-extensions         4.11.0                   pypi_0    pypi\n",
      "tzdata                    2024.1                   pypi_0    pypi\n",
      "uri-template              1.3.0                    pypi_0    pypi\n",
      "urllib3                   2.2.1                    pypi_0    pypi\n",
      "virtualenv                20.26.1                  pypi_0    pypi\n",
      "wcwidth                   0.2.13                   pypi_0    pypi\n",
      "webcolors                 1.13                     pypi_0    pypi\n",
      "webencodings              0.5.1                    pypi_0    pypi\n",
      "websocket-client          1.8.0                    pypi_0    pypi\n",
      "wheel                     0.43.0             pyhd8ed1ab_1    conda-forge\n",
      "widgetsnbextension        4.0.10                   pypi_0    pypi\n",
      "xz                        5.2.6                h57fd34a_0    conda-forge\n",
      "zlib                      1.2.13               h53f4e23_5    conda-forge\n"
     ]
    }
   ],
   "source": [
    "!conda list"
   ]
  },
  {
   "cell_type": "markdown",
   "metadata": {},
   "source": [
    "## System Information"
   ]
  },
  {
   "cell_type": "markdown",
   "metadata": {},
   "source": [
    "Run this cell to list system information about your machine"
   ]
  },
  {
   "cell_type": "code",
   "execution_count": 4,
   "metadata": {},
   "outputs": [
    {
     "name": "stdout",
     "output_type": "stream",
     "text": [
      "System: Darwin\n",
      "Release: 21.6.0\n",
      "Version: Darwin Kernel Version 21.6.0: Sat Jun 18 17:07:22 PDT 2022; root:xnu-8020.140.41~1/RELEASE_ARM64_T6000\n",
      "Processor: arm\n"
     ]
    }
   ],
   "source": [
    "import platform\n",
    "print('System:',platform.system())\n",
    "print('Release:',platform.release())\n",
    "print('Version:',platform.version())\n",
    "print('Processor:',platform.processor())"
   ]
  },
  {
   "cell_type": "markdown",
   "metadata": {},
   "source": [
    "## Git Repo Version"
   ]
  },
  {
   "cell_type": "markdown",
   "metadata": {},
   "source": [
    "Run this cell to capture the exact repo version you're running, in case we need to debug anything"
   ]
  },
  {
   "cell_type": "code",
   "execution_count": 5,
   "metadata": {},
   "outputs": [
    {
     "name": "stdout",
     "output_type": "stream",
     "text": [
      "bed5caa4d8eefb7575c14c3f6ba084b86cec11a5\n"
     ]
    }
   ],
   "source": [
    "!git -C . log -1 --format=%H"
   ]
  },
  {
   "cell_type": "markdown",
   "metadata": {},
   "source": [
    "# Initialization"
   ]
  },
  {
   "cell_type": "code",
   "execution_count": 6,
   "metadata": {},
   "outputs": [],
   "source": [
    "from pathlib import Path\n",
    "from matplotlib import pyplot as plt\n",
    "import urllib, gzip"
   ]
  },
  {
   "cell_type": "code",
   "execution_count": 7,
   "metadata": {},
   "outputs": [],
   "source": [
    "# Base input and output directories\n",
    "test_data_dir = Path('./dimelo/test/data')\n",
    "output_dir = Path('./dimelo/test/output')\n",
    "\n",
    "output_dir.mkdir(exist_ok=True)\n",
    "\n",
    "# Input files\n",
    "ctcf_bam_file = test_data_dir / 'ctcf_demo.sorted.bam'\n",
    "ctcf_guppy_bam_file = test_data_dir / 'winnowmap_guppy_merge_subset.updated.bam'\n",
    "ctcf_target_regions = test_data_dir / 'ctcf_demo_peak.bed'\n",
    "ctcf_off_target_regions = test_data_dir / 'ctcf_demo_not_peak.bed'"
   ]
  },
  {
   "cell_type": "markdown",
   "metadata": {},
   "source": [
    "The cell below only needs to run once; if you try to run it with the reference genome already downloaded it will likely just not complete."
   ]
  },
  {
   "cell_type": "code",
   "execution_count": 8,
   "metadata": {},
   "outputs": [
    {
     "name": "stdout",
     "output_type": "stream",
     "text": [
      "Reference genome already present. Set force_redownload=True to if you want to download it again.\n"
     ]
    }
   ],
   "source": [
    "ref_genome_url = 'https://s3-us-west-2.amazonaws.com/human-pangenomics/T2T/CHM13/assemblies/chm13.draft_v1.0.fasta.gz'\n",
    "ref_genome_gz = output_dir / 'chm13.draft_v1.0.fasta.gz'\n",
    "ref_genome_file = output_dir / 'chm13.draft_v1.0.fasta'\n",
    "force_redownload = False\n",
    "if ref_genome_file.exists() and not force_redownload:\n",
    "    print('Reference genome already present. Set force_redownload=True to if you want to download it again.')\n",
    "else:\n",
    "    urllib.request.urlretrieve(ref_genome_url,ref_genome_gz)\n",
    "\n",
    "    with gzip.open(ref_genome_gz,'rb') as gzip_file:\n",
    "        with open(ref_genome_file,'wb') as output_file:\n",
    "            for chunk in gzip_file:\n",
    "                output_file.write(chunk)\n",
    "\n",
    "    ref_genome_gz.unlink()\n",
    "    print(\"Reference genome downloaded and decompressed.\")\n",
    "# !curl https://s3-us-west-2.amazonaws.com/human-pangenomics/T2T/CHM13/assemblies/chm13.draft_v1.0.fasta.gz -o ./test/output/chm13.draft_v1.0.fasta.gz\n",
    "# !gunzip ./test/output/chm13.draft_v1.0.fasta.gz"
   ]
  },
  {
   "cell_type": "markdown",
   "metadata": {},
   "source": [
    "# Basic Use Overview"
   ]
  },
  {
   "cell_type": "markdown",
   "metadata": {},
   "source": [
    "For details on parameters and functionality breakdown, please read the README sections on **Basic Use**, especially **Parameters and what they mean**."
   ]
  },
  {
   "cell_type": "markdown",
   "metadata": {},
   "source": [
    "# Parsing"
   ]
  },
  {
   "cell_type": "code",
   "execution_count": 9,
   "metadata": {},
   "outputs": [
    {
     "name": "stdout",
     "output_type": "stream",
     "text": [
      "modkit found with expected version 0.2.4\n"
     ]
    }
   ],
   "source": [
    "from dimelo import parse_bam"
   ]
  },
  {
   "cell_type": "markdown",
   "metadata": {},
   "source": [
    "## Pileup and Update Tags"
   ]
  },
  {
   "cell_type": "markdown",
   "metadata": {},
   "source": [
    "Attempting to parse a malformed BAM file will raise an error, thanks to input BAM format checking. Passing a bam file that doesn't meet the specifications directly to `modkit` will typically result in an empty ouput file; `modkit` will find no valid base modifications and return all-zero data.\n",
    "\n",
    "Megalodon and Guppy bam files are considered malformed because they do not meet the latest .bam spec. Some newer basecallers output correctly formatted files without requiring additional processing.\n",
    "\n",
    "However, `modkit` comes with two tools that can update bam files to meet spec."
   ]
  },
  {
   "cell_type": "code",
   "execution_count": 10,
   "metadata": {},
   "outputs": [
    {
     "name": "stdout",
     "output_type": "stream",
     "text": [
      "This is expected to fail. Read the error message below:\n",
      "\n",
      "\n",
      "Base modification tags are out of spec (Mm and Ml instead of MM and ML). \n",
      "\n",
      "Consider using \"modkit update-tags dimelo/test/data/ctcf_demo.sorted.bam new_file.bam\" in the command line with your conda environment active and then trying with the new file. For megalodon basecalling/modcalling, you may also need to pass \"--mode ambiguous.\n",
      "Be sure to index the resulting .bam file.\"\n",
      "If you are confident that your inputs are ok, pass \"override_checks=True\" to convert to warning and proceed with processing.\n"
     ]
    }
   ],
   "source": [
    "try:\n",
    "    pileup_file, pileup_regions = parse_bam.pileup(\n",
    "        input_file=ctcf_bam_file,\n",
    "        output_name='ctcf_demo_pileup_on_target',\n",
    "        ref_genome=ref_genome_file,\n",
    "        output_directory=output_dir,\n",
    "        regions=[ctcf_target_regions,ctcf_off_target_regions],\n",
    "        motifs=['A,0','CG,0'],\n",
    "        # parsing can optionally specify mod codes. \n",
    "        # The default is Y or a for adenine and m or Z for cytosine, corresponding to methylation\n",
    "        # motifs = ['A,0,Y','CG,0,Z'], \n",
    "        thresh=190,\n",
    "        window_size=1000,\n",
    "        # cores = 1, # uncomment this line if your process appears to be terminating early (reduces memory usage)\n",
    "        # quiet = True,\n",
    "        # cleanup = False,\n",
    "        # log=True,\n",
    "    )\n",
    "    print('The code executed successfully.')\n",
    "except Exception as e:\n",
    "    print('This is expected to fail. Read the error message below:\\n\\n')\n",
    "    print(e)"
   ]
  },
  {
   "cell_type": "markdown",
   "metadata": {},
   "source": [
    "To fix this, follow the suggestion from the error and run `modkit update-tags`..."
   ]
  },
  {
   "cell_type": "code",
   "execution_count": 11,
   "metadata": {},
   "outputs": [
    {
     "name": "stdout",
     "output_type": "stream",
     "text": [
      "\u001b[2K> done, 1024 records processed, 0 failed, 0 skipped                             \n"
     ]
    }
   ],
   "source": [
    "!modkit update-tags \\\n",
    "dimelo/test/data/ctcf_demo.sorted.bam \\\n",
    "dimelo/test/output/ctcf_demo.updated.bam \\\n",
    "--mode ambiguous"
   ]
  },
  {
   "cell_type": "code",
   "execution_count": 12,
   "metadata": {},
   "outputs": [],
   "source": [
    "ctcf_bam_file_updated = output_dir / 'ctcf_demo.updated.bam'"
   ]
  },
  {
   "cell_type": "markdown",
   "metadata": {},
   "source": [
    "...and reindex the resulting file."
   ]
  },
  {
   "cell_type": "code",
   "execution_count": 13,
   "metadata": {},
   "outputs": [
    {
     "data": {
      "text/plain": [
       "''"
      ]
     },
     "execution_count": 13,
     "metadata": {},
     "output_type": "execute_result"
    }
   ],
   "source": [
    "import pysam\n",
    "\n",
    "pysam.index(str(ctcf_bam_file_updated))"
   ]
  },
  {
   "cell_type": "markdown",
   "metadata": {},
   "source": [
    "Finally, the updated .bam file can be parsed, both for pileup and read extraction:"
   ]
  },
  {
   "cell_type": "code",
   "execution_count": 14,
   "metadata": {},
   "outputs": [
    {
     "name": "stdout",
     "output_type": "stream",
     "text": [
      "No specified number of cores requested. 8 available on machine, allocating all.\n",
      "Modification threshold of 190 assumed to be for range 0-255. 190/255=0.7450980392156863 will be sent to modkit.\n"
     ]
    },
    {
     "data": {
      "application/vnd.jupyter.widget-view+json": {
       "model_id": "8a1623f55b504ad89d2c10fe8627e313",
       "version_major": 2,
       "version_minor": 0
      },
      "text/plain": [
       "          | Step 1: Identify motif locations in chm13.draft_v1.0.fasta   0% | 00:00"
      ]
     },
     "metadata": {},
     "output_type": "display_data"
    },
    {
     "data": {
      "application/vnd.jupyter.widget-view+json": {
       "model_id": "4e1a74b9a3944a6c82213bced77e196d",
       "version_major": 2,
       "version_minor": 0
      },
      "text/plain": [
       "          | Step 2: Parse regions in ctcf_demo.updated.bam   0% | 00:00<?"
      ]
     },
     "metadata": {},
     "output_type": "display_data"
    },
    {
     "data": {
      "application/vnd.jupyter.widget-view+json": {
       "model_id": "9b540e7307e64d128f2b13e1cd132757",
       "version_major": 2,
       "version_minor": 0
      },
      "text/plain": [
       "          |    0%"
      ]
     },
     "metadata": {},
     "output_type": "display_data"
    }
   ],
   "source": [
    "pileup_file, pileup_regions = parse_bam.pileup(\n",
    "    input_file=ctcf_bam_file_updated,\n",
    "    output_name='ctcf_demo_pileup_on_target',\n",
    "    ref_genome=ref_genome_file,\n",
    "    output_directory=output_dir,\n",
    "    regions=[ctcf_target_regions,ctcf_off_target_regions],\n",
    "    motifs=['A,0','CG,0'],\n",
    "    # parsing can optionally specify mod codes. \n",
    "    # The default is Y or a for adenine and m or Z for cytosine, corresponding to methylation\n",
    "    # motifs = ['A,0,Y','CG,0,Z'], \n",
    "    thresh=190,\n",
    "    window_size=1000,\n",
    "    # cores = 1, # uncomment this line if your process appears to be terminating early (reduces memory usage)\n",
    "    # quiet = True,\n",
    "    # cleanup = False,\n",
    "    # log=True,\n",
    ")"
   ]
  },
  {
   "cell_type": "markdown",
   "metadata": {},
   "source": [
    "## Extract"
   ]
  },
  {
   "cell_type": "code",
   "execution_count": 15,
   "metadata": {},
   "outputs": [
    {
     "name": "stdout",
     "output_type": "stream",
     "text": [
      "No specified number of cores requested. 8 available on machine, allocating all.\n",
      "Modification threshold of 190 assumed to be for range 0-255. 190/255=0.7450980392156863 will be sent to modkit.\n"
     ]
    },
    {
     "data": {
      "application/vnd.jupyter.widget-view+json": {
       "model_id": "9d4cd5c5f08f473cb2a46350bded375e",
       "version_major": 2,
       "version_minor": 0
      },
      "text/plain": [
       "          | Step 1: Identify motif locations in chm13.draft_v1.0.fasta   0% | 00:00"
      ]
     },
     "metadata": {},
     "output_type": "display_data"
    },
    {
     "data": {
      "application/vnd.jupyter.widget-view+json": {
       "model_id": "e90c13430cf04249979386f288d0e3d1",
       "version_major": 2,
       "version_minor": 0
      },
      "text/plain": [
       "          | Step 2: Parse regions in ctcf_demo.updated.bam   0% | 00:00<?"
      ]
     },
     "metadata": {},
     "output_type": "display_data"
    },
    {
     "data": {
      "application/vnd.jupyter.widget-view+json": {
       "model_id": "75621056044443e7ae53b0aaf63f6dbb",
       "version_major": 2,
       "version_minor": 0
      },
      "text/plain": [
       "          |    0%"
      ]
     },
     "metadata": {},
     "output_type": "display_data"
    },
    {
     "data": {
      "application/vnd.jupyter.widget-view+json": {
       "model_id": "aae3c0b16136481394b9d6ecba6e2dfa",
       "version_major": 2,
       "version_minor": 0
      },
      "text/plain": [
       "          | Transferring 963 from reads.A,0.txt into reads.combined_basemods.h5, new size 963   0% | 00:00<?"
      ]
     },
     "metadata": {},
     "output_type": "display_data"
    },
    {
     "data": {
      "application/vnd.jupyter.widget-view+json": {
       "model_id": "c77c0bbba62944229757ddbde3912306",
       "version_major": 2,
       "version_minor": 0
      },
      "text/plain": [
       "          | Step 1: Identify motif locations in chm13.draft_v1.0.fasta   0% | 00:00"
      ]
     },
     "metadata": {},
     "output_type": "display_data"
    },
    {
     "data": {
      "application/vnd.jupyter.widget-view+json": {
       "model_id": "6afccb6b60974417a785e5b9446b4ff0",
       "version_major": 2,
       "version_minor": 0
      },
      "text/plain": [
       "          | Step 2: Parse regions in ctcf_demo.updated.bam   0% | 00:00<?"
      ]
     },
     "metadata": {},
     "output_type": "display_data"
    },
    {
     "data": {
      "application/vnd.jupyter.widget-view+json": {
       "model_id": "668ebc3d3fdb4a3c82a4e1d2acc16207",
       "version_major": 2,
       "version_minor": 0
      },
      "text/plain": [
       "          |    0%"
      ]
     },
     "metadata": {},
     "output_type": "display_data"
    },
    {
     "data": {
      "application/vnd.jupyter.widget-view+json": {
       "model_id": "b8a4f2edc15b47d2878399f31206e418",
       "version_major": 2,
       "version_minor": 0
      },
      "text/plain": [
       "          | Transferring 963 from reads.CG,0.txt into reads.combined_basemods.h5, new size 1926   0% | 00:00<?"
      ]
     },
     "metadata": {},
     "output_type": "display_data"
    }
   ],
   "source": [
    "extract_file, extract_regions = parse_bam.extract(\n",
    "    input_file=ctcf_bam_file_updated,\n",
    "    output_name='ctcf_demo_extract',\n",
    "    ref_genome=ref_genome_file,\n",
    "    output_directory=output_dir,\n",
    "    regions=[ctcf_target_regions,ctcf_off_target_regions],\n",
    "    motifs=['A,0','CG,0'],\n",
    "    # parsing can optionally specify mod codes. \n",
    "    # The default is Y or a for adenine and m or Z for cytosine, corresponding to methylation\n",
    "    # motifs = ['A,0,Y','CG,0,Z'], \n",
    "    thresh=190,\n",
    "    window_size=1000,\n",
    "    # cores = 1, # uncomment this line if your process appears to be terminating early (reduces memory usage)\n",
    "    # quiet = True,\n",
    "    # cleanup = False,\n",
    "    # log=True,\n",
    ")"
   ]
  },
  {
   "cell_type": "markdown",
   "metadata": {},
   "source": [
    "# Plotting"
   ]
  },
  {
   "cell_type": "markdown",
   "metadata": {},
   "source": [
    "## Plot Enrichment Profile"
   ]
  },
  {
   "cell_type": "code",
   "execution_count": 16,
   "metadata": {},
   "outputs": [],
   "source": [
    "from dimelo import plot_enrichment_profile"
   ]
  },
  {
   "cell_type": "code",
   "execution_count": 17,
   "metadata": {},
   "outputs": [
    {
     "data": {
      "text/plain": [
       "<Axes: xlabel='pos', ylabel='fraction modified bases'>"
      ]
     },
     "execution_count": 17,
     "metadata": {},
     "output_type": "execute_result"
    },
    {
     "data": {
      "image/png": "[encoded data removed]",
      "text/plain": [
       "<Figure size 400x200 with 1 Axes>"
      ]
     },
     "metadata": {},
     "output_type": "display_data"
    }
   ],
   "source": [
    "plt.figure(figsize=(4, 2)) # If you want a different sized plot, you can us matplotlib commands\n",
    "plot_enrichment_profile.by_modification(\n",
    "    mod_file_name=pileup_file,\n",
    "    regions=ctcf_target_regions,\n",
    "    window_size=1000,\n",
    "    motifs=['A,0','CG,0'],\n",
    "    single_strand=False, # if set to True, regions that specify the strand will only pull from reads on the strand (as opposed to both strands)\n",
    "    regions_5to3prime=False, # if set to True, regions on the reverse (-) strand will be flipped so everything is 5 prime to 3 prime\n",
    "    smooth_window=50,\n",
    "    palette = { # you can pass down kwargs to sns barplot if you want to\n",
    "        'A,0':'blue',\n",
    "        'CG,0':'orange'\n",
    "    }\n",
    ")"
   ]
  },
  {
   "cell_type": "code",
   "execution_count": 18,
   "metadata": {},
   "outputs": [
    {
     "data": {
      "text/plain": [
       "Text(0, 0.5, 'mA/A')"
      ]
     },
     "execution_count": 18,
     "metadata": {},
     "output_type": "execute_result"
    },
    {
     "data": {
      "image/png": "[encoded data removed]",
      "text/plain": [
       "<Figure size 640x480 with 1 Axes>"
      ]
     },
     "metadata": {},
     "output_type": "display_data"
    }
   ],
   "source": [
    "plot_enrichment_profile.by_regions(\n",
    "    mod_file_name=pileup_file,\n",
    "    regions_list=[ctcf_target_regions,ctcf_off_target_regions],\n",
    "    window_size=1000,\n",
    "    motif='A,0',\n",
    "    single_strand=False, # if set to True, regions that specify the strand will only pull from reads on the strand (as opposed to both strands)\n",
    "    regions_5to3prime=False, # if set to True, regions on the reverse (-) strand will be flipped so everything is 5 prime to 3 prime\n",
    "    smooth_window=50,\n",
    ")\n",
    "plt.xlabel('position relative to center of feature')\n",
    "plt.ylabel('mA/A') # You can also use matplotlib commands to rename axes and more"
   ]
  },
  {
   "cell_type": "markdown",
   "metadata": {},
   "source": [
    "## Plot Enrichment"
   ]
  },
  {
   "cell_type": "code",
   "execution_count": 19,
   "metadata": {},
   "outputs": [],
   "source": [
    "from dimelo import plot_enrichment"
   ]
  },
  {
   "cell_type": "code",
   "execution_count": 20,
   "metadata": {},
   "outputs": [
    {
     "data": {
      "text/plain": [
       "<Axes: ylabel='fraction modified bases'>"
      ]
     },
     "execution_count": 20,
     "metadata": {},
     "output_type": "execute_result"
    },
    {
     "data": {
      "image/png": "[encoded data removed]",
      "text/plain": [
       "<Figure size 640x480 with 1 Axes>"
      ]
     },
     "metadata": {},
     "output_type": "display_data"
    }
   ],
   "source": [
    "plot_enrichment.by_regions(\n",
    "    mod_file_name=pileup_file,\n",
    "    regions_list=[ctcf_target_regions, ctcf_off_target_regions],\n",
    "    motif='A,0',\n",
    "    single_strand=False, # if set to True, regions that specify the strand will only pull from reads on the strand (as opposed to both strands)\n",
    "    sample_names=['on target', 'off target'],\n",
    "    )"
   ]
  },
  {
   "cell_type": "code",
   "execution_count": 21,
   "metadata": {},
   "outputs": [
    {
     "data": {
      "text/plain": [
       "Text(0.5, 1.0, 'dimelo/test/data/ctcf_demo_peak.bed')"
      ]
     },
     "execution_count": 21,
     "metadata": {},
     "output_type": "execute_result"
    },
    {
     "data": {
      "image/png": "[encoded data removed]",
      "text/plain": [
       "<Figure size 640x480 with 1 Axes>"
      ]
     },
     "metadata": {},
     "output_type": "display_data"
    }
   ],
   "source": [
    "plot_enrichment.by_modification(\n",
    "    mod_file_name=pileup_file,\n",
    "    regions=ctcf_target_regions,\n",
    "    motifs=['A,0','CG,0'],\n",
    "    single_strand=False, # if set to True, regions that specify the strand will only pull from reads on the strand (as opposed to both strands)\n",
    "    )\n",
    "plt.title(ctcf_target_regions)"
   ]
  },
  {
   "cell_type": "code",
   "execution_count": 22,
   "metadata": {},
   "outputs": [
    {
     "data": {
      "text/plain": [
       "Text(0.5, 1.0, 'dimelo/test/data/ctcf_demo_not_peak.bed')"
      ]
     },
     "execution_count": 22,
     "metadata": {},
     "output_type": "execute_result"
    },
    {
     "data": {
      "image/png": "[encoded data removed]",
      "text/plain": [
       "<Figure size 640x480 with 1 Axes>"
      ]
     },
     "metadata": {},
     "output_type": "display_data"
    }
   ],
   "source": [
    "plot_enrichment.by_modification(\n",
    "    mod_file_name=pileup_file,\n",
    "    regions=ctcf_off_target_regions,\n",
    "    motifs=['A,0','CG,0'],\n",
    "    single_strand=False, # if set to True, regions that specify the strand will only pull from reads on the strand (as opposed to both strands)\n",
    "    )\n",
    "plt.title(ctcf_off_target_regions)"
   ]
  },
  {
   "cell_type": "markdown",
   "metadata": {},
   "source": [
    "## Plot Reads"
   ]
  },
  {
   "cell_type": "code",
   "execution_count": 23,
   "metadata": {},
   "outputs": [],
   "source": [
    "from dimelo import plot_reads"
   ]
  },
  {
   "cell_type": "code",
   "execution_count": 24,
   "metadata": {},
   "outputs": [
    {
     "data": {
      "text/plain": [
       "Text(0.5, 1.0, \"CTCF target data, 100 known binding locations\\nsort_by=['shuffle'] i.e. default\")"
      ]
     },
     "execution_count": 24,
     "metadata": {},
     "output_type": "execute_result"
    },
    {
     "data": {
      "image/png": "[encoded data removed]",
      "text/plain": [
       "<Figure size 640x480 with 1 Axes>"
      ]
     },
     "metadata": {},
     "output_type": "display_data"
    }
   ],
   "source": [
    "plot_reads.plot_reads(\n",
    "    mod_file_name=extract_file,\n",
    "    regions=ctcf_target_regions,\n",
    "    motifs=['A,0', 'CG,0'],\n",
    "    window_size=1000,\n",
    "    single_strand=False, # if set to True, regions that specify the strand will only pull from reads on the strand (as opposed to both strands)\n",
    "    regions_5to3prime=False, # if set to True, regions on the reverse (-) strand will be flipped so everything is 5 prime to 3 prime\n",
    ")\n",
    "plt.title(\"CTCF target data, 100 known binding locations\\nsort_by=['shuffle'] i.e. default\")"
   ]
  },
  {
   "cell_type": "markdown",
   "metadata": {},
   "source": [
    "## Plot Browser"
   ]
  },
  {
   "cell_type": "markdown",
   "metadata": {},
   "source": [
    "The read browser plot lets you see modification locations and probabilities in the same visualization. While the `pileup` operation and downstream plots by definition requires a threshold, but plot browser requires raw probabilities. Read extraction can be run with *either* binary modification calls *or* raw probabilities. Run the cell below to re-extract the single reads but with raw base modification probabilities for plot browser."
   ]
  },
  {
   "cell_type": "code",
   "execution_count": 25,
   "metadata": {},
   "outputs": [],
   "source": [
    "from dimelo import plot_read_browser"
   ]
  },
  {
   "cell_type": "code",
   "execution_count": 26,
   "metadata": {},
   "outputs": [
    {
     "name": "stdout",
     "output_type": "stream",
     "text": [
      "This is expected to fail. Read the error message below:\n",
      "\n",
      "\n",
      "A threshold has been applied to this .h5 single read data. plot_read_browser must be used with an .h5 file extracted using thresh=None.\n"
     ]
    }
   ],
   "source": [
    "try:\n",
    "    plot_read_browser.plot_read_browser(\n",
    "    mod_file_name=extract_file,\n",
    "    region='chr1:114357437-114359753', # you can only browser a single region, not a bed file or list of regions.\n",
    "    # The only cap on region size is your computer's memory and your patience\n",
    "    motifs=['CG,0','A,0'],\n",
    "    thresh=0.5,\n",
    "    single_strand=False,\n",
    "    sort_by=\"collapse\",#you can sort by anything that the loading function accepts, but the special \"collapse\" option doesn't allow other sorting\n",
    "    hover=False, #turning off hover will remove the hoverover read names and other info \n",
    "    )\n",
    "except Exception as e:\n",
    "    print('This is expected to fail. Read the error message below:\\n\\n')\n",
    "    print(e)"
   ]
  },
  {
   "cell_type": "code",
   "execution_count": 27,
   "metadata": {},
   "outputs": [
    {
     "name": "stdout",
     "output_type": "stream",
     "text": [
      "No specified number of cores requested. 8 available on machine, allocating all.\n",
      "No valid base modification threshold provided. Raw probs will be saved.\n"
     ]
    },
    {
     "data": {
      "application/vnd.jupyter.widget-view+json": {
       "model_id": "59dac2f2be7a45f5ba2be5debaf6f61e",
       "version_major": 2,
       "version_minor": 0
      },
      "text/plain": [
       "          | Step 1: Identify motif locations in chm13.draft_v1.0.fasta   0% | 00:00"
      ]
     },
     "metadata": {},
     "output_type": "display_data"
    },
    {
     "data": {
      "application/vnd.jupyter.widget-view+json": {
       "model_id": "608a003f29ba4b45b6939a453d479d7d",
       "version_major": 2,
       "version_minor": 0
      },
      "text/plain": [
       "          | Step 2: Parse regions in ctcf_demo.updated.bam   0% | 00:00<?"
      ]
     },
     "metadata": {},
     "output_type": "display_data"
    },
    {
     "data": {
      "application/vnd.jupyter.widget-view+json": {
       "model_id": "679d31751e1746cc83a2049e7f2664ba",
       "version_major": 2,
       "version_minor": 0
      },
      "text/plain": [
       "          |    0%"
      ]
     },
     "metadata": {},
     "output_type": "display_data"
    },
    {
     "data": {
      "application/vnd.jupyter.widget-view+json": {
       "model_id": "60ead9f7585b4b0ca68e98f646a181bb",
       "version_major": 2,
       "version_minor": 0
      },
      "text/plain": [
       "          | Transferring 963 from reads.A,0.txt into reads.combined_basemods.h5, new size 963   0% | 00:00<?"
      ]
     },
     "metadata": {},
     "output_type": "display_data"
    },
    {
     "data": {
      "application/vnd.jupyter.widget-view+json": {
       "model_id": "d1d0c4438ff84e0e88a440a7478177b5",
       "version_major": 2,
       "version_minor": 0
      },
      "text/plain": [
       "          | Step 1: Identify motif locations in chm13.draft_v1.0.fasta   0% | 00:00"
      ]
     },
     "metadata": {},
     "output_type": "display_data"
    },
    {
     "data": {
      "application/vnd.jupyter.widget-view+json": {
       "model_id": "00f8afd5ece24a4db80677f39c86c4cc",
       "version_major": 2,
       "version_minor": 0
      },
      "text/plain": [
       "          | Step 2: Parse regions in ctcf_demo.updated.bam   0% | 00:00<?"
      ]
     },
     "metadata": {},
     "output_type": "display_data"
    },
    {
     "data": {
      "application/vnd.jupyter.widget-view+json": {
       "model_id": "d6313ab2e555441e95623a3aea1e9cf0",
       "version_major": 2,
       "version_minor": 0
      },
      "text/plain": [
       "          |    0%"
      ]
     },
     "metadata": {},
     "output_type": "display_data"
    },
    {
     "data": {
      "application/vnd.jupyter.widget-view+json": {
       "model_id": "0653305540804d73b200885185712178",
       "version_major": 2,
       "version_minor": 0
      },
      "text/plain": [
       "          | Transferring 963 from reads.CG,0.txt into reads.combined_basemods.h5, new size 1926   0% | 00:00<?"
      ]
     },
     "metadata": {},
     "output_type": "display_data"
    }
   ],
   "source": [
    "extract_file_no_thresh, _ = parse_bam.extract(\n",
    "    input_file=ctcf_bam_file_updated,\n",
    "    output_name='ctcf_demo_extract_no_thresh',\n",
    "    ref_genome=ref_genome_file,\n",
    "    output_directory=output_dir,\n",
    "    regions=[ctcf_target_regions,ctcf_off_target_regions],\n",
    "    motifs=['A,0','CG,0'],\n",
    "    # parsing can optionally specify mod codes. \n",
    "    # The default is Y or a for adenine and m or Z for cytosine, corresponding to methylation\n",
    "    # motifs = ['A,0,Y','CG,0,Z'], \n",
    "    # thresh=190,\n",
    "    window_size=1000,\n",
    "    # cores = 1, # uncomment this line if your process appears to be terminating early (reduces memory usage)\n",
    "    # quiet = True,\n",
    "    # cleanup = False,\n",
    "    # log=True,\n",
    ")"
   ]
  },
  {
   "cell_type": "code",
   "execution_count": 28,
   "metadata": {},
   "outputs": [
    {
     "data": {
      "application/vnd.plotly.v1+json": {
       "config": {
        "plotlyServerURL": "https://plot.ly"
       },
       "data": [
        {
         "hoverinfo": "text",
         "hovertext": "bd15781e-a765-43ba-b641-64cff386435f",
         "line": {
          "color": "lightgrey",
          "width": 1
         },
         "mode": "lines",
         "showlegend": false,
         "type": "scatter",
         "x": [
          114272757,
          114371007
         ],
         "y": [
          2,
          2
         ]
        },
        {
         "hoverinfo": "text",
         "hovertext": "62f58ea9-6228-4b3c-a00d-e8e4377c2d9a",
         "line": {
          "color": "lightgrey",
          "width": 1
         },
         "mode": "lines",
         "showlegend": false,
         "type": "scatter",
         "x": [
          114273549,
          114407394
         ],
         "y": [
          0,
          0
         ]
        },
        {
         "hoverinfo": "text",
         "hovertext": "f2f48fe0-36ac-4af3-8551-f3afc13b64df",
         "line": {
          "color": "lightgrey",
          "width": 1
         },
         "mode": "lines",
         "showlegend": false,
         "type": "scatter",
         "x": [
          114286982,
          114389604
         ],
         "y": [
          1,
          1
         ]
        },
        {
         "hoverinfo": "text",
         "hovertext": "8a461cc7-ebdc-4456-98a6-afbd85560245",
         "line": {
          "color": "lightgrey",
          "width": 1
         },
         "mode": "lines",
         "showlegend": false,
         "type": "scatter",
         "x": [
          114320500,
          114366576
         ],
         "y": [
          7,
          7
         ]
        },
        {
         "hoverinfo": "text",
         "hovertext": "1ad45bea-ccfe-4f2f-b727-d8280358f0b0",
         "line": {
          "color": "lightgrey",
          "width": 1
         },
         "mode": "lines",
         "showlegend": false,
         "type": "scatter",
         "x": [
          114323087,
          114361162
         ],
         "y": [
          11,
          11
         ]
        },
        {
         "hoverinfo": "text",
         "hovertext": "4c30ceba-4a6a-41ba-8906-293ba44965d1",
         "line": {
          "color": "lightgrey",
          "width": 1
         },
         "mode": "lines",
         "showlegend": false,
         "type": "scatter",
         "x": [
          114324537,
          114362163
         ],
         "y": [
          12,
          12
         ]
        },
        {
         "hoverinfo": "text",
         "hovertext": "8db57d1c-ad62-47bc-a1fa-77489954f766",
         "line": {
          "color": "lightgrey",
          "width": 1
         },
         "mode": "lines",
         "showlegend": false,
         "type": "scatter",
         "x": [
          114325720,
          114376439
         ],
         "y": [
          5,
          5
         ]
        },
        {
         "hoverinfo": "text",
         "hovertext": "c4269dbc-9387-4644-a195-bab0ab597d21",
         "line": {
          "color": "lightgrey",
          "width": 1
         },
         "mode": "lines",
         "showlegend": false,
         "type": "scatter",
         "x": [
          114332522,
          114390219
         ],
         "y": [
          4,
          4
         ]
        },
        {
         "hoverinfo": "text",
         "hovertext": "c299b672-9ba1-430b-ae22-43d7591eead8",
         "line": {
          "color": "lightgrey",
          "width": 1
         },
         "mode": "lines",
         "showlegend": false,
         "type": "scatter",
         "x": [
          114332525,
          114377428
         ],
         "y": [
          8,
          8
         ]
        },
        {
         "hoverinfo": "text",
         "hovertext": "1b72803e-adef-4222-a6ac-262f2dd04db8",
         "line": {
          "color": "lightgrey",
          "width": 1
         },
         "mode": "lines",
         "showlegend": false,
         "type": "scatter",
         "x": [
          114338510,
          114368055
         ],
         "y": [
          16,
          16
         ]
        },
        {
         "hoverinfo": "text",
         "hovertext": "9ae3a9ec-de2b-4678-80c5-82ef5b18d7af",
         "line": {
          "color": "lightgrey",
          "width": 1
         },
         "mode": "lines",
         "showlegend": false,
         "type": "scatter",
         "x": [
          114339863,
          114386990
         ],
         "y": [
          6,
          6
         ]
        },
        {
         "hoverinfo": "text",
         "hovertext": "66ca78ed-7f5e-4af3-93cd-0ceb736246ec",
         "line": {
          "color": "lightgrey",
          "width": 1
         },
         "mode": "lines",
         "showlegend": false,
         "type": "scatter",
         "x": [
          114341066,
          114379357
         ],
         "y": [
          10,
          10
         ]
        },
        {
         "hoverinfo": "text",
         "hovertext": "c06c775e-9473-423d-bb0f-48aaad4a7ad6",
         "line": {
          "color": "lightgrey",
          "width": 1
         },
         "mode": "lines",
         "showlegend": false,
         "type": "scatter",
         "x": [
          114341117,
          114371835
         ],
         "y": [
          15,
          15
         ]
        },
        {
         "hoverinfo": "text",
         "hovertext": "bdde52cf-4aed-42f6-80e5-e2c02b86596c",
         "line": {
          "color": "lightgrey",
          "width": 1
         },
         "mode": "lines",
         "showlegend": false,
         "type": "scatter",
         "x": [
          114343597,
          114405294
         ],
         "y": [
          3,
          3
         ]
        },
        {
         "hoverinfo": "text",
         "hovertext": "81abd2b7-68a5-44ce-9d92-c5790e68f0b6",
         "line": {
          "color": "lightgrey",
          "width": 1
         },
         "mode": "lines",
         "showlegend": false,
         "type": "scatter",
         "x": [
          114346047,
          114359121
         ],
         "y": [
          23,
          23
         ]
        },
        {
         "hoverinfo": "text",
         "hovertext": "d2f5df66-fe62-4723-b360-572dec3493c8",
         "line": {
          "color": "lightgrey",
          "width": 1
         },
         "mode": "lines",
         "showlegend": false,
         "type": "scatter",
         "x": [
          114347104,
          114372936
         ],
         "y": [
          19,
          19
         ]
        },
        {
         "hoverinfo": "text",
         "hovertext": "a865b338-ab12-4c49-910e-f4ef80af8677",
         "line": {
          "color": "lightgrey",
          "width": 1
         },
         "mode": "lines",
         "showlegend": false,
         "type": "scatter",
         "x": [
          114348722,
          114383387
         ],
         "y": [
          14,
          14
         ]
        },
        {
         "hoverinfo": "text",
         "hovertext": "34f01854-c28c-4ec6-a5ff-635d1327b18d",
         "line": {
          "color": "lightgrey",
          "width": 1
         },
         "mode": "lines",
         "showlegend": false,
         "type": "scatter",
         "x": [
          114349315,
          114373482
         ],
         "y": [
          20,
          20
         ]
        },
        {
         "hoverinfo": "text",
         "hovertext": "a054616a-0028-4b5e-877f-53b611ad2767",
         "line": {
          "color": "lightgrey",
          "width": 1
         },
         "mode": "lines",
         "showlegend": false,
         "type": "scatter",
         "x": [
          114350271,
          114372234
         ],
         "y": [
          21,
          21
         ]
        },
        {
         "hoverinfo": "text",
         "hovertext": "5a71d07f-4b9a-487c-8fa0-b9a26e2c626c",
         "line": {
          "color": "lightgrey",
          "width": 1
         },
         "mode": "lines",
         "showlegend": false,
         "type": "scatter",
         "x": [
          114352078,
          114359682
         ],
         "y": [
          24,
          24
         ]
        },
        {
         "hoverinfo": "text",
         "hovertext": "b1e7ffc8-b74a-4b98-bb8f-a5f3f8fcb3b7",
         "line": {
          "color": "lightgrey",
          "width": 1
         },
         "mode": "lines",
         "showlegend": false,
         "type": "scatter",
         "x": [
          114352748,
          114379429
         ],
         "y": [
          18,
          18
         ]
        },
        {
         "hoverinfo": "text",
         "hovertext": "7e3be4d2-be0b-4eda-91fb-d56b0df8d9ec",
         "line": {
          "color": "lightgrey",
          "width": 1
         },
         "mode": "lines",
         "showlegend": false,
         "type": "scatter",
         "x": [
          114353092,
          114381301
         ],
         "y": [
          17,
          17
         ]
        },
        {
         "hoverinfo": "text",
         "hovertext": "a6fcae27-656a-4f86-b117-02fee057fab6",
         "line": {
          "color": "lightgrey",
          "width": 1
         },
         "mode": "lines",
         "showlegend": false,
         "type": "scatter",
         "x": [
          114353689,
          114360654
         ],
         "y": [
          25,
          25
         ]
        },
        {
         "hoverinfo": "text",
         "hovertext": "49025607-57f8-4319-adfb-1d30dc5fca5a",
         "line": {
          "color": "lightgrey",
          "width": 1
         },
         "mode": "lines",
         "showlegend": false,
         "type": "scatter",
         "x": [
          114353874,
          114393731
         ],
         "y": [
          9,
          9
         ]
        },
        {
         "hoverinfo": "text",
         "hovertext": "0254472b-d540-423f-8589-cd6bc16c74c9",
         "line": {
          "color": "lightgrey",
          "width": 1
         },
         "mode": "lines",
         "showlegend": false,
         "type": "scatter",
         "x": [
          114354714,
          114376509
         ],
         "y": [
          22,
          22
         ]
        },
        {
         "hoverinfo": "text",
         "hovertext": "09ad09ac-fe99-4e99-9fe4-d308c41538d8",
         "line": {
          "color": "lightgrey",
          "width": 1
         },
         "mode": "lines",
         "showlegend": false,
         "type": "scatter",
         "x": [
          114356767,
          114393905
         ],
         "y": [
          13,
          13
         ]
        },
        {
         "hoverinfo": "text",
         "hovertext": "ce306fa9-2d47-45dc-8d7a-2294fdcd5e25",
         "line": {
          "color": "lightgrey",
          "width": 1
         },
         "mode": "lines",
         "showlegend": false,
         "type": "scatter",
         "x": [
          114357416,
          114360136
         ],
         "y": [
          26,
          26
         ]
        },
        {
         "customdata": [
          [
           "f2f48fe0-36ac-4af3-8551-f3afc13b64df",
           0.556640625
          ],
          [
           "f2f48fe0-36ac-4af3-8551-f3afc13b64df",
           0.599609375
          ],
          [
           "f2f48fe0-36ac-4af3-8551-f3afc13b64df",
           0.783203125
          ],
          [
           "f2f48fe0-36ac-4af3-8551-f3afc13b64df",
           0.822265625
          ],
          [
           "f2f48fe0-36ac-4af3-8551-f3afc13b64df",
           0.865234375
          ],
          [
           "f2f48fe0-36ac-4af3-8551-f3afc13b64df",
           0.912109375
          ],
          [
           "f2f48fe0-36ac-4af3-8551-f3afc13b64df",
           0.794921875
          ],
          [
           "f2f48fe0-36ac-4af3-8551-f3afc13b64df",
           0.552734375
          ],
          [
           "f2f48fe0-36ac-4af3-8551-f3afc13b64df",
           0.576171875
          ],
          [
           "f2f48fe0-36ac-4af3-8551-f3afc13b64df",
           0.931640625
          ],
          [
           "f2f48fe0-36ac-4af3-8551-f3afc13b64df",
           0.779296875
          ],
          [
           "f2f48fe0-36ac-4af3-8551-f3afc13b64df",
           0.548828125
          ],
          [
           "f2f48fe0-36ac-4af3-8551-f3afc13b64df",
           0.544921875
          ],
          [
           "f2f48fe0-36ac-4af3-8551-f3afc13b64df",
           0.826171875
          ],
          [
           "f2f48fe0-36ac-4af3-8551-f3afc13b64df",
           0.962890625
          ],
          [
           "f2f48fe0-36ac-4af3-8551-f3afc13b64df",
           0.513671875
          ],
          [
           "f2f48fe0-36ac-4af3-8551-f3afc13b64df",
           0.759765625
          ],
          [
           "f2f48fe0-36ac-4af3-8551-f3afc13b64df",
           0.689453125
          ],
          [
           "f2f48fe0-36ac-4af3-8551-f3afc13b64df",
           0.892578125
          ],
          [
           "f2f48fe0-36ac-4af3-8551-f3afc13b64df",
           0.884765625
          ],
          [
           "f2f48fe0-36ac-4af3-8551-f3afc13b64df",
           0.970703125
          ],
          [
           "f2f48fe0-36ac-4af3-8551-f3afc13b64df",
           0.970703125
          ],
          [
           "f2f48fe0-36ac-4af3-8551-f3afc13b64df",
           0.970703125
          ],
          [
           "f2f48fe0-36ac-4af3-8551-f3afc13b64df",
           0.939453125
          ],
          [
           "f2f48fe0-36ac-4af3-8551-f3afc13b64df",
           0.783203125
          ],
          [
           "f2f48fe0-36ac-4af3-8551-f3afc13b64df",
           0.849609375
          ],
          [
           "f2f48fe0-36ac-4af3-8551-f3afc13b64df",
           0.779296875
          ],
          [
           "f2f48fe0-36ac-4af3-8551-f3afc13b64df",
           0.673828125
          ],
          [
           "f2f48fe0-36ac-4af3-8551-f3afc13b64df",
           0.904296875
          ],
          [
           "f2f48fe0-36ac-4af3-8551-f3afc13b64df",
           0.814453125
          ],
          [
           "f2f48fe0-36ac-4af3-8551-f3afc13b64df",
           0.841796875
          ],
          [
           "f2f48fe0-36ac-4af3-8551-f3afc13b64df",
           0.794921875
          ],
          [
           "f2f48fe0-36ac-4af3-8551-f3afc13b64df",
           0.822265625
          ],
          [
           "f2f48fe0-36ac-4af3-8551-f3afc13b64df",
           0.833984375
          ],
          [
           "f2f48fe0-36ac-4af3-8551-f3afc13b64df",
           0.802734375
          ],
          [
           "f2f48fe0-36ac-4af3-8551-f3afc13b64df",
           0.763671875
          ],
          [
           "f2f48fe0-36ac-4af3-8551-f3afc13b64df",
           0.767578125
          ],
          [
           "f2f48fe0-36ac-4af3-8551-f3afc13b64df",
           0.630859375
          ],
          [
           "f2f48fe0-36ac-4af3-8551-f3afc13b64df",
           0.998046875
          ],
          [
           "8a461cc7-ebdc-4456-98a6-afbd85560245",
           0.587890625
          ],
          [
           "8a461cc7-ebdc-4456-98a6-afbd85560245",
           0.748046875
          ],
          [
           "8a461cc7-ebdc-4456-98a6-afbd85560245",
           0.857421875
          ],
          [
           "8a461cc7-ebdc-4456-98a6-afbd85560245",
           0.525390625
          ],
          [
           "8a461cc7-ebdc-4456-98a6-afbd85560245",
           0.564453125
          ],
          [
           "8a461cc7-ebdc-4456-98a6-afbd85560245",
           0.736328125
          ],
          [
           "8a461cc7-ebdc-4456-98a6-afbd85560245",
           0.978515625
          ],
          [
           "8a461cc7-ebdc-4456-98a6-afbd85560245",
           0.861328125
          ],
          [
           "8a461cc7-ebdc-4456-98a6-afbd85560245",
           0.865234375
          ],
          [
           "8a461cc7-ebdc-4456-98a6-afbd85560245",
           0.712890625
          ],
          [
           "8a461cc7-ebdc-4456-98a6-afbd85560245",
           0.720703125
          ],
          [
           "8a461cc7-ebdc-4456-98a6-afbd85560245",
           0.673828125
          ],
          [
           "8a461cc7-ebdc-4456-98a6-afbd85560245",
           0.892578125
          ],
          [
           "8a461cc7-ebdc-4456-98a6-afbd85560245",
           0.623046875
          ],
          [
           "8a461cc7-ebdc-4456-98a6-afbd85560245",
           0.751953125
          ],
          [
           "8a461cc7-ebdc-4456-98a6-afbd85560245",
           0.830078125
          ],
          [
           "8a461cc7-ebdc-4456-98a6-afbd85560245",
           0.771484375
          ],
          [
           "8a461cc7-ebdc-4456-98a6-afbd85560245",
           0.880859375
          ],
          [
           "8a461cc7-ebdc-4456-98a6-afbd85560245",
           0.669921875
          ],
          [
           "8a461cc7-ebdc-4456-98a6-afbd85560245",
           0.955078125
          ],
          [
           "8a461cc7-ebdc-4456-98a6-afbd85560245",
           0.978515625
          ],
          [
           "8a461cc7-ebdc-4456-98a6-afbd85560245",
           0.900390625
          ],
          [
           "8a461cc7-ebdc-4456-98a6-afbd85560245",
           0.576171875
          ],
          [
           "8a461cc7-ebdc-4456-98a6-afbd85560245",
           0.857421875
          ],
          [
           "8a461cc7-ebdc-4456-98a6-afbd85560245",
           0.822265625
          ],
          [
           "8a461cc7-ebdc-4456-98a6-afbd85560245",
           0.771484375
          ],
          [
           "8a461cc7-ebdc-4456-98a6-afbd85560245",
           0.826171875
          ],
          [
           "8a461cc7-ebdc-4456-98a6-afbd85560245",
           0.880859375
          ],
          [
           "8a461cc7-ebdc-4456-98a6-afbd85560245",
           0.533203125
          ],
          [
           "8a461cc7-ebdc-4456-98a6-afbd85560245",
           0.673828125
          ],
          [
           "8a461cc7-ebdc-4456-98a6-afbd85560245",
           0.783203125
          ],
          [
           "8a461cc7-ebdc-4456-98a6-afbd85560245",
           0.681640625
          ],
          [
           "8a461cc7-ebdc-4456-98a6-afbd85560245",
           0.865234375
          ],
          [
           "8a461cc7-ebdc-4456-98a6-afbd85560245",
           0.619140625
          ],
          [
           "8a461cc7-ebdc-4456-98a6-afbd85560245",
           0.908203125
          ],
          [
           "8a461cc7-ebdc-4456-98a6-afbd85560245",
           0.966796875
          ],
          [
           "8a461cc7-ebdc-4456-98a6-afbd85560245",
           0.865234375
          ],
          [
           "8a461cc7-ebdc-4456-98a6-afbd85560245",
           0.720703125
          ],
          [
           "8a461cc7-ebdc-4456-98a6-afbd85560245",
           0.767578125
          ],
          [
           "8a461cc7-ebdc-4456-98a6-afbd85560245",
           0.748046875
          ],
          [
           "8a461cc7-ebdc-4456-98a6-afbd85560245",
           0.595703125
          ],
          [
           "8a461cc7-ebdc-4456-98a6-afbd85560245",
           0.833984375
          ],
          [
           "8a461cc7-ebdc-4456-98a6-afbd85560245",
           0.935546875
          ],
          [
           "8a461cc7-ebdc-4456-98a6-afbd85560245",
           0.900390625
          ],
          [
           "8a461cc7-ebdc-4456-98a6-afbd85560245",
           0.767578125
          ],
          [
           "8a461cc7-ebdc-4456-98a6-afbd85560245",
           0.919921875
          ],
          [
           "8a461cc7-ebdc-4456-98a6-afbd85560245",
           0.982421875
          ],
          [
           "8a461cc7-ebdc-4456-98a6-afbd85560245",
           0.759765625
          ],
          [
           "8a461cc7-ebdc-4456-98a6-afbd85560245",
           0.837890625
          ],
          [
           "8a461cc7-ebdc-4456-98a6-afbd85560245",
           0.556640625
          ],
          [
           "8a461cc7-ebdc-4456-98a6-afbd85560245",
           0.857421875
          ],
          [
           "8a461cc7-ebdc-4456-98a6-afbd85560245",
           0.634765625
          ],
          [
           "8a461cc7-ebdc-4456-98a6-afbd85560245",
           0.599609375
          ],
          [
           "8a461cc7-ebdc-4456-98a6-afbd85560245",
           0.650390625
          ],
          [
           "8a461cc7-ebdc-4456-98a6-afbd85560245",
           0.759765625
          ],
          [
           "8a461cc7-ebdc-4456-98a6-afbd85560245",
           0.904296875
          ],
          [
           "8a461cc7-ebdc-4456-98a6-afbd85560245",
           0.998046875
          ],
          [
           "8a461cc7-ebdc-4456-98a6-afbd85560245",
           0.533203125
          ],
          [
           "8a461cc7-ebdc-4456-98a6-afbd85560245",
           0.599609375
          ],
          [
           "8a461cc7-ebdc-4456-98a6-afbd85560245",
           0.978515625
          ],
          [
           "8a461cc7-ebdc-4456-98a6-afbd85560245",
           0.677734375
          ],
          [
           "8a461cc7-ebdc-4456-98a6-afbd85560245",
           0.689453125
          ],
          [
           "1ad45bea-ccfe-4f2f-b727-d8280358f0b0",
           0.603515625
          ],
          [
           "1ad45bea-ccfe-4f2f-b727-d8280358f0b0",
           0.791015625
          ],
          [
           "1ad45bea-ccfe-4f2f-b727-d8280358f0b0",
           0.849609375
          ],
          [
           "1ad45bea-ccfe-4f2f-b727-d8280358f0b0",
           0.884765625
          ],
          [
           "1ad45bea-ccfe-4f2f-b727-d8280358f0b0",
           0.525390625
          ],
          [
           "1ad45bea-ccfe-4f2f-b727-d8280358f0b0",
           0.826171875
          ],
          [
           "1ad45bea-ccfe-4f2f-b727-d8280358f0b0",
           0.919921875
          ],
          [
           "1ad45bea-ccfe-4f2f-b727-d8280358f0b0",
           0.689453125
          ],
          [
           "1ad45bea-ccfe-4f2f-b727-d8280358f0b0",
           0.783203125
          ],
          [
           "1ad45bea-ccfe-4f2f-b727-d8280358f0b0",
           0.623046875
          ],
          [
           "1ad45bea-ccfe-4f2f-b727-d8280358f0b0",
           0.591796875
          ],
          [
           "1ad45bea-ccfe-4f2f-b727-d8280358f0b0",
           0.966796875
          ],
          [
           "1ad45bea-ccfe-4f2f-b727-d8280358f0b0",
           0.841796875
          ],
          [
           "1ad45bea-ccfe-4f2f-b727-d8280358f0b0",
           0.853515625
          ],
          [
           "1ad45bea-ccfe-4f2f-b727-d8280358f0b0",
           0.697265625
          ],
          [
           "1ad45bea-ccfe-4f2f-b727-d8280358f0b0",
           0.806640625
          ],
          [
           "1ad45bea-ccfe-4f2f-b727-d8280358f0b0",
           0.947265625
          ],
          [
           "1ad45bea-ccfe-4f2f-b727-d8280358f0b0",
           0.931640625
          ],
          [
           "1ad45bea-ccfe-4f2f-b727-d8280358f0b0",
           0.736328125
          ],
          [
           "1ad45bea-ccfe-4f2f-b727-d8280358f0b0",
           0.607421875
          ],
          [
           "1ad45bea-ccfe-4f2f-b727-d8280358f0b0",
           0.658203125
          ],
          [
           "1ad45bea-ccfe-4f2f-b727-d8280358f0b0",
           0.642578125
          ],
          [
           "1ad45bea-ccfe-4f2f-b727-d8280358f0b0",
           0.658203125
          ],
          [
           "1ad45bea-ccfe-4f2f-b727-d8280358f0b0",
           0.728515625
          ],
          [
           "1ad45bea-ccfe-4f2f-b727-d8280358f0b0",
           0.564453125
          ],
          [
           "1ad45bea-ccfe-4f2f-b727-d8280358f0b0",
           0.919921875
          ],
          [
           "1ad45bea-ccfe-4f2f-b727-d8280358f0b0",
           0.962890625
          ],
          [
           "1ad45bea-ccfe-4f2f-b727-d8280358f0b0",
           0.857421875
          ],
          [
           "1ad45bea-ccfe-4f2f-b727-d8280358f0b0",
           0.931640625
          ],
          [
           "1ad45bea-ccfe-4f2f-b727-d8280358f0b0",
           0.947265625
          ],
          [
           "1ad45bea-ccfe-4f2f-b727-d8280358f0b0",
           0.630859375
          ],
          [
           "1ad45bea-ccfe-4f2f-b727-d8280358f0b0",
           0.591796875
          ],
          [
           "1ad45bea-ccfe-4f2f-b727-d8280358f0b0",
           0.978515625
          ],
          [
           "1ad45bea-ccfe-4f2f-b727-d8280358f0b0",
           0.986328125
          ],
          [
           "1ad45bea-ccfe-4f2f-b727-d8280358f0b0",
           0.798828125
          ],
          [
           "1ad45bea-ccfe-4f2f-b727-d8280358f0b0",
           0.873046875
          ],
          [
           "1ad45bea-ccfe-4f2f-b727-d8280358f0b0",
           0.564453125
          ],
          [
           "1ad45bea-ccfe-4f2f-b727-d8280358f0b0",
           0.689453125
          ],
          [
           "1ad45bea-ccfe-4f2f-b727-d8280358f0b0",
           0.552734375
          ],
          [
           "1ad45bea-ccfe-4f2f-b727-d8280358f0b0",
           0.751953125
          ],
          [
           "1ad45bea-ccfe-4f2f-b727-d8280358f0b0",
           0.951171875
          ],
          [
           "1ad45bea-ccfe-4f2f-b727-d8280358f0b0",
           0.583984375
          ],
          [
           "1ad45bea-ccfe-4f2f-b727-d8280358f0b0",
           0.626953125
          ],
          [
           "1ad45bea-ccfe-4f2f-b727-d8280358f0b0",
           0.541015625
          ],
          [
           "1ad45bea-ccfe-4f2f-b727-d8280358f0b0",
           0.880859375
          ],
          [
           "1ad45bea-ccfe-4f2f-b727-d8280358f0b0",
           0.873046875
          ],
          [
           "1ad45bea-ccfe-4f2f-b727-d8280358f0b0",
           0.611328125
          ],
          [
           "1ad45bea-ccfe-4f2f-b727-d8280358f0b0",
           0.869140625
          ],
          [
           "1ad45bea-ccfe-4f2f-b727-d8280358f0b0",
           0.740234375
          ],
          [
           "1ad45bea-ccfe-4f2f-b727-d8280358f0b0",
           0.779296875
          ],
          [
           "1ad45bea-ccfe-4f2f-b727-d8280358f0b0",
           0.970703125
          ],
          [
           "1ad45bea-ccfe-4f2f-b727-d8280358f0b0",
           0.955078125
          ],
          [
           "1ad45bea-ccfe-4f2f-b727-d8280358f0b0",
           0.708984375
          ],
          [
           "1ad45bea-ccfe-4f2f-b727-d8280358f0b0",
           0.919921875
          ],
          [
           "1ad45bea-ccfe-4f2f-b727-d8280358f0b0",
           0.689453125
          ],
          [
           "1ad45bea-ccfe-4f2f-b727-d8280358f0b0",
           0.767578125
          ],
          [
           "4c30ceba-4a6a-41ba-8906-293ba44965d1",
           0.630859375
          ],
          [
           "4c30ceba-4a6a-41ba-8906-293ba44965d1",
           0.740234375
          ],
          [
           "4c30ceba-4a6a-41ba-8906-293ba44965d1",
           0.966796875
          ],
          [
           "4c30ceba-4a6a-41ba-8906-293ba44965d1",
           0.943359375
          ],
          [
           "4c30ceba-4a6a-41ba-8906-293ba44965d1",
           0.900390625
          ],
          [
           "4c30ceba-4a6a-41ba-8906-293ba44965d1",
           0.904296875
          ],
          [
           "4c30ceba-4a6a-41ba-8906-293ba44965d1",
           0.931640625
          ],
          [
           "4c30ceba-4a6a-41ba-8906-293ba44965d1",
           0.603515625
          ],
          [
           "4c30ceba-4a6a-41ba-8906-293ba44965d1",
           0.958984375
          ],
          [
           "4c30ceba-4a6a-41ba-8906-293ba44965d1",
           0.794921875
          ],
          [
           "4c30ceba-4a6a-41ba-8906-293ba44965d1",
           0.923828125
          ],
          [
           "4c30ceba-4a6a-41ba-8906-293ba44965d1",
           0.880859375
          ],
          [
           "4c30ceba-4a6a-41ba-8906-293ba44965d1",
           0.865234375
          ],
          [
           "4c30ceba-4a6a-41ba-8906-293ba44965d1",
           0.845703125
          ],
          [
           "4c30ceba-4a6a-41ba-8906-293ba44965d1",
           0.712890625
          ],
          [
           "4c30ceba-4a6a-41ba-8906-293ba44965d1",
           0.626953125
          ],
          [
           "4c30ceba-4a6a-41ba-8906-293ba44965d1",
           0.642578125
          ],
          [
           "4c30ceba-4a6a-41ba-8906-293ba44965d1",
           0.525390625
          ],
          [
           "4c30ceba-4a6a-41ba-8906-293ba44965d1",
           0.736328125
          ],
          [
           "4c30ceba-4a6a-41ba-8906-293ba44965d1",
           0.775390625
          ],
          [
           "4c30ceba-4a6a-41ba-8906-293ba44965d1",
           0.767578125
          ],
          [
           "4c30ceba-4a6a-41ba-8906-293ba44965d1",
           0.775390625
          ],
          [
           "4c30ceba-4a6a-41ba-8906-293ba44965d1",
           0.724609375
          ],
          [
           "4c30ceba-4a6a-41ba-8906-293ba44965d1",
           0.783203125
          ],
          [
           "4c30ceba-4a6a-41ba-8906-293ba44965d1",
           0.833984375
          ],
          [
           "4c30ceba-4a6a-41ba-8906-293ba44965d1",
           0.505859375
          ],
          [
           "4c30ceba-4a6a-41ba-8906-293ba44965d1",
           0.513671875
          ],
          [
           "4c30ceba-4a6a-41ba-8906-293ba44965d1",
           0.771484375
          ],
          [
           "4c30ceba-4a6a-41ba-8906-293ba44965d1",
           0.767578125
          ],
          [
           "4c30ceba-4a6a-41ba-8906-293ba44965d1",
           0.720703125
          ],
          [
           "8db57d1c-ad62-47bc-a1fa-77489954f766",
           0.955078125
          ],
          [
           "8db57d1c-ad62-47bc-a1fa-77489954f766",
           0.806640625
          ],
          [
           "8db57d1c-ad62-47bc-a1fa-77489954f766",
           0.802734375
          ],
          [
           "8db57d1c-ad62-47bc-a1fa-77489954f766",
           0.630859375
          ],
          [
           "8db57d1c-ad62-47bc-a1fa-77489954f766",
           0.587890625
          ],
          [
           "8db57d1c-ad62-47bc-a1fa-77489954f766",
           0.541015625
          ],
          [
           "8db57d1c-ad62-47bc-a1fa-77489954f766",
           0.751953125
          ],
          [
           "8db57d1c-ad62-47bc-a1fa-77489954f766",
           0.716796875
          ],
          [
           "8db57d1c-ad62-47bc-a1fa-77489954f766",
           0.884765625
          ],
          [
           "8db57d1c-ad62-47bc-a1fa-77489954f766",
           0.662109375
          ],
          [
           "8db57d1c-ad62-47bc-a1fa-77489954f766",
           0.814453125
          ],
          [
           "8db57d1c-ad62-47bc-a1fa-77489954f766",
           0.771484375
          ],
          [
           "8db57d1c-ad62-47bc-a1fa-77489954f766",
           0.806640625
          ],
          [
           "8db57d1c-ad62-47bc-a1fa-77489954f766",
           0.837890625
          ],
          [
           "8db57d1c-ad62-47bc-a1fa-77489954f766",
           0.763671875
          ],
          [
           "8db57d1c-ad62-47bc-a1fa-77489954f766",
           0.736328125
          ],
          [
           "8db57d1c-ad62-47bc-a1fa-77489954f766",
           0.845703125
          ],
          [
           "8db57d1c-ad62-47bc-a1fa-77489954f766",
           0.685546875
          ],
          [
           "8db57d1c-ad62-47bc-a1fa-77489954f766",
           0.630859375
          ],
          [
           "8db57d1c-ad62-47bc-a1fa-77489954f766",
           0.638671875
          ],
          [
           "8db57d1c-ad62-47bc-a1fa-77489954f766",
           0.533203125
          ],
          [
           "8db57d1c-ad62-47bc-a1fa-77489954f766",
           0.775390625
          ],
          [
           "8db57d1c-ad62-47bc-a1fa-77489954f766",
           0.572265625
          ],
          [
           "8db57d1c-ad62-47bc-a1fa-77489954f766",
           0.787109375
          ],
          [
           "8db57d1c-ad62-47bc-a1fa-77489954f766",
           0.806640625
          ],
          [
           "8db57d1c-ad62-47bc-a1fa-77489954f766",
           0.962890625
          ],
          [
           "8db57d1c-ad62-47bc-a1fa-77489954f766",
           0.927734375
          ],
          [
           "8db57d1c-ad62-47bc-a1fa-77489954f766",
           0.912109375
          ],
          [
           "8db57d1c-ad62-47bc-a1fa-77489954f766",
           0.513671875
          ],
          [
           "8db57d1c-ad62-47bc-a1fa-77489954f766",
           0.892578125
          ],
          [
           "8db57d1c-ad62-47bc-a1fa-77489954f766",
           0.955078125
          ],
          [
           "8db57d1c-ad62-47bc-a1fa-77489954f766",
           0.978515625
          ],
          [
           "8db57d1c-ad62-47bc-a1fa-77489954f766",
           0.966796875
          ],
          [
           "8db57d1c-ad62-47bc-a1fa-77489954f766",
           0.974609375
          ],
          [
           "8db57d1c-ad62-47bc-a1fa-77489954f766",
           0.998046875
          ],
          [
           "8db57d1c-ad62-47bc-a1fa-77489954f766",
           0.697265625
          ],
          [
           "8db57d1c-ad62-47bc-a1fa-77489954f766",
           0.744140625
          ],
          [
           "8db57d1c-ad62-47bc-a1fa-77489954f766",
           0.962890625
          ],
          [
           "8db57d1c-ad62-47bc-a1fa-77489954f766",
           0.888671875
          ],
          [
           "8db57d1c-ad62-47bc-a1fa-77489954f766",
           0.537109375
          ],
          [
           "8db57d1c-ad62-47bc-a1fa-77489954f766",
           0.955078125
          ],
          [
           "8db57d1c-ad62-47bc-a1fa-77489954f766",
           0.787109375
          ],
          [
           "8db57d1c-ad62-47bc-a1fa-77489954f766",
           0.642578125
          ],
          [
           "8db57d1c-ad62-47bc-a1fa-77489954f766",
           0.869140625
          ],
          [
           "8db57d1c-ad62-47bc-a1fa-77489954f766",
           0.966796875
          ],
          [
           "8db57d1c-ad62-47bc-a1fa-77489954f766",
           0.787109375
          ],
          [
           "8db57d1c-ad62-47bc-a1fa-77489954f766",
           0.962890625
          ],
          [
           "8db57d1c-ad62-47bc-a1fa-77489954f766",
           0.736328125
          ],
          [
           "8db57d1c-ad62-47bc-a1fa-77489954f766",
           0.884765625
          ],
          [
           "8db57d1c-ad62-47bc-a1fa-77489954f766",
           0.705078125
          ],
          [
           "8db57d1c-ad62-47bc-a1fa-77489954f766",
           0.634765625
          ],
          [
           "8db57d1c-ad62-47bc-a1fa-77489954f766",
           0.853515625
          ],
          [
           "8db57d1c-ad62-47bc-a1fa-77489954f766",
           0.919921875
          ],
          [
           "8db57d1c-ad62-47bc-a1fa-77489954f766",
           0.865234375
          ],
          [
           "8db57d1c-ad62-47bc-a1fa-77489954f766",
           0.552734375
          ],
          [
           "8db57d1c-ad62-47bc-a1fa-77489954f766",
           0.943359375
          ],
          [
           "8db57d1c-ad62-47bc-a1fa-77489954f766",
           0.798828125
          ],
          [
           "8db57d1c-ad62-47bc-a1fa-77489954f766",
           0.767578125
          ],
          [
           "8db57d1c-ad62-47bc-a1fa-77489954f766",
           0.861328125
          ],
          [
           "8db57d1c-ad62-47bc-a1fa-77489954f766",
           0.642578125
          ],
          [
           "8db57d1c-ad62-47bc-a1fa-77489954f766",
           0.701171875
          ],
          [
           "8db57d1c-ad62-47bc-a1fa-77489954f766",
           0.955078125
          ],
          [
           "8db57d1c-ad62-47bc-a1fa-77489954f766",
           0.619140625
          ],
          [
           "8db57d1c-ad62-47bc-a1fa-77489954f766",
           0.888671875
          ],
          [
           "8db57d1c-ad62-47bc-a1fa-77489954f766",
           0.806640625
          ],
          [
           "c4269dbc-9387-4644-a195-bab0ab597d21",
           0.603515625
          ],
          [
           "c4269dbc-9387-4644-a195-bab0ab597d21",
           0.650390625
          ],
          [
           "c4269dbc-9387-4644-a195-bab0ab597d21",
           0.642578125
          ],
          [
           "c4269dbc-9387-4644-a195-bab0ab597d21",
           0.830078125
          ],
          [
           "c4269dbc-9387-4644-a195-bab0ab597d21",
           0.880859375
          ],
          [
           "c4269dbc-9387-4644-a195-bab0ab597d21",
           0.943359375
          ],
          [
           "c4269dbc-9387-4644-a195-bab0ab597d21",
           0.564453125
          ],
          [
           "c4269dbc-9387-4644-a195-bab0ab597d21",
           0.505859375
          ],
          [
           "c4269dbc-9387-4644-a195-bab0ab597d21",
           0.771484375
          ],
          [
           "c4269dbc-9387-4644-a195-bab0ab597d21",
           0.837890625
          ],
          [
           "c4269dbc-9387-4644-a195-bab0ab597d21",
           0.771484375
          ],
          [
           "c4269dbc-9387-4644-a195-bab0ab597d21",
           0.822265625
          ],
          [
           "c4269dbc-9387-4644-a195-bab0ab597d21",
           0.779296875
          ],
          [
           "c4269dbc-9387-4644-a195-bab0ab597d21",
           0.638671875
          ],
          [
           "c4269dbc-9387-4644-a195-bab0ab597d21",
           0.849609375
          ],
          [
           "c4269dbc-9387-4644-a195-bab0ab597d21",
           0.888671875
          ],
          [
           "c4269dbc-9387-4644-a195-bab0ab597d21",
           0.560546875
          ],
          [
           "c4269dbc-9387-4644-a195-bab0ab597d21",
           0.798828125
          ],
          [
           "c4269dbc-9387-4644-a195-bab0ab597d21",
           0.767578125
          ],
          [
           "c4269dbc-9387-4644-a195-bab0ab597d21",
           0.826171875
          ],
          [
           "c4269dbc-9387-4644-a195-bab0ab597d21",
           0.833984375
          ],
          [
           "c4269dbc-9387-4644-a195-bab0ab597d21",
           0.517578125
          ],
          [
           "c4269dbc-9387-4644-a195-bab0ab597d21",
           0.548828125
          ],
          [
           "c299b672-9ba1-430b-ae22-43d7591eead8",
           0.822265625
          ],
          [
           "c299b672-9ba1-430b-ae22-43d7591eead8",
           0.896484375
          ],
          [
           "c299b672-9ba1-430b-ae22-43d7591eead8",
           0.841796875
          ],
          [
           "c299b672-9ba1-430b-ae22-43d7591eead8",
           0.990234375
          ],
          [
           "c299b672-9ba1-430b-ae22-43d7591eead8",
           0.802734375
          ],
          [
           "c299b672-9ba1-430b-ae22-43d7591eead8",
           0.689453125
          ],
          [
           "c299b672-9ba1-430b-ae22-43d7591eead8",
           0.970703125
          ],
          [
           "c299b672-9ba1-430b-ae22-43d7591eead8",
           0.931640625
          ],
          [
           "c299b672-9ba1-430b-ae22-43d7591eead8",
           0.818359375
          ],
          [
           "c299b672-9ba1-430b-ae22-43d7591eead8",
           0.517578125
          ],
          [
           "c299b672-9ba1-430b-ae22-43d7591eead8",
           0.865234375
          ],
          [
           "c299b672-9ba1-430b-ae22-43d7591eead8",
           0.841796875
          ],
          [
           "c299b672-9ba1-430b-ae22-43d7591eead8",
           0.822265625
          ],
          [
           "c299b672-9ba1-430b-ae22-43d7591eead8",
           0.767578125
          ],
          [
           "c299b672-9ba1-430b-ae22-43d7591eead8",
           0.814453125
          ],
          [
           "c299b672-9ba1-430b-ae22-43d7591eead8",
           0.552734375
          ],
          [
           "c299b672-9ba1-430b-ae22-43d7591eead8",
           0.791015625
          ],
          [
           "c299b672-9ba1-430b-ae22-43d7591eead8",
           0.708984375
          ],
          [
           "c299b672-9ba1-430b-ae22-43d7591eead8",
           0.822265625
          ],
          [
           "c299b672-9ba1-430b-ae22-43d7591eead8",
           0.904296875
          ],
          [
           "c299b672-9ba1-430b-ae22-43d7591eead8",
           0.947265625
          ],
          [
           "c299b672-9ba1-430b-ae22-43d7591eead8",
           0.951171875
          ],
          [
           "c299b672-9ba1-430b-ae22-43d7591eead8",
           0.591796875
          ],
          [
           "c299b672-9ba1-430b-ae22-43d7591eead8",
           0.701171875
          ],
          [
           "c299b672-9ba1-430b-ae22-43d7591eead8",
           0.556640625
          ],
          [
           "c299b672-9ba1-430b-ae22-43d7591eead8",
           0.638671875
          ],
          [
           "c299b672-9ba1-430b-ae22-43d7591eead8",
           0.748046875
          ],
          [
           "c299b672-9ba1-430b-ae22-43d7591eead8",
           0.658203125
          ],
          [
           "c299b672-9ba1-430b-ae22-43d7591eead8",
           0.736328125
          ],
          [
           "c299b672-9ba1-430b-ae22-43d7591eead8",
           0.701171875
          ],
          [
           "c299b672-9ba1-430b-ae22-43d7591eead8",
           0.912109375
          ],
          [
           "c299b672-9ba1-430b-ae22-43d7591eead8",
           0.861328125
          ],
          [
           "c299b672-9ba1-430b-ae22-43d7591eead8",
           0.876953125
          ],
          [
           "c299b672-9ba1-430b-ae22-43d7591eead8",
           0.888671875
          ],
          [
           "c299b672-9ba1-430b-ae22-43d7591eead8",
           0.619140625
          ],
          [
           "c299b672-9ba1-430b-ae22-43d7591eead8",
           0.736328125
          ],
          [
           "c299b672-9ba1-430b-ae22-43d7591eead8",
           0.708984375
          ],
          [
           "c299b672-9ba1-430b-ae22-43d7591eead8",
           0.896484375
          ],
          [
           "c299b672-9ba1-430b-ae22-43d7591eead8",
           0.826171875
          ],
          [
           "c299b672-9ba1-430b-ae22-43d7591eead8",
           0.919921875
          ],
          [
           "c299b672-9ba1-430b-ae22-43d7591eead8",
           0.775390625
          ],
          [
           "c299b672-9ba1-430b-ae22-43d7591eead8",
           0.564453125
          ],
          [
           "c299b672-9ba1-430b-ae22-43d7591eead8",
           0.837890625
          ],
          [
           "c299b672-9ba1-430b-ae22-43d7591eead8",
           0.802734375
          ],
          [
           "c299b672-9ba1-430b-ae22-43d7591eead8",
           0.595703125
          ],
          [
           "c299b672-9ba1-430b-ae22-43d7591eead8",
           0.638671875
          ],
          [
           "c299b672-9ba1-430b-ae22-43d7591eead8",
           0.783203125
          ],
          [
           "c299b672-9ba1-430b-ae22-43d7591eead8",
           0.666015625
          ],
          [
           "c299b672-9ba1-430b-ae22-43d7591eead8",
           0.501953125
          ],
          [
           "c299b672-9ba1-430b-ae22-43d7591eead8",
           0.537109375
          ],
          [
           "c299b672-9ba1-430b-ae22-43d7591eead8",
           0.732421875
          ],
          [
           "c299b672-9ba1-430b-ae22-43d7591eead8",
           0.576171875
          ],
          [
           "c299b672-9ba1-430b-ae22-43d7591eead8",
           0.642578125
          ],
          [
           "c299b672-9ba1-430b-ae22-43d7591eead8",
           0.501953125
          ],
          [
           "c299b672-9ba1-430b-ae22-43d7591eead8",
           0.552734375
          ],
          [
           "c299b672-9ba1-430b-ae22-43d7591eead8",
           0.900390625
          ],
          [
           "c299b672-9ba1-430b-ae22-43d7591eead8",
           0.568359375
          ],
          [
           "c299b672-9ba1-430b-ae22-43d7591eead8",
           0.505859375
          ],
          [
           "c299b672-9ba1-430b-ae22-43d7591eead8",
           0.572265625
          ],
          [
           "c299b672-9ba1-430b-ae22-43d7591eead8",
           0.666015625
          ],
          [
           "c299b672-9ba1-430b-ae22-43d7591eead8",
           0.685546875
          ],
          [
           "1b72803e-adef-4222-a6ac-262f2dd04db8",
           0.513671875
          ],
          [
           "1b72803e-adef-4222-a6ac-262f2dd04db8",
           0.552734375
          ],
          [
           "1b72803e-adef-4222-a6ac-262f2dd04db8",
           0.646484375
          ],
          [
           "1b72803e-adef-4222-a6ac-262f2dd04db8",
           0.576171875
          ],
          [
           "1b72803e-adef-4222-a6ac-262f2dd04db8",
           0.771484375
          ],
          [
           "1b72803e-adef-4222-a6ac-262f2dd04db8",
           0.642578125
          ],
          [
           "1b72803e-adef-4222-a6ac-262f2dd04db8",
           0.689453125
          ],
          [
           "1b72803e-adef-4222-a6ac-262f2dd04db8",
           0.916015625
          ],
          [
           "1b72803e-adef-4222-a6ac-262f2dd04db8",
           0.693359375
          ],
          [
           "1b72803e-adef-4222-a6ac-262f2dd04db8",
           0.857421875
          ],
          [
           "1b72803e-adef-4222-a6ac-262f2dd04db8",
           0.771484375
          ],
          [
           "9ae3a9ec-de2b-4678-80c5-82ef5b18d7af",
           0.716796875
          ],
          [
           "9ae3a9ec-de2b-4678-80c5-82ef5b18d7af",
           0.552734375
          ],
          [
           "9ae3a9ec-de2b-4678-80c5-82ef5b18d7af",
           0.595703125
          ],
          [
           "9ae3a9ec-de2b-4678-80c5-82ef5b18d7af",
           0.830078125
          ],
          [
           "9ae3a9ec-de2b-4678-80c5-82ef5b18d7af",
           0.853515625
          ],
          [
           "9ae3a9ec-de2b-4678-80c5-82ef5b18d7af",
           0.849609375
          ],
          [
           "9ae3a9ec-de2b-4678-80c5-82ef5b18d7af",
           0.900390625
          ],
          [
           "9ae3a9ec-de2b-4678-80c5-82ef5b18d7af",
           0.787109375
          ],
          [
           "9ae3a9ec-de2b-4678-80c5-82ef5b18d7af",
           0.638671875
          ],
          [
           "9ae3a9ec-de2b-4678-80c5-82ef5b18d7af",
           0.779296875
          ],
          [
           "9ae3a9ec-de2b-4678-80c5-82ef5b18d7af",
           0.943359375
          ],
          [
           "9ae3a9ec-de2b-4678-80c5-82ef5b18d7af",
           0.537109375
          ],
          [
           "9ae3a9ec-de2b-4678-80c5-82ef5b18d7af",
           0.544921875
          ],
          [
           "9ae3a9ec-de2b-4678-80c5-82ef5b18d7af",
           0.869140625
          ],
          [
           "9ae3a9ec-de2b-4678-80c5-82ef5b18d7af",
           0.865234375
          ],
          [
           "9ae3a9ec-de2b-4678-80c5-82ef5b18d7af",
           0.884765625
          ],
          [
           "9ae3a9ec-de2b-4678-80c5-82ef5b18d7af",
           0.927734375
          ],
          [
           "9ae3a9ec-de2b-4678-80c5-82ef5b18d7af",
           0.916015625
          ],
          [
           "9ae3a9ec-de2b-4678-80c5-82ef5b18d7af",
           0.712890625
          ],
          [
           "9ae3a9ec-de2b-4678-80c5-82ef5b18d7af",
           0.767578125
          ],
          [
           "9ae3a9ec-de2b-4678-80c5-82ef5b18d7af",
           0.810546875
          ],
          [
           "9ae3a9ec-de2b-4678-80c5-82ef5b18d7af",
           0.552734375
          ],
          [
           "9ae3a9ec-de2b-4678-80c5-82ef5b18d7af",
           0.779296875
          ],
          [
           "9ae3a9ec-de2b-4678-80c5-82ef5b18d7af",
           0.560546875
          ],
          [
           "9ae3a9ec-de2b-4678-80c5-82ef5b18d7af",
           0.576171875
          ],
          [
           "9ae3a9ec-de2b-4678-80c5-82ef5b18d7af",
           0.513671875
          ],
          [
           "66ca78ed-7f5e-4af3-93cd-0ceb736246ec",
           0.705078125
          ],
          [
           "66ca78ed-7f5e-4af3-93cd-0ceb736246ec",
           0.705078125
          ],
          [
           "66ca78ed-7f5e-4af3-93cd-0ceb736246ec",
           0.974609375
          ],
          [
           "66ca78ed-7f5e-4af3-93cd-0ceb736246ec",
           0.982421875
          ],
          [
           "66ca78ed-7f5e-4af3-93cd-0ceb736246ec",
           0.892578125
          ],
          [
           "66ca78ed-7f5e-4af3-93cd-0ceb736246ec",
           0.958984375
          ],
          [
           "66ca78ed-7f5e-4af3-93cd-0ceb736246ec",
           0.826171875
          ],
          [
           "66ca78ed-7f5e-4af3-93cd-0ceb736246ec",
           0.775390625
          ],
          [
           "66ca78ed-7f5e-4af3-93cd-0ceb736246ec",
           0.634765625
          ],
          [
           "66ca78ed-7f5e-4af3-93cd-0ceb736246ec",
           0.630859375
          ],
          [
           "66ca78ed-7f5e-4af3-93cd-0ceb736246ec",
           0.638671875
          ],
          [
           "bdde52cf-4aed-42f6-80e5-e2c02b86596c",
           0.583984375
          ],
          [
           "bdde52cf-4aed-42f6-80e5-e2c02b86596c",
           0.626953125
          ],
          [
           "bdde52cf-4aed-42f6-80e5-e2c02b86596c",
           0.771484375
          ],
          [
           "bdde52cf-4aed-42f6-80e5-e2c02b86596c",
           0.572265625
          ],
          [
           "bdde52cf-4aed-42f6-80e5-e2c02b86596c",
           0.931640625
          ],
          [
           "bdde52cf-4aed-42f6-80e5-e2c02b86596c",
           0.884765625
          ],
          [
           "bdde52cf-4aed-42f6-80e5-e2c02b86596c",
           0.857421875
          ],
          [
           "bdde52cf-4aed-42f6-80e5-e2c02b86596c",
           0.666015625
          ],
          [
           "bdde52cf-4aed-42f6-80e5-e2c02b86596c",
           0.955078125
          ],
          [
           "bdde52cf-4aed-42f6-80e5-e2c02b86596c",
           0.630859375
          ],
          [
           "bdde52cf-4aed-42f6-80e5-e2c02b86596c",
           0.712890625
          ],
          [
           "bdde52cf-4aed-42f6-80e5-e2c02b86596c",
           0.716796875
          ],
          [
           "bdde52cf-4aed-42f6-80e5-e2c02b86596c",
           0.708984375
          ],
          [
           "bdde52cf-4aed-42f6-80e5-e2c02b86596c",
           0.833984375
          ],
          [
           "bdde52cf-4aed-42f6-80e5-e2c02b86596c",
           0.791015625
          ],
          [
           "bdde52cf-4aed-42f6-80e5-e2c02b86596c",
           0.951171875
          ],
          [
           "bdde52cf-4aed-42f6-80e5-e2c02b86596c",
           0.548828125
          ],
          [
           "bdde52cf-4aed-42f6-80e5-e2c02b86596c",
           0.744140625
          ],
          [
           "bdde52cf-4aed-42f6-80e5-e2c02b86596c",
           0.701171875
          ],
          [
           "bdde52cf-4aed-42f6-80e5-e2c02b86596c",
           0.931640625
          ],
          [
           "bdde52cf-4aed-42f6-80e5-e2c02b86596c",
           0.900390625
          ],
          [
           "bdde52cf-4aed-42f6-80e5-e2c02b86596c",
           0.955078125
          ],
          [
           "bdde52cf-4aed-42f6-80e5-e2c02b86596c",
           0.935546875
          ],
          [
           "bdde52cf-4aed-42f6-80e5-e2c02b86596c",
           0.892578125
          ],
          [
           "bdde52cf-4aed-42f6-80e5-e2c02b86596c",
           0.837890625
          ],
          [
           "bdde52cf-4aed-42f6-80e5-e2c02b86596c",
           0.607421875
          ],
          [
           "bdde52cf-4aed-42f6-80e5-e2c02b86596c",
           0.576171875
          ],
          [
           "bdde52cf-4aed-42f6-80e5-e2c02b86596c",
           0.869140625
          ],
          [
           "bdde52cf-4aed-42f6-80e5-e2c02b86596c",
           0.705078125
          ],
          [
           "bdde52cf-4aed-42f6-80e5-e2c02b86596c",
           0.548828125
          ],
          [
           "bdde52cf-4aed-42f6-80e5-e2c02b86596c",
           0.994140625
          ],
          [
           "bdde52cf-4aed-42f6-80e5-e2c02b86596c",
           0.873046875
          ],
          [
           "bdde52cf-4aed-42f6-80e5-e2c02b86596c",
           0.892578125
          ],
          [
           "bdde52cf-4aed-42f6-80e5-e2c02b86596c",
           0.607421875
          ],
          [
           "bdde52cf-4aed-42f6-80e5-e2c02b86596c",
           0.896484375
          ],
          [
           "bdde52cf-4aed-42f6-80e5-e2c02b86596c",
           0.919921875
          ],
          [
           "bdde52cf-4aed-42f6-80e5-e2c02b86596c",
           0.685546875
          ],
          [
           "bdde52cf-4aed-42f6-80e5-e2c02b86596c",
           0.537109375
          ],
          [
           "bdde52cf-4aed-42f6-80e5-e2c02b86596c",
           0.857421875
          ],
          [
           "bdde52cf-4aed-42f6-80e5-e2c02b86596c",
           0.884765625
          ],
          [
           "d2f5df66-fe62-4723-b360-572dec3493c8",
           0.603515625
          ],
          [
           "d2f5df66-fe62-4723-b360-572dec3493c8",
           0.521484375
          ],
          [
           "d2f5df66-fe62-4723-b360-572dec3493c8",
           0.779296875
          ],
          [
           "d2f5df66-fe62-4723-b360-572dec3493c8",
           0.603515625
          ],
          [
           "d2f5df66-fe62-4723-b360-572dec3493c8",
           0.599609375
          ],
          [
           "d2f5df66-fe62-4723-b360-572dec3493c8",
           0.501953125
          ],
          [
           "d2f5df66-fe62-4723-b360-572dec3493c8",
           0.572265625
          ],
          [
           "d2f5df66-fe62-4723-b360-572dec3493c8",
           0.923828125
          ],
          [
           "d2f5df66-fe62-4723-b360-572dec3493c8",
           0.677734375
          ],
          [
           "d2f5df66-fe62-4723-b360-572dec3493c8",
           0.755859375
          ],
          [
           "d2f5df66-fe62-4723-b360-572dec3493c8",
           0.876953125
          ],
          [
           "d2f5df66-fe62-4723-b360-572dec3493c8",
           0.884765625
          ],
          [
           "d2f5df66-fe62-4723-b360-572dec3493c8",
           0.943359375
          ],
          [
           "d2f5df66-fe62-4723-b360-572dec3493c8",
           0.759765625
          ],
          [
           "d2f5df66-fe62-4723-b360-572dec3493c8",
           0.884765625
          ],
          [
           "d2f5df66-fe62-4723-b360-572dec3493c8",
           0.568359375
          ],
          [
           "d2f5df66-fe62-4723-b360-572dec3493c8",
           0.576171875
          ],
          [
           "d2f5df66-fe62-4723-b360-572dec3493c8",
           0.708984375
          ],
          [
           "d2f5df66-fe62-4723-b360-572dec3493c8",
           0.767578125
          ],
          [
           "d2f5df66-fe62-4723-b360-572dec3493c8",
           0.900390625
          ],
          [
           "d2f5df66-fe62-4723-b360-572dec3493c8",
           0.888671875
          ],
          [
           "d2f5df66-fe62-4723-b360-572dec3493c8",
           0.599609375
          ],
          [
           "d2f5df66-fe62-4723-b360-572dec3493c8",
           0.908203125
          ],
          [
           "d2f5df66-fe62-4723-b360-572dec3493c8",
           0.916015625
          ],
          [
           "d2f5df66-fe62-4723-b360-572dec3493c8",
           0.861328125
          ],
          [
           "d2f5df66-fe62-4723-b360-572dec3493c8",
           0.896484375
          ],
          [
           "d2f5df66-fe62-4723-b360-572dec3493c8",
           0.908203125
          ],
          [
           "d2f5df66-fe62-4723-b360-572dec3493c8",
           0.904296875
          ],
          [
           "d2f5df66-fe62-4723-b360-572dec3493c8",
           0.908203125
          ],
          [
           "d2f5df66-fe62-4723-b360-572dec3493c8",
           0.900390625
          ],
          [
           "d2f5df66-fe62-4723-b360-572dec3493c8",
           0.939453125
          ],
          [
           "d2f5df66-fe62-4723-b360-572dec3493c8",
           0.587890625
          ],
          [
           "d2f5df66-fe62-4723-b360-572dec3493c8",
           0.626953125
          ],
          [
           "d2f5df66-fe62-4723-b360-572dec3493c8",
           0.818359375
          ],
          [
           "d2f5df66-fe62-4723-b360-572dec3493c8",
           0.701171875
          ],
          [
           "d2f5df66-fe62-4723-b360-572dec3493c8",
           0.505859375
          ],
          [
           "d2f5df66-fe62-4723-b360-572dec3493c8",
           0.556640625
          ],
          [
           "d2f5df66-fe62-4723-b360-572dec3493c8",
           0.955078125
          ],
          [
           "d2f5df66-fe62-4723-b360-572dec3493c8",
           0.931640625
          ],
          [
           "a865b338-ab12-4c49-910e-f4ef80af8677",
           0.587890625
          ],
          [
           "a865b338-ab12-4c49-910e-f4ef80af8677",
           0.736328125
          ],
          [
           "a865b338-ab12-4c49-910e-f4ef80af8677",
           0.947265625
          ],
          [
           "a865b338-ab12-4c49-910e-f4ef80af8677",
           0.791015625
          ],
          [
           "a865b338-ab12-4c49-910e-f4ef80af8677",
           0.943359375
          ],
          [
           "a865b338-ab12-4c49-910e-f4ef80af8677",
           0.880859375
          ],
          [
           "a865b338-ab12-4c49-910e-f4ef80af8677",
           0.939453125
          ],
          [
           "a865b338-ab12-4c49-910e-f4ef80af8677",
           0.833984375
          ],
          [
           "a865b338-ab12-4c49-910e-f4ef80af8677",
           0.880859375
          ],
          [
           "a865b338-ab12-4c49-910e-f4ef80af8677",
           0.958984375
          ],
          [
           "a865b338-ab12-4c49-910e-f4ef80af8677",
           0.966796875
          ],
          [
           "a865b338-ab12-4c49-910e-f4ef80af8677",
           0.833984375
          ],
          [
           "a865b338-ab12-4c49-910e-f4ef80af8677",
           0.826171875
          ],
          [
           "a865b338-ab12-4c49-910e-f4ef80af8677",
           0.908203125
          ],
          [
           "a865b338-ab12-4c49-910e-f4ef80af8677",
           0.892578125
          ],
          [
           "a865b338-ab12-4c49-910e-f4ef80af8677",
           0.892578125
          ],
          [
           "a865b338-ab12-4c49-910e-f4ef80af8677",
           0.873046875
          ],
          [
           "a865b338-ab12-4c49-910e-f4ef80af8677",
           0.501953125
          ],
          [
           "a865b338-ab12-4c49-910e-f4ef80af8677",
           0.763671875
          ],
          [
           "a865b338-ab12-4c49-910e-f4ef80af8677",
           0.623046875
          ],
          [
           "a865b338-ab12-4c49-910e-f4ef80af8677",
           0.990234375
          ],
          [
           "a865b338-ab12-4c49-910e-f4ef80af8677",
           0.505859375
          ],
          [
           "a865b338-ab12-4c49-910e-f4ef80af8677",
           0.501953125
          ],
          [
           "a865b338-ab12-4c49-910e-f4ef80af8677",
           0.833984375
          ],
          [
           "a865b338-ab12-4c49-910e-f4ef80af8677",
           0.931640625
          ],
          [
           "a865b338-ab12-4c49-910e-f4ef80af8677",
           0.912109375
          ],
          [
           "a865b338-ab12-4c49-910e-f4ef80af8677",
           0.732421875
          ],
          [
           "a865b338-ab12-4c49-910e-f4ef80af8677",
           0.896484375
          ],
          [
           "a865b338-ab12-4c49-910e-f4ef80af8677",
           0.908203125
          ],
          [
           "a865b338-ab12-4c49-910e-f4ef80af8677",
           0.908203125
          ],
          [
           "a865b338-ab12-4c49-910e-f4ef80af8677",
           0.732421875
          ],
          [
           "a865b338-ab12-4c49-910e-f4ef80af8677",
           0.521484375
          ],
          [
           "a865b338-ab12-4c49-910e-f4ef80af8677",
           0.685546875
          ],
          [
           "34f01854-c28c-4ec6-a5ff-635d1327b18d",
           0.849609375
          ],
          [
           "34f01854-c28c-4ec6-a5ff-635d1327b18d",
           0.513671875
          ],
          [
           "34f01854-c28c-4ec6-a5ff-635d1327b18d",
           0.919921875
          ],
          [
           "34f01854-c28c-4ec6-a5ff-635d1327b18d",
           0.744140625
          ],
          [
           "34f01854-c28c-4ec6-a5ff-635d1327b18d",
           0.998046875
          ],
          [
           "34f01854-c28c-4ec6-a5ff-635d1327b18d",
           0.650390625
          ],
          [
           "a054616a-0028-4b5e-877f-53b611ad2767",
           0.939453125
          ],
          [
           "a054616a-0028-4b5e-877f-53b611ad2767",
           0.919921875
          ],
          [
           "a054616a-0028-4b5e-877f-53b611ad2767",
           0.876953125
          ],
          [
           "a054616a-0028-4b5e-877f-53b611ad2767",
           0.791015625
          ],
          [
           "a054616a-0028-4b5e-877f-53b611ad2767",
           0.630859375
          ],
          [
           "a054616a-0028-4b5e-877f-53b611ad2767",
           0.755859375
          ],
          [
           "a054616a-0028-4b5e-877f-53b611ad2767",
           0.904296875
          ],
          [
           "a054616a-0028-4b5e-877f-53b611ad2767",
           0.919921875
          ],
          [
           "a054616a-0028-4b5e-877f-53b611ad2767",
           0.986328125
          ],
          [
           "a054616a-0028-4b5e-877f-53b611ad2767",
           0.783203125
          ],
          [
           "a054616a-0028-4b5e-877f-53b611ad2767",
           0.794921875
          ],
          [
           "a054616a-0028-4b5e-877f-53b611ad2767",
           0.775390625
          ],
          [
           "a054616a-0028-4b5e-877f-53b611ad2767",
           0.748046875
          ],
          [
           "a054616a-0028-4b5e-877f-53b611ad2767",
           0.806640625
          ],
          [
           "a054616a-0028-4b5e-877f-53b611ad2767",
           0.548828125
          ],
          [
           "a054616a-0028-4b5e-877f-53b611ad2767",
           0.607421875
          ],
          [
           "a054616a-0028-4b5e-877f-53b611ad2767",
           0.919921875
          ],
          [
           "a054616a-0028-4b5e-877f-53b611ad2767",
           0.798828125
          ],
          [
           "a054616a-0028-4b5e-877f-53b611ad2767",
           0.759765625
          ],
          [
           "a054616a-0028-4b5e-877f-53b611ad2767",
           0.654296875
          ],
          [
           "a054616a-0028-4b5e-877f-53b611ad2767",
           0.732421875
          ],
          [
           "a054616a-0028-4b5e-877f-53b611ad2767",
           0.560546875
          ],
          [
           "a054616a-0028-4b5e-877f-53b611ad2767",
           0.673828125
          ],
          [
           "a054616a-0028-4b5e-877f-53b611ad2767",
           0.876953125
          ],
          [
           "5a71d07f-4b9a-487c-8fa0-b9a26e2c626c",
           0.548828125
          ],
          [
           "5a71d07f-4b9a-487c-8fa0-b9a26e2c626c",
           0.978515625
          ],
          [
           "5a71d07f-4b9a-487c-8fa0-b9a26e2c626c",
           0.857421875
          ],
          [
           "5a71d07f-4b9a-487c-8fa0-b9a26e2c626c",
           0.947265625
          ],
          [
           "5a71d07f-4b9a-487c-8fa0-b9a26e2c626c",
           0.861328125
          ],
          [
           "5a71d07f-4b9a-487c-8fa0-b9a26e2c626c",
           0.802734375
          ],
          [
           "5a71d07f-4b9a-487c-8fa0-b9a26e2c626c",
           0.783203125
          ],
          [
           "5a71d07f-4b9a-487c-8fa0-b9a26e2c626c",
           0.576171875
          ],
          [
           "5a71d07f-4b9a-487c-8fa0-b9a26e2c626c",
           0.677734375
          ],
          [
           "5a71d07f-4b9a-487c-8fa0-b9a26e2c626c",
           0.955078125
          ],
          [
           "5a71d07f-4b9a-487c-8fa0-b9a26e2c626c",
           0.904296875
          ],
          [
           "5a71d07f-4b9a-487c-8fa0-b9a26e2c626c",
           0.591796875
          ],
          [
           "5a71d07f-4b9a-487c-8fa0-b9a26e2c626c",
           0.685546875
          ],
          [
           "5a71d07f-4b9a-487c-8fa0-b9a26e2c626c",
           0.677734375
          ],
          [
           "5a71d07f-4b9a-487c-8fa0-b9a26e2c626c",
           0.943359375
          ],
          [
           "5a71d07f-4b9a-487c-8fa0-b9a26e2c626c",
           0.720703125
          ],
          [
           "5a71d07f-4b9a-487c-8fa0-b9a26e2c626c",
           0.533203125
          ],
          [
           "b1e7ffc8-b74a-4b98-bb8f-a5f3f8fcb3b7",
           0.615234375
          ],
          [
           "b1e7ffc8-b74a-4b98-bb8f-a5f3f8fcb3b7",
           0.521484375
          ],
          [
           "b1e7ffc8-b74a-4b98-bb8f-a5f3f8fcb3b7",
           0.587890625
          ],
          [
           "b1e7ffc8-b74a-4b98-bb8f-a5f3f8fcb3b7",
           0.626953125
          ],
          [
           "b1e7ffc8-b74a-4b98-bb8f-a5f3f8fcb3b7",
           0.673828125
          ],
          [
           "b1e7ffc8-b74a-4b98-bb8f-a5f3f8fcb3b7",
           0.689453125
          ],
          [
           "b1e7ffc8-b74a-4b98-bb8f-a5f3f8fcb3b7",
           0.591796875
          ],
          [
           "b1e7ffc8-b74a-4b98-bb8f-a5f3f8fcb3b7",
           0.822265625
          ],
          [
           "b1e7ffc8-b74a-4b98-bb8f-a5f3f8fcb3b7",
           0.533203125
          ],
          [
           "b1e7ffc8-b74a-4b98-bb8f-a5f3f8fcb3b7",
           0.716796875
          ],
          [
           "b1e7ffc8-b74a-4b98-bb8f-a5f3f8fcb3b7",
           0.666015625
          ],
          [
           "b1e7ffc8-b74a-4b98-bb8f-a5f3f8fcb3b7",
           0.892578125
          ],
          [
           "b1e7ffc8-b74a-4b98-bb8f-a5f3f8fcb3b7",
           0.947265625
          ],
          [
           "b1e7ffc8-b74a-4b98-bb8f-a5f3f8fcb3b7",
           0.974609375
          ],
          [
           "b1e7ffc8-b74a-4b98-bb8f-a5f3f8fcb3b7",
           0.759765625
          ],
          [
           "b1e7ffc8-b74a-4b98-bb8f-a5f3f8fcb3b7",
           0.583984375
          ],
          [
           "b1e7ffc8-b74a-4b98-bb8f-a5f3f8fcb3b7",
           0.572265625
          ],
          [
           "b1e7ffc8-b74a-4b98-bb8f-a5f3f8fcb3b7",
           0.541015625
          ],
          [
           "b1e7ffc8-b74a-4b98-bb8f-a5f3f8fcb3b7",
           0.615234375
          ],
          [
           "b1e7ffc8-b74a-4b98-bb8f-a5f3f8fcb3b7",
           0.669921875
          ],
          [
           "b1e7ffc8-b74a-4b98-bb8f-a5f3f8fcb3b7",
           0.818359375
          ],
          [
           "b1e7ffc8-b74a-4b98-bb8f-a5f3f8fcb3b7",
           0.712890625
          ],
          [
           "b1e7ffc8-b74a-4b98-bb8f-a5f3f8fcb3b7",
           0.763671875
          ],
          [
           "b1e7ffc8-b74a-4b98-bb8f-a5f3f8fcb3b7",
           0.720703125
          ],
          [
           "b1e7ffc8-b74a-4b98-bb8f-a5f3f8fcb3b7",
           0.919921875
          ],
          [
           "b1e7ffc8-b74a-4b98-bb8f-a5f3f8fcb3b7",
           0.517578125
          ],
          [
           "b1e7ffc8-b74a-4b98-bb8f-a5f3f8fcb3b7",
           0.693359375
          ],
          [
           "b1e7ffc8-b74a-4b98-bb8f-a5f3f8fcb3b7",
           0.744140625
          ],
          [
           "b1e7ffc8-b74a-4b98-bb8f-a5f3f8fcb3b7",
           0.748046875
          ],
          [
           "b1e7ffc8-b74a-4b98-bb8f-a5f3f8fcb3b7",
           0.947265625
          ],
          [
           "b1e7ffc8-b74a-4b98-bb8f-a5f3f8fcb3b7",
           0.751953125
          ],
          [
           "b1e7ffc8-b74a-4b98-bb8f-a5f3f8fcb3b7",
           0.744140625
          ],
          [
           "b1e7ffc8-b74a-4b98-bb8f-a5f3f8fcb3b7",
           0.896484375
          ],
          [
           "b1e7ffc8-b74a-4b98-bb8f-a5f3f8fcb3b7",
           0.900390625
          ],
          [
           "b1e7ffc8-b74a-4b98-bb8f-a5f3f8fcb3b7",
           0.791015625
          ],
          [
           "b1e7ffc8-b74a-4b98-bb8f-a5f3f8fcb3b7",
           0.634765625
          ],
          [
           "b1e7ffc8-b74a-4b98-bb8f-a5f3f8fcb3b7",
           0.814453125
          ],
          [
           "b1e7ffc8-b74a-4b98-bb8f-a5f3f8fcb3b7",
           0.732421875
          ],
          [
           "b1e7ffc8-b74a-4b98-bb8f-a5f3f8fcb3b7",
           0.904296875
          ],
          [
           "b1e7ffc8-b74a-4b98-bb8f-a5f3f8fcb3b7",
           0.716796875
          ],
          [
           "b1e7ffc8-b74a-4b98-bb8f-a5f3f8fcb3b7",
           0.806640625
          ],
          [
           "b1e7ffc8-b74a-4b98-bb8f-a5f3f8fcb3b7",
           0.615234375
          ],
          [
           "b1e7ffc8-b74a-4b98-bb8f-a5f3f8fcb3b7",
           0.689453125
          ],
          [
           "b1e7ffc8-b74a-4b98-bb8f-a5f3f8fcb3b7",
           0.923828125
          ],
          [
           "b1e7ffc8-b74a-4b98-bb8f-a5f3f8fcb3b7",
           0.736328125
          ],
          [
           "b1e7ffc8-b74a-4b98-bb8f-a5f3f8fcb3b7",
           0.611328125
          ],
          [
           "b1e7ffc8-b74a-4b98-bb8f-a5f3f8fcb3b7",
           0.509765625
          ],
          [
           "b1e7ffc8-b74a-4b98-bb8f-a5f3f8fcb3b7",
           0.501953125
          ],
          [
           "7e3be4d2-be0b-4eda-91fb-d56b0df8d9ec",
           0.869140625
          ],
          [
           "7e3be4d2-be0b-4eda-91fb-d56b0df8d9ec",
           0.791015625
          ],
          [
           "7e3be4d2-be0b-4eda-91fb-d56b0df8d9ec",
           0.658203125
          ],
          [
           "7e3be4d2-be0b-4eda-91fb-d56b0df8d9ec",
           0.603515625
          ],
          [
           "7e3be4d2-be0b-4eda-91fb-d56b0df8d9ec",
           0.587890625
          ],
          [
           "7e3be4d2-be0b-4eda-91fb-d56b0df8d9ec",
           0.607421875
          ],
          [
           "7e3be4d2-be0b-4eda-91fb-d56b0df8d9ec",
           0.841796875
          ],
          [
           "7e3be4d2-be0b-4eda-91fb-d56b0df8d9ec",
           0.791015625
          ],
          [
           "7e3be4d2-be0b-4eda-91fb-d56b0df8d9ec",
           0.533203125
          ],
          [
           "7e3be4d2-be0b-4eda-91fb-d56b0df8d9ec",
           0.677734375
          ],
          [
           "7e3be4d2-be0b-4eda-91fb-d56b0df8d9ec",
           0.673828125
          ],
          [
           "7e3be4d2-be0b-4eda-91fb-d56b0df8d9ec",
           0.607421875
          ],
          [
           "7e3be4d2-be0b-4eda-91fb-d56b0df8d9ec",
           0.791015625
          ],
          [
           "7e3be4d2-be0b-4eda-91fb-d56b0df8d9ec",
           0.599609375
          ],
          [
           "7e3be4d2-be0b-4eda-91fb-d56b0df8d9ec",
           0.978515625
          ],
          [
           "7e3be4d2-be0b-4eda-91fb-d56b0df8d9ec",
           0.822265625
          ],
          [
           "7e3be4d2-be0b-4eda-91fb-d56b0df8d9ec",
           0.552734375
          ],
          [
           "7e3be4d2-be0b-4eda-91fb-d56b0df8d9ec",
           0.552734375
          ],
          [
           "7e3be4d2-be0b-4eda-91fb-d56b0df8d9ec",
           0.767578125
          ],
          [
           "7e3be4d2-be0b-4eda-91fb-d56b0df8d9ec",
           0.501953125
          ],
          [
           "7e3be4d2-be0b-4eda-91fb-d56b0df8d9ec",
           0.986328125
          ],
          [
           "7e3be4d2-be0b-4eda-91fb-d56b0df8d9ec",
           0.923828125
          ],
          [
           "7e3be4d2-be0b-4eda-91fb-d56b0df8d9ec",
           0.935546875
          ],
          [
           "7e3be4d2-be0b-4eda-91fb-d56b0df8d9ec",
           0.849609375
          ],
          [
           "7e3be4d2-be0b-4eda-91fb-d56b0df8d9ec",
           0.728515625
          ],
          [
           "7e3be4d2-be0b-4eda-91fb-d56b0df8d9ec",
           0.787109375
          ],
          [
           "7e3be4d2-be0b-4eda-91fb-d56b0df8d9ec",
           0.615234375
          ],
          [
           "7e3be4d2-be0b-4eda-91fb-d56b0df8d9ec",
           0.830078125
          ],
          [
           "7e3be4d2-be0b-4eda-91fb-d56b0df8d9ec",
           0.525390625
          ],
          [
           "7e3be4d2-be0b-4eda-91fb-d56b0df8d9ec",
           0.931640625
          ],
          [
           "7e3be4d2-be0b-4eda-91fb-d56b0df8d9ec",
           0.951171875
          ],
          [
           "7e3be4d2-be0b-4eda-91fb-d56b0df8d9ec",
           0.568359375
          ],
          [
           "7e3be4d2-be0b-4eda-91fb-d56b0df8d9ec",
           0.673828125
          ],
          [
           "7e3be4d2-be0b-4eda-91fb-d56b0df8d9ec",
           0.794921875
          ],
          [
           "7e3be4d2-be0b-4eda-91fb-d56b0df8d9ec",
           0.541015625
          ],
          [
           "7e3be4d2-be0b-4eda-91fb-d56b0df8d9ec",
           0.650390625
          ],
          [
           "7e3be4d2-be0b-4eda-91fb-d56b0df8d9ec",
           0.841796875
          ],
          [
           "7e3be4d2-be0b-4eda-91fb-d56b0df8d9ec",
           0.802734375
          ],
          [
           "7e3be4d2-be0b-4eda-91fb-d56b0df8d9ec",
           0.958984375
          ],
          [
           "7e3be4d2-be0b-4eda-91fb-d56b0df8d9ec",
           0.927734375
          ],
          [
           "7e3be4d2-be0b-4eda-91fb-d56b0df8d9ec",
           0.927734375
          ],
          [
           "a6fcae27-656a-4f86-b117-02fee057fab6",
           0.892578125
          ],
          [
           "a6fcae27-656a-4f86-b117-02fee057fab6",
           0.830078125
          ],
          [
           "a6fcae27-656a-4f86-b117-02fee057fab6",
           0.861328125
          ],
          [
           "a6fcae27-656a-4f86-b117-02fee057fab6",
           0.849609375
          ],
          [
           "a6fcae27-656a-4f86-b117-02fee057fab6",
           0.705078125
          ],
          [
           "a6fcae27-656a-4f86-b117-02fee057fab6",
           0.873046875
          ],
          [
           "a6fcae27-656a-4f86-b117-02fee057fab6",
           0.767578125
          ],
          [
           "a6fcae27-656a-4f86-b117-02fee057fab6",
           0.884765625
          ],
          [
           "a6fcae27-656a-4f86-b117-02fee057fab6",
           0.669921875
          ],
          [
           "a6fcae27-656a-4f86-b117-02fee057fab6",
           0.619140625
          ],
          [
           "a6fcae27-656a-4f86-b117-02fee057fab6",
           0.583984375
          ],
          [
           "a6fcae27-656a-4f86-b117-02fee057fab6",
           0.927734375
          ],
          [
           "a6fcae27-656a-4f86-b117-02fee057fab6",
           0.560546875
          ],
          [
           "a6fcae27-656a-4f86-b117-02fee057fab6",
           0.654296875
          ],
          [
           "a6fcae27-656a-4f86-b117-02fee057fab6",
           0.615234375
          ],
          [
           "a6fcae27-656a-4f86-b117-02fee057fab6",
           0.728515625
          ],
          [
           "a6fcae27-656a-4f86-b117-02fee057fab6",
           0.572265625
          ],
          [
           "a6fcae27-656a-4f86-b117-02fee057fab6",
           0.630859375
          ],
          [
           "a6fcae27-656a-4f86-b117-02fee057fab6",
           0.544921875
          ],
          [
           "a6fcae27-656a-4f86-b117-02fee057fab6",
           0.787109375
          ],
          [
           "a6fcae27-656a-4f86-b117-02fee057fab6",
           0.763671875
          ],
          [
           "a6fcae27-656a-4f86-b117-02fee057fab6",
           0.556640625
          ],
          [
           "a6fcae27-656a-4f86-b117-02fee057fab6",
           0.611328125
          ],
          [
           "a6fcae27-656a-4f86-b117-02fee057fab6",
           0.552734375
          ],
          [
           "a6fcae27-656a-4f86-b117-02fee057fab6",
           0.708984375
          ],
          [
           "a6fcae27-656a-4f86-b117-02fee057fab6",
           0.732421875
          ],
          [
           "a6fcae27-656a-4f86-b117-02fee057fab6",
           0.705078125
          ],
          [
           "a6fcae27-656a-4f86-b117-02fee057fab6",
           0.751953125
          ],
          [
           "a6fcae27-656a-4f86-b117-02fee057fab6",
           0.720703125
          ],
          [
           "a6fcae27-656a-4f86-b117-02fee057fab6",
           0.708984375
          ],
          [
           "a6fcae27-656a-4f86-b117-02fee057fab6",
           0.658203125
          ],
          [
           "a6fcae27-656a-4f86-b117-02fee057fab6",
           0.787109375
          ],
          [
           "a6fcae27-656a-4f86-b117-02fee057fab6",
           0.697265625
          ],
          [
           "a6fcae27-656a-4f86-b117-02fee057fab6",
           0.720703125
          ],
          [
           "a6fcae27-656a-4f86-b117-02fee057fab6",
           0.744140625
          ],
          [
           "a6fcae27-656a-4f86-b117-02fee057fab6",
           0.658203125
          ],
          [
           "a6fcae27-656a-4f86-b117-02fee057fab6",
           0.818359375
          ],
          [
           "a6fcae27-656a-4f86-b117-02fee057fab6",
           0.779296875
          ],
          [
           "a6fcae27-656a-4f86-b117-02fee057fab6",
           0.755859375
          ],
          [
           "a6fcae27-656a-4f86-b117-02fee057fab6",
           0.701171875
          ],
          [
           "49025607-57f8-4319-adfb-1d30dc5fca5a",
           0.587890625
          ],
          [
           "49025607-57f8-4319-adfb-1d30dc5fca5a",
           0.861328125
          ],
          [
           "49025607-57f8-4319-adfb-1d30dc5fca5a",
           0.986328125
          ],
          [
           "49025607-57f8-4319-adfb-1d30dc5fca5a",
           0.681640625
          ],
          [
           "49025607-57f8-4319-adfb-1d30dc5fca5a",
           0.791015625
          ],
          [
           "49025607-57f8-4319-adfb-1d30dc5fca5a",
           0.525390625
          ],
          [
           "49025607-57f8-4319-adfb-1d30dc5fca5a",
           0.552734375
          ],
          [
           "49025607-57f8-4319-adfb-1d30dc5fca5a",
           0.716796875
          ],
          [
           "49025607-57f8-4319-adfb-1d30dc5fca5a",
           0.712890625
          ],
          [
           "49025607-57f8-4319-adfb-1d30dc5fca5a",
           0.876953125
          ],
          [
           "49025607-57f8-4319-adfb-1d30dc5fca5a",
           0.806640625
          ],
          [
           "49025607-57f8-4319-adfb-1d30dc5fca5a",
           0.619140625
          ],
          [
           "49025607-57f8-4319-adfb-1d30dc5fca5a",
           0.759765625
          ],
          [
           "49025607-57f8-4319-adfb-1d30dc5fca5a",
           0.904296875
          ],
          [
           "49025607-57f8-4319-adfb-1d30dc5fca5a",
           0.642578125
          ],
          [
           "49025607-57f8-4319-adfb-1d30dc5fca5a",
           0.794921875
          ],
          [
           "49025607-57f8-4319-adfb-1d30dc5fca5a",
           0.884765625
          ],
          [
           "49025607-57f8-4319-adfb-1d30dc5fca5a",
           0.880859375
          ],
          [
           "49025607-57f8-4319-adfb-1d30dc5fca5a",
           0.689453125
          ],
          [
           "49025607-57f8-4319-adfb-1d30dc5fca5a",
           0.603515625
          ],
          [
           "49025607-57f8-4319-adfb-1d30dc5fca5a",
           0.927734375
          ],
          [
           "49025607-57f8-4319-adfb-1d30dc5fca5a",
           0.685546875
          ],
          [
           "49025607-57f8-4319-adfb-1d30dc5fca5a",
           0.876953125
          ],
          [
           "49025607-57f8-4319-adfb-1d30dc5fca5a",
           0.869140625
          ],
          [
           "49025607-57f8-4319-adfb-1d30dc5fca5a",
           0.865234375
          ],
          [
           "49025607-57f8-4319-adfb-1d30dc5fca5a",
           0.755859375
          ],
          [
           "49025607-57f8-4319-adfb-1d30dc5fca5a",
           0.650390625
          ],
          [
           "49025607-57f8-4319-adfb-1d30dc5fca5a",
           0.638671875
          ],
          [
           "49025607-57f8-4319-adfb-1d30dc5fca5a",
           0.970703125
          ],
          [
           "49025607-57f8-4319-adfb-1d30dc5fca5a",
           0.947265625
          ],
          [
           "49025607-57f8-4319-adfb-1d30dc5fca5a",
           0.654296875
          ],
          [
           "49025607-57f8-4319-adfb-1d30dc5fca5a",
           0.587890625
          ],
          [
           "49025607-57f8-4319-adfb-1d30dc5fca5a",
           0.888671875
          ],
          [
           "49025607-57f8-4319-adfb-1d30dc5fca5a",
           0.681640625
          ],
          [
           "49025607-57f8-4319-adfb-1d30dc5fca5a",
           0.669921875
          ],
          [
           "49025607-57f8-4319-adfb-1d30dc5fca5a",
           0.876953125
          ],
          [
           "49025607-57f8-4319-adfb-1d30dc5fca5a",
           0.681640625
          ],
          [
           "49025607-57f8-4319-adfb-1d30dc5fca5a",
           0.966796875
          ],
          [
           "49025607-57f8-4319-adfb-1d30dc5fca5a",
           0.892578125
          ],
          [
           "0254472b-d540-423f-8589-cd6bc16c74c9",
           0.873046875
          ],
          [
           "0254472b-d540-423f-8589-cd6bc16c74c9",
           0.955078125
          ],
          [
           "0254472b-d540-423f-8589-cd6bc16c74c9",
           0.853515625
          ],
          [
           "0254472b-d540-423f-8589-cd6bc16c74c9",
           0.544921875
          ],
          [
           "0254472b-d540-423f-8589-cd6bc16c74c9",
           0.720703125
          ],
          [
           "0254472b-d540-423f-8589-cd6bc16c74c9",
           0.802734375
          ],
          [
           "0254472b-d540-423f-8589-cd6bc16c74c9",
           0.912109375
          ],
          [
           "0254472b-d540-423f-8589-cd6bc16c74c9",
           0.791015625
          ],
          [
           "0254472b-d540-423f-8589-cd6bc16c74c9",
           0.826171875
          ],
          [
           "0254472b-d540-423f-8589-cd6bc16c74c9",
           0.650390625
          ],
          [
           "0254472b-d540-423f-8589-cd6bc16c74c9",
           0.580078125
          ],
          [
           "0254472b-d540-423f-8589-cd6bc16c74c9",
           0.982421875
          ],
          [
           "0254472b-d540-423f-8589-cd6bc16c74c9",
           0.830078125
          ],
          [
           "0254472b-d540-423f-8589-cd6bc16c74c9",
           0.517578125
          ],
          [
           "0254472b-d540-423f-8589-cd6bc16c74c9",
           0.572265625
          ],
          [
           "0254472b-d540-423f-8589-cd6bc16c74c9",
           0.771484375
          ],
          [
           "0254472b-d540-423f-8589-cd6bc16c74c9",
           0.794921875
          ],
          [
           "0254472b-d540-423f-8589-cd6bc16c74c9",
           0.560546875
          ],
          [
           "0254472b-d540-423f-8589-cd6bc16c74c9",
           0.509765625
          ],
          [
           "09ad09ac-fe99-4e99-9fe4-d308c41538d8",
           0.744140625
          ],
          [
           "09ad09ac-fe99-4e99-9fe4-d308c41538d8",
           0.947265625
          ],
          [
           "09ad09ac-fe99-4e99-9fe4-d308c41538d8",
           0.974609375
          ],
          [
           "09ad09ac-fe99-4e99-9fe4-d308c41538d8",
           0.533203125
          ],
          [
           "09ad09ac-fe99-4e99-9fe4-d308c41538d8",
           0.587890625
          ],
          [
           "09ad09ac-fe99-4e99-9fe4-d308c41538d8",
           0.533203125
          ],
          [
           "09ad09ac-fe99-4e99-9fe4-d308c41538d8",
           0.501953125
          ],
          [
           "09ad09ac-fe99-4e99-9fe4-d308c41538d8",
           0.580078125
          ],
          [
           "09ad09ac-fe99-4e99-9fe4-d308c41538d8",
           0.849609375
          ],
          [
           "09ad09ac-fe99-4e99-9fe4-d308c41538d8",
           0.923828125
          ],
          [
           "09ad09ac-fe99-4e99-9fe4-d308c41538d8",
           0.544921875
          ],
          [
           "09ad09ac-fe99-4e99-9fe4-d308c41538d8",
           0.662109375
          ],
          [
           "09ad09ac-fe99-4e99-9fe4-d308c41538d8",
           0.771484375
          ],
          [
           "09ad09ac-fe99-4e99-9fe4-d308c41538d8",
           0.900390625
          ],
          [
           "09ad09ac-fe99-4e99-9fe4-d308c41538d8",
           0.783203125
          ],
          [
           "09ad09ac-fe99-4e99-9fe4-d308c41538d8",
           0.876953125
          ],
          [
           "09ad09ac-fe99-4e99-9fe4-d308c41538d8",
           0.525390625
          ],
          [
           "09ad09ac-fe99-4e99-9fe4-d308c41538d8",
           0.669921875
          ],
          [
           "09ad09ac-fe99-4e99-9fe4-d308c41538d8",
           0.552734375
          ],
          [
           "09ad09ac-fe99-4e99-9fe4-d308c41538d8",
           0.771484375
          ],
          [
           "09ad09ac-fe99-4e99-9fe4-d308c41538d8",
           0.705078125
          ],
          [
           "09ad09ac-fe99-4e99-9fe4-d308c41538d8",
           0.705078125
          ],
          [
           "09ad09ac-fe99-4e99-9fe4-d308c41538d8",
           0.669921875
          ],
          [
           "09ad09ac-fe99-4e99-9fe4-d308c41538d8",
           0.662109375
          ],
          [
           "09ad09ac-fe99-4e99-9fe4-d308c41538d8",
           0.587890625
          ],
          [
           "09ad09ac-fe99-4e99-9fe4-d308c41538d8",
           0.791015625
          ],
          [
           "09ad09ac-fe99-4e99-9fe4-d308c41538d8",
           0.607421875
          ],
          [
           "09ad09ac-fe99-4e99-9fe4-d308c41538d8",
           0.779296875
          ],
          [
           "09ad09ac-fe99-4e99-9fe4-d308c41538d8",
           0.822265625
          ],
          [
           "ce306fa9-2d47-45dc-8d7a-2294fdcd5e25",
           0.798828125
          ],
          [
           "ce306fa9-2d47-45dc-8d7a-2294fdcd5e25",
           0.966796875
          ],
          [
           "ce306fa9-2d47-45dc-8d7a-2294fdcd5e25",
           0.873046875
          ],
          [
           "ce306fa9-2d47-45dc-8d7a-2294fdcd5e25",
           0.923828125
          ],
          [
           "ce306fa9-2d47-45dc-8d7a-2294fdcd5e25",
           0.697265625
          ],
          [
           "ce306fa9-2d47-45dc-8d7a-2294fdcd5e25",
           0.759765625
          ],
          [
           "ce306fa9-2d47-45dc-8d7a-2294fdcd5e25",
           0.638671875
          ],
          [
           "ce306fa9-2d47-45dc-8d7a-2294fdcd5e25",
           0.998046875
          ],
          [
           "ce306fa9-2d47-45dc-8d7a-2294fdcd5e25",
           0.919921875
          ],
          [
           "ce306fa9-2d47-45dc-8d7a-2294fdcd5e25",
           0.916015625
          ]
         ],
         "hovertemplate": "<b>Read</b>: %{customdata[0]}<br><b>Position</b>: %{x:,}<br><b>Probability</b>: %{customdata[1]:.2f}",
         "marker": {
          "color": [
           0.556640625,
           0.599609375,
           0.783203125,
           0.822265625,
           0.865234375,
           0.912109375,
           0.794921875,
           0.552734375,
           0.576171875,
           0.931640625,
           0.779296875,
           0.548828125,
           0.544921875,
           0.826171875,
           0.962890625,
           0.513671875,
           0.759765625,
           0.689453125,
           0.892578125,
           0.884765625,
           0.970703125,
           0.970703125,
           0.970703125,
           0.939453125,
           0.783203125,
           0.849609375,
           0.779296875,
           0.673828125,
           0.904296875,
           0.814453125,
           0.841796875,
           0.794921875,
           0.822265625,
           0.833984375,
           0.802734375,
           0.763671875,
           0.767578125,
           0.630859375,
           0.998046875,
           0.587890625,
           0.748046875,
           0.857421875,
           0.525390625,
           0.564453125,
           0.736328125,
           0.978515625,
           0.861328125,
           0.865234375,
           0.712890625,
           0.720703125,
           0.673828125,
           0.892578125,
           0.623046875,
           0.751953125,
           0.830078125,
           0.771484375,
           0.880859375,
           0.669921875,
           0.955078125,
           0.978515625,
           0.900390625,
           0.576171875,
           0.857421875,
           0.822265625,
           0.771484375,
           0.826171875,
           0.880859375,
           0.533203125,
           0.673828125,
           0.783203125,
           0.681640625,
           0.865234375,
           0.619140625,
           0.908203125,
           0.966796875,
           0.865234375,
           0.720703125,
           0.767578125,
           0.748046875,
           0.595703125,
           0.833984375,
           0.935546875,
           0.900390625,
           0.767578125,
           0.919921875,
           0.982421875,
           0.759765625,
           0.837890625,
           0.556640625,
           0.857421875,
           0.634765625,
           0.599609375,
           0.650390625,
           0.759765625,
           0.904296875,
           0.998046875,
           0.533203125,
           0.599609375,
           0.978515625,
           0.677734375,
           0.689453125,
           0.603515625,
           0.791015625,
           0.849609375,
           0.884765625,
           0.525390625,
           0.826171875,
           0.919921875,
           0.689453125,
           0.783203125,
           0.623046875,
           0.591796875,
           0.966796875,
           0.841796875,
           0.853515625,
           0.697265625,
           0.806640625,
           0.947265625,
           0.931640625,
           0.736328125,
           0.607421875,
           0.658203125,
           0.642578125,
           0.658203125,
           0.728515625,
           0.564453125,
           0.919921875,
           0.962890625,
           0.857421875,
           0.931640625,
           0.947265625,
           0.630859375,
           0.591796875,
           0.978515625,
           0.986328125,
           0.798828125,
           0.873046875,
           0.564453125,
           0.689453125,
           0.552734375,
           0.751953125,
           0.951171875,
           0.583984375,
           0.626953125,
           0.541015625,
           0.880859375,
           0.873046875,
           0.611328125,
           0.869140625,
           0.740234375,
           0.779296875,
           0.970703125,
           0.955078125,
           0.708984375,
           0.919921875,
           0.689453125,
           0.767578125,
           0.630859375,
           0.740234375,
           0.966796875,
           0.943359375,
           0.900390625,
           0.904296875,
           0.931640625,
           0.603515625,
           0.958984375,
           0.794921875,
           0.923828125,
           0.880859375,
           0.865234375,
           0.845703125,
           0.712890625,
           0.626953125,
           0.642578125,
           0.525390625,
           0.736328125,
           0.775390625,
           0.767578125,
           0.775390625,
           0.724609375,
           0.783203125,
           0.833984375,
           0.505859375,
           0.513671875,
           0.771484375,
           0.767578125,
           0.720703125,
           0.955078125,
           0.806640625,
           0.802734375,
           0.630859375,
           0.587890625,
           0.541015625,
           0.751953125,
           0.716796875,
           0.884765625,
           0.662109375,
           0.814453125,
           0.771484375,
           0.806640625,
           0.837890625,
           0.763671875,
           0.736328125,
           0.845703125,
           0.685546875,
           0.630859375,
           0.638671875,
           0.533203125,
           0.775390625,
           0.572265625,
           0.787109375,
           0.806640625,
           0.962890625,
           0.927734375,
           0.912109375,
           0.513671875,
           0.892578125,
           0.955078125,
           0.978515625,
           0.966796875,
           0.974609375,
           0.998046875,
           0.697265625,
           0.744140625,
           0.962890625,
           0.888671875,
           0.537109375,
           0.955078125,
           0.787109375,
           0.642578125,
           0.869140625,
           0.966796875,
           0.787109375,
           0.962890625,
           0.736328125,
           0.884765625,
           0.705078125,
           0.634765625,
           0.853515625,
           0.919921875,
           0.865234375,
           0.552734375,
           0.943359375,
           0.798828125,
           0.767578125,
           0.861328125,
           0.642578125,
           0.701171875,
           0.955078125,
           0.619140625,
           0.888671875,
           0.806640625,
           0.603515625,
           0.650390625,
           0.642578125,
           0.830078125,
           0.880859375,
           0.943359375,
           0.564453125,
           0.505859375,
           0.771484375,
           0.837890625,
           0.771484375,
           0.822265625,
           0.779296875,
           0.638671875,
           0.849609375,
           0.888671875,
           0.560546875,
           0.798828125,
           0.767578125,
           0.826171875,
           0.833984375,
           0.517578125,
           0.548828125,
           0.822265625,
           0.896484375,
           0.841796875,
           0.990234375,
           0.802734375,
           0.689453125,
           0.970703125,
           0.931640625,
           0.818359375,
           0.517578125,
           0.865234375,
           0.841796875,
           0.822265625,
           0.767578125,
           0.814453125,
           0.552734375,
           0.791015625,
           0.708984375,
           0.822265625,
           0.904296875,
           0.947265625,
           0.951171875,
           0.591796875,
           0.701171875,
           0.556640625,
           0.638671875,
           0.748046875,
           0.658203125,
           0.736328125,
           0.701171875,
           0.912109375,
           0.861328125,
           0.876953125,
           0.888671875,
           0.619140625,
           0.736328125,
           0.708984375,
           0.896484375,
           0.826171875,
           0.919921875,
           0.775390625,
           0.564453125,
           0.837890625,
           0.802734375,
           0.595703125,
           0.638671875,
           0.783203125,
           0.666015625,
           0.501953125,
           0.537109375,
           0.732421875,
           0.576171875,
           0.642578125,
           0.501953125,
           0.552734375,
           0.900390625,
           0.568359375,
           0.505859375,
           0.572265625,
           0.666015625,
           0.685546875,
           0.513671875,
           0.552734375,
           0.646484375,
           0.576171875,
           0.771484375,
           0.642578125,
           0.689453125,
           0.916015625,
           0.693359375,
           0.857421875,
           0.771484375,
           0.716796875,
           0.552734375,
           0.595703125,
           0.830078125,
           0.853515625,
           0.849609375,
           0.900390625,
           0.787109375,
           0.638671875,
           0.779296875,
           0.943359375,
           0.537109375,
           0.544921875,
           0.869140625,
           0.865234375,
           0.884765625,
           0.927734375,
           0.916015625,
           0.712890625,
           0.767578125,
           0.810546875,
           0.552734375,
           0.779296875,
           0.560546875,
           0.576171875,
           0.513671875,
           0.705078125,
           0.705078125,
           0.974609375,
           0.982421875,
           0.892578125,
           0.958984375,
           0.826171875,
           0.775390625,
           0.634765625,
           0.630859375,
           0.638671875,
           0.583984375,
           0.626953125,
           0.771484375,
           0.572265625,
           0.931640625,
           0.884765625,
           0.857421875,
           0.666015625,
           0.955078125,
           0.630859375,
           0.712890625,
           0.716796875,
           0.708984375,
           0.833984375,
           0.791015625,
           0.951171875,
           0.548828125,
           0.744140625,
           0.701171875,
           0.931640625,
           0.900390625,
           0.955078125,
           0.935546875,
           0.892578125,
           0.837890625,
           0.607421875,
           0.576171875,
           0.869140625,
           0.705078125,
           0.548828125,
           0.994140625,
           0.873046875,
           0.892578125,
           0.607421875,
           0.896484375,
           0.919921875,
           0.685546875,
           0.537109375,
           0.857421875,
           0.884765625,
           0.603515625,
           0.521484375,
           0.779296875,
           0.603515625,
           0.599609375,
           0.501953125,
           0.572265625,
           0.923828125,
           0.677734375,
           0.755859375,
           0.876953125,
           0.884765625,
           0.943359375,
           0.759765625,
           0.884765625,
           0.568359375,
           0.576171875,
           0.708984375,
           0.767578125,
           0.900390625,
           0.888671875,
           0.599609375,
           0.908203125,
           0.916015625,
           0.861328125,
           0.896484375,
           0.908203125,
           0.904296875,
           0.908203125,
           0.900390625,
           0.939453125,
           0.587890625,
           0.626953125,
           0.818359375,
           0.701171875,
           0.505859375,
           0.556640625,
           0.955078125,
           0.931640625,
           0.587890625,
           0.736328125,
           0.947265625,
           0.791015625,
           0.943359375,
           0.880859375,
           0.939453125,
           0.833984375,
           0.880859375,
           0.958984375,
           0.966796875,
           0.833984375,
           0.826171875,
           0.908203125,
           0.892578125,
           0.892578125,
           0.873046875,
           0.501953125,
           0.763671875,
           0.623046875,
           0.990234375,
           0.505859375,
           0.501953125,
           0.833984375,
           0.931640625,
           0.912109375,
           0.732421875,
           0.896484375,
           0.908203125,
           0.908203125,
           0.732421875,
           0.521484375,
           0.685546875,
           0.849609375,
           0.513671875,
           0.919921875,
           0.744140625,
           0.998046875,
           0.650390625,
           0.939453125,
           0.919921875,
           0.876953125,
           0.791015625,
           0.630859375,
           0.755859375,
           0.904296875,
           0.919921875,
           0.986328125,
           0.783203125,
           0.794921875,
           0.775390625,
           0.748046875,
           0.806640625,
           0.548828125,
           0.607421875,
           0.919921875,
           0.798828125,
           0.759765625,
           0.654296875,
           0.732421875,
           0.560546875,
           0.673828125,
           0.876953125,
           0.548828125,
           0.978515625,
           0.857421875,
           0.947265625,
           0.861328125,
           0.802734375,
           0.783203125,
           0.576171875,
           0.677734375,
           0.955078125,
           0.904296875,
           0.591796875,
           0.685546875,
           0.677734375,
           0.943359375,
           0.720703125,
           0.533203125,
           0.615234375,
           0.521484375,
           0.587890625,
           0.626953125,
           0.673828125,
           0.689453125,
           0.591796875,
           0.822265625,
           0.533203125,
           0.716796875,
           0.666015625,
           0.892578125,
           0.947265625,
           0.974609375,
           0.759765625,
           0.583984375,
           0.572265625,
           0.541015625,
           0.615234375,
           0.669921875,
           0.818359375,
           0.712890625,
           0.763671875,
           0.720703125,
           0.919921875,
           0.517578125,
           0.693359375,
           0.744140625,
           0.748046875,
           0.947265625,
           0.751953125,
           0.744140625,
           0.896484375,
           0.900390625,
           0.791015625,
           0.634765625,
           0.814453125,
           0.732421875,
           0.904296875,
           0.716796875,
           0.806640625,
           0.615234375,
           0.689453125,
           0.923828125,
           0.736328125,
           0.611328125,
           0.509765625,
           0.501953125,
           0.869140625,
           0.791015625,
           0.658203125,
           0.603515625,
           0.587890625,
           0.607421875,
           0.841796875,
           0.791015625,
           0.533203125,
           0.677734375,
           0.673828125,
           0.607421875,
           0.791015625,
           0.599609375,
           0.978515625,
           0.822265625,
           0.552734375,
           0.552734375,
           0.767578125,
           0.501953125,
           0.986328125,
           0.923828125,
           0.935546875,
           0.849609375,
           0.728515625,
           0.787109375,
           0.615234375,
           0.830078125,
           0.525390625,
           0.931640625,
           0.951171875,
           0.568359375,
           0.673828125,
           0.794921875,
           0.541015625,
           0.650390625,
           0.841796875,
           0.802734375,
           0.958984375,
           0.927734375,
           0.927734375,
           0.892578125,
           0.830078125,
           0.861328125,
           0.849609375,
           0.705078125,
           0.873046875,
           0.767578125,
           0.884765625,
           0.669921875,
           0.619140625,
           0.583984375,
           0.927734375,
           0.560546875,
           0.654296875,
           0.615234375,
           0.728515625,
           0.572265625,
           0.630859375,
           0.544921875,
           0.787109375,
           0.763671875,
           0.556640625,
           0.611328125,
           0.552734375,
           0.708984375,
           0.732421875,
           0.705078125,
           0.751953125,
           0.720703125,
           0.708984375,
           0.658203125,
           0.787109375,
           0.697265625,
           0.720703125,
           0.744140625,
           0.658203125,
           0.818359375,
           0.779296875,
           0.755859375,
           0.701171875,
           0.587890625,
           0.861328125,
           0.986328125,
           0.681640625,
           0.791015625,
           0.525390625,
           0.552734375,
           0.716796875,
           0.712890625,
           0.876953125,
           0.806640625,
           0.619140625,
           0.759765625,
           0.904296875,
           0.642578125,
           0.794921875,
           0.884765625,
           0.880859375,
           0.689453125,
           0.603515625,
           0.927734375,
           0.685546875,
           0.876953125,
           0.869140625,
           0.865234375,
           0.755859375,
           0.650390625,
           0.638671875,
           0.970703125,
           0.947265625,
           0.654296875,
           0.587890625,
           0.888671875,
           0.681640625,
           0.669921875,
           0.876953125,
           0.681640625,
           0.966796875,
           0.892578125,
           0.873046875,
           0.955078125,
           0.853515625,
           0.544921875,
           0.720703125,
           0.802734375,
           0.912109375,
           0.791015625,
           0.826171875,
           0.650390625,
           0.580078125,
           0.982421875,
           0.830078125,
           0.517578125,
           0.572265625,
           0.771484375,
           0.794921875,
           0.560546875,
           0.509765625,
           0.744140625,
           0.947265625,
           0.974609375,
           0.533203125,
           0.587890625,
           0.533203125,
           0.501953125,
           0.580078125,
           0.849609375,
           0.923828125,
           0.544921875,
           0.662109375,
           0.771484375,
           0.900390625,
           0.783203125,
           0.876953125,
           0.525390625,
           0.669921875,
           0.552734375,
           0.771484375,
           0.705078125,
           0.705078125,
           0.669921875,
           0.662109375,
           0.587890625,
           0.791015625,
           0.607421875,
           0.779296875,
           0.822265625,
           0.798828125,
           0.966796875,
           0.873046875,
           0.923828125,
           0.697265625,
           0.759765625,
           0.638671875,
           0.998046875,
           0.919921875,
           0.916015625
          ],
          "colorbar": {
           "thickness": 15,
           "tickmode": "array",
           "ticks": "outside",
           "ticktext": [
            "0.5",
            "1.0"
           ],
           "tickvals": [
            0.501953125,
            0.998046875
           ],
           "title": {
            "side": "right",
            "text": "A,0 probability"
           },
           "x": 1
          },
          "colorscale": [
           [
            0,
            "white"
           ],
           [
            1,
            "blue"
           ]
          ],
          "size": 4
         },
         "mode": "markers",
         "showlegend": false,
         "type": "scatter",
         "x": [
          114356450,
          114356488,
          114356815,
          114356844,
          114356846,
          114356848,
          114356861,
          114356863,
          114357034,
          114357036,
          114357037,
          114357038,
          114358452,
          114358475,
          114358503,
          114358506,
          114358522,
          114358523,
          114358532,
          114358547,
          114358613,
          114358615,
          114358616,
          114358618,
          114358622,
          114358773,
          114358775,
          114359477,
          114359500,
          114359503,
          114359552,
          114359558,
          114359563,
          114359565,
          114359567,
          114359568,
          114359569,
          114359667,
          114359700,
          114356551,
          114356570,
          114356572,
          114356618,
          114356620,
          114356622,
          114356637,
          114356820,
          114356822,
          114356864,
          114356869,
          114356873,
          114356875,
          114358280,
          114358426,
          114358457,
          114358459,
          114358478,
          114358480,
          114358508,
          114358510,
          114358512,
          114358611,
          114358706,
          114358707,
          114358710,
          114358711,
          114358713,
          114358799,
          114358813,
          114358822,
          114358825,
          114358828,
          114358831,
          114358988,
          114358990,
          114359015,
          114359017,
          114359026,
          114359028,
          114359056,
          114359221,
          114359222,
          114359225,
          114359226,
          114359236,
          114359396,
          114359457,
          114359459,
          114359522,
          114359604,
          114359607,
          114359704,
          114359784,
          114359786,
          114359806,
          114359807,
          114360178,
          114360180,
          114360416,
          114361356,
          114361357,
          114356480,
          114357051,
          114357052,
          114357056,
          114357058,
          114358256,
          114358257,
          114358260,
          114358261,
          114358301,
          114358447,
          114358457,
          114358459,
          114358478,
          114358480,
          114358508,
          114358510,
          114358512,
          114358531,
          114358539,
          114358575,
          114358577,
          114358632,
          114358645,
          114358679,
          114358681,
          114359015,
          114359017,
          114359026,
          114359028,
          114359043,
          114359045,
          114359582,
          114359583,
          114359599,
          114359602,
          114359604,
          114359911,
          114359914,
          114359916,
          114359918,
          114360279,
          114360280,
          114360281,
          114360634,
          114360673,
          114360852,
          114360870,
          114360871,
          114361050,
          114361052,
          114361054,
          114361064,
          114361066,
          114361104,
          114361105,
          114358457,
          114358459,
          114358478,
          114358480,
          114358508,
          114358510,
          114358512,
          114358519,
          114358531,
          114358572,
          114358575,
          114358577,
          114358578,
          114358587,
          114358632,
          114358638,
          114358657,
          114358658,
          114358706,
          114358707,
          114358720,
          114359911,
          114359914,
          114359916,
          114359918,
          114360010,
          114360077,
          114360327,
          114360328,
          114360329,
          114356951,
          114356953,
          114357019,
          114357546,
          114357564,
          114357702,
          114357704,
          114357705,
          114357707,
          114357732,
          114357733,
          114357736,
          114358013,
          114358059,
          114358068,
          114358379,
          114358381,
          114358409,
          114358410,
          114358411,
          114358412,
          114358447,
          114358450,
          114358457,
          114358459,
          114358508,
          114358510,
          114358512,
          114358531,
          114358572,
          114358575,
          114358577,
          114358578,
          114358591,
          114358592,
          114358657,
          114358658,
          114358713,
          114358736,
          114358891,
          114359015,
          114359017,
          114359026,
          114359351,
          114359352,
          114359369,
          114359387,
          114359602,
          114359990,
          114359994,
          114359995,
          114360570,
          114360572,
          114360583,
          114360614,
          114360616,
          114360805,
          114360806,
          114360807,
          114360851,
          114360852,
          114360863,
          114361032,
          114361480,
          114361482,
          114358134,
          114358138,
          114358276,
          114358277,
          114358290,
          114358292,
          114358457,
          114358478,
          114358508,
          114358510,
          114358512,
          114358531,
          114358555,
          114358575,
          114358577,
          114358578,
          114358587,
          114358645,
          114358679,
          114358681,
          114361359,
          114361360,
          114361432,
          114355941,
          114355975,
          114355977,
          114356551,
          114356749,
          114358508,
          114358510,
          114358512,
          114358548,
          114358572,
          114358575,
          114358577,
          114358578,
          114358587,
          114358632,
          114359004,
          114359006,
          114359157,
          114359158,
          114359160,
          114359161,
          114359162,
          114359330,
          114359331,
          114359347,
          114359351,
          114359352,
          114359432,
          114359433,
          114359435,
          114359516,
          114359518,
          114359554,
          114359556,
          114359582,
          114359693,
          114359695,
          114359709,
          114359720,
          114359722,
          114359760,
          114359763,
          114359905,
          114359906,
          114359914,
          114359916,
          114359918,
          114359961,
          114359962,
          114359963,
          114360151,
          114360152,
          114360158,
          114360233,
          114360234,
          114360338,
          114360341,
          114360369,
          114360370,
          114361124,
          114361163,
          114356435,
          114356438,
          114358364,
          114358365,
          114358366,
          114358368,
          114358503,
          114358547,
          114358628,
          114358661,
          114358662,
          114358270,
          114358283,
          114358285,
          114358452,
          114358473,
          114358474,
          114358475,
          114358503,
          114358506,
          114358532,
          114358547,
          114358557,
          114358560,
          114358655,
          114358661,
          114358662,
          114358664,
          114358665,
          114358698,
          114359385,
          114359388,
          114359598,
          114359601,
          114359640,
          114361462,
          114361463,
          114358457,
          114358459,
          114358508,
          114358510,
          114358512,
          114358531,
          114358548,
          114358555,
          114358572,
          114358577,
          114358578,
          114356546,
          114356548,
          114357693,
          114357725,
          114357740,
          114358393,
          114358394,
          114358406,
          114358424,
          114358438,
          114358442,
          114358443,
          114358475,
          114358503,
          114358532,
          114358547,
          114358613,
          114358615,
          114358616,
          114358655,
          114358656,
          114358661,
          114358662,
          114358664,
          114358665,
          114358674,
          114358675,
          114358688,
          114358689,
          114358698,
          114358714,
          114358716,
          114358719,
          114358722,
          114358732,
          114358733,
          114358882,
          114359202,
          114359587,
          114359588,
          114358279,
          114358280,
          114358430,
          114358447,
          114358478,
          114358500,
          114358508,
          114358510,
          114358512,
          114358531,
          114358577,
          114358578,
          114358632,
          114358638,
          114358645,
          114358657,
          114358658,
          114358679,
          114358681,
          114358706,
          114358707,
          114358710,
          114358711,
          114358720,
          114358736,
          114359015,
          114359017,
          114359026,
          114359028,
          114359330,
          114359331,
          114359351,
          114359352,
          114359396,
          114359549,
          114359562,
          114359701,
          114359720,
          114359722,
          114358452,
          114358475,
          114358503,
          114358506,
          114358522,
          114358523,
          114358532,
          114358547,
          114358613,
          114358615,
          114358616,
          114358633,
          114358656,
          114358661,
          114358662,
          114358664,
          114358665,
          114358700,
          114359574,
          114359575,
          114359893,
          114359933,
          114360068,
          114360238,
          114360240,
          114360241,
          114360250,
          114360265,
          114360269,
          114360271,
          114360273,
          114360274,
          114360290,
          114358170,
          114358443,
          114358503,
          114358506,
          114358532,
          114358590,
          114356267,
          114356637,
          114357444,
          114358478,
          114358491,
          114358508,
          114358510,
          114358512,
          114358531,
          114358575,
          114358577,
          114358578,
          114358585,
          114358828,
          114358831,
          114358930,
          114359015,
          114359017,
          114359026,
          114359028,
          114359270,
          114359701,
          114359826,
          114359828,
          114358510,
          114358531,
          114358548,
          114358577,
          114358578,
          114358587,
          114358657,
          114358658,
          114358828,
          114359015,
          114359017,
          114359124,
          114359126,
          114359347,
          114359516,
          114359518,
          114359680,
          114356440,
          114357507,
          114357508,
          114357512,
          114357514,
          114357515,
          114357516,
          114357519,
          114357550,
          114357567,
          114357568,
          114357572,
          114357575,
          114357576,
          114357588,
          114357665,
          114357667,
          114357669,
          114358137,
          114358316,
          114358317,
          114358473,
          114358474,
          114358475,
          114358532,
          114358547,
          114358613,
          114358615,
          114358616,
          114358633,
          114358655,
          114358656,
          114358661,
          114358662,
          114358664,
          114358665,
          114358700,
          114358703,
          114358719,
          114358722,
          114359567,
          114359568,
          114360170,
          114360172,
          114360333,
          114360334,
          114360365,
          114360391,
          114357226,
          114357588,
          114357740,
          114358452,
          114358462,
          114358463,
          114358464,
          114358465,
          114358474,
          114358475,
          114358493,
          114358503,
          114358522,
          114358523,
          114358532,
          114358547,
          114358560,
          114358615,
          114358622,
          114358628,
          114358633,
          114358661,
          114358662,
          114358664,
          114358665,
          114358674,
          114358675,
          114358698,
          114358700,
          114358847,
          114358848,
          114359202,
          114359719,
          114359921,
          114359923,
          114359931,
          114359933,
          114359975,
          114359977,
          114360170,
          114360172,
          114356046,
          114356212,
          114356435,
          114356438,
          114356440,
          114356629,
          114356844,
          114356846,
          114357006,
          114357233,
          114357402,
          114357404,
          114357406,
          114357575,
          114357576,
          114358250,
          114358283,
          114358285,
          114358299,
          114358303,
          114358475,
          114358522,
          114358523,
          114358590,
          114358633,
          114358655,
          114358656,
          114358661,
          114358662,
          114358664,
          114358665,
          114358674,
          114358675,
          114358685,
          114358688,
          114358689,
          114358695,
          114358698,
          114358700,
          114358703,
          114356438,
          114356484,
          114356660,
          114356663,
          114356839,
          114356841,
          114356844,
          114356846,
          114356848,
          114358105,
          114358107,
          114358285,
          114358299,
          114358452,
          114358473,
          114358474,
          114358475,
          114358503,
          114358522,
          114358523,
          114358532,
          114358547,
          114358613,
          114358615,
          114358616,
          114358618,
          114358655,
          114358656,
          114358661,
          114358662,
          114358674,
          114358675,
          114358698,
          114358700,
          114358722,
          114358735,
          114360481,
          114361491,
          114361492,
          114356844,
          114356846,
          114356848,
          114357710,
          114357779,
          114357943,
          114357945,
          114357946,
          114357948,
          114358493,
          114358506,
          114358532,
          114358633,
          114358661,
          114358662,
          114358664,
          114358700,
          114358703,
          114360639,
          114358273,
          114358276,
          114358277,
          114358304,
          114358459,
          114358491,
          114358495,
          114358508,
          114358510,
          114358512,
          114358531,
          114358548,
          114358575,
          114358577,
          114358578,
          114358632,
          114358645,
          114358681,
          114359026,
          114359161,
          114359162,
          114359763,
          114359937,
          114360583,
          114360596,
          114361169,
          114361184,
          114361323,
          114361325,
          114358508,
          114358510,
          114358512,
          114358531,
          114358555,
          114358577,
          114358578,
          114358632,
          114358691,
          114358692
         ],
         "y": [
          1,
          1,
          1,
          1,
          1,
          1,
          1,
          1,
          1,
          1,
          1,
          1,
          1,
          1,
          1,
          1,
          1,
          1,
          1,
          1,
          1,
          1,
          1,
          1,
          1,
          1,
          1,
          1,
          1,
          1,
          1,
          1,
          1,
          1,
          1,
          1,
          1,
          1,
          1,
          7,
          7,
          7,
          7,
          7,
          7,
          7,
          7,
          7,
          7,
          7,
          7,
          7,
          7,
          7,
          7,
          7,
          7,
          7,
          7,
          7,
          7,
          7,
          7,
          7,
          7,
          7,
          7,
          7,
          7,
          7,
          7,
          7,
          7,
          7,
          7,
          7,
          7,
          7,
          7,
          7,
          7,
          7,
          7,
          7,
          7,
          7,
          7,
          7,
          7,
          7,
          7,
          7,
          7,
          7,
          7,
          7,
          7,
          7,
          7,
          7,
          7,
          11,
          11,
          11,
          11,
          11,
          11,
          11,
          11,
          11,
          11,
          11,
          11,
          11,
          11,
          11,
          11,
          11,
          11,
          11,
          11,
          11,
          11,
          11,
          11,
          11,
          11,
          11,
          11,
          11,
          11,
          11,
          11,
          11,
          11,
          11,
          11,
          11,
          11,
          11,
          11,
          11,
          11,
          11,
          11,
          11,
          11,
          11,
          11,
          11,
          11,
          11,
          11,
          11,
          11,
          11,
          11,
          12,
          12,
          12,
          12,
          12,
          12,
          12,
          12,
          12,
          12,
          12,
          12,
          12,
          12,
          12,
          12,
          12,
          12,
          12,
          12,
          12,
          12,
          12,
          12,
          12,
          12,
          12,
          12,
          12,
          12,
          5,
          5,
          5,
          5,
          5,
          5,
          5,
          5,
          5,
          5,
          5,
          5,
          5,
          5,
          5,
          5,
          5,
          5,
          5,
          5,
          5,
          5,
          5,
          5,
          5,
          5,
          5,
          5,
          5,
          5,
          5,
          5,
          5,
          5,
          5,
          5,
          5,
          5,
          5,
          5,
          5,
          5,
          5,
          5,
          5,
          5,
          5,
          5,
          5,
          5,
          5,
          5,
          5,
          5,
          5,
          5,
          5,
          5,
          5,
          5,
          5,
          5,
          5,
          5,
          5,
          4,
          4,
          4,
          4,
          4,
          4,
          4,
          4,
          4,
          4,
          4,
          4,
          4,
          4,
          4,
          4,
          4,
          4,
          4,
          4,
          4,
          4,
          4,
          8,
          8,
          8,
          8,
          8,
          8,
          8,
          8,
          8,
          8,
          8,
          8,
          8,
          8,
          8,
          8,
          8,
          8,
          8,
          8,
          8,
          8,
          8,
          8,
          8,
          8,
          8,
          8,
          8,
          8,
          8,
          8,
          8,
          8,
          8,
          8,
          8,
          8,
          8,
          8,
          8,
          8,
          8,
          8,
          8,
          8,
          8,
          8,
          8,
          8,
          8,
          8,
          8,
          8,
          8,
          8,
          8,
          8,
          8,
          8,
          8,
          16,
          16,
          16,
          16,
          16,
          16,
          16,
          16,
          16,
          16,
          16,
          6,
          6,
          6,
          6,
          6,
          6,
          6,
          6,
          6,
          6,
          6,
          6,
          6,
          6,
          6,
          6,
          6,
          6,
          6,
          6,
          6,
          6,
          6,
          6,
          6,
          6,
          10,
          10,
          10,
          10,
          10,
          10,
          10,
          10,
          10,
          10,
          10,
          3,
          3,
          3,
          3,
          3,
          3,
          3,
          3,
          3,
          3,
          3,
          3,
          3,
          3,
          3,
          3,
          3,
          3,
          3,
          3,
          3,
          3,
          3,
          3,
          3,
          3,
          3,
          3,
          3,
          3,
          3,
          3,
          3,
          3,
          3,
          3,
          3,
          3,
          3,
          3,
          19,
          19,
          19,
          19,
          19,
          19,
          19,
          19,
          19,
          19,
          19,
          19,
          19,
          19,
          19,
          19,
          19,
          19,
          19,
          19,
          19,
          19,
          19,
          19,
          19,
          19,
          19,
          19,
          19,
          19,
          19,
          19,
          19,
          19,
          19,
          19,
          19,
          19,
          19,
          14,
          14,
          14,
          14,
          14,
          14,
          14,
          14,
          14,
          14,
          14,
          14,
          14,
          14,
          14,
          14,
          14,
          14,
          14,
          14,
          14,
          14,
          14,
          14,
          14,
          14,
          14,
          14,
          14,
          14,
          14,
          14,
          14,
          20,
          20,
          20,
          20,
          20,
          20,
          21,
          21,
          21,
          21,
          21,
          21,
          21,
          21,
          21,
          21,
          21,
          21,
          21,
          21,
          21,
          21,
          21,
          21,
          21,
          21,
          21,
          21,
          21,
          21,
          24,
          24,
          24,
          24,
          24,
          24,
          24,
          24,
          24,
          24,
          24,
          24,
          24,
          24,
          24,
          24,
          24,
          18,
          18,
          18,
          18,
          18,
          18,
          18,
          18,
          18,
          18,
          18,
          18,
          18,
          18,
          18,
          18,
          18,
          18,
          18,
          18,
          18,
          18,
          18,
          18,
          18,
          18,
          18,
          18,
          18,
          18,
          18,
          18,
          18,
          18,
          18,
          18,
          18,
          18,
          18,
          18,
          18,
          18,
          18,
          18,
          18,
          18,
          18,
          18,
          17,
          17,
          17,
          17,
          17,
          17,
          17,
          17,
          17,
          17,
          17,
          17,
          17,
          17,
          17,
          17,
          17,
          17,
          17,
          17,
          17,
          17,
          17,
          17,
          17,
          17,
          17,
          17,
          17,
          17,
          17,
          17,
          17,
          17,
          17,
          17,
          17,
          17,
          17,
          17,
          17,
          25,
          25,
          25,
          25,
          25,
          25,
          25,
          25,
          25,
          25,
          25,
          25,
          25,
          25,
          25,
          25,
          25,
          25,
          25,
          25,
          25,
          25,
          25,
          25,
          25,
          25,
          25,
          25,
          25,
          25,
          25,
          25,
          25,
          25,
          25,
          25,
          25,
          25,
          25,
          25,
          9,
          9,
          9,
          9,
          9,
          9,
          9,
          9,
          9,
          9,
          9,
          9,
          9,
          9,
          9,
          9,
          9,
          9,
          9,
          9,
          9,
          9,
          9,
          9,
          9,
          9,
          9,
          9,
          9,
          9,
          9,
          9,
          9,
          9,
          9,
          9,
          9,
          9,
          9,
          22,
          22,
          22,
          22,
          22,
          22,
          22,
          22,
          22,
          22,
          22,
          22,
          22,
          22,
          22,
          22,
          22,
          22,
          22,
          13,
          13,
          13,
          13,
          13,
          13,
          13,
          13,
          13,
          13,
          13,
          13,
          13,
          13,
          13,
          13,
          13,
          13,
          13,
          13,
          13,
          13,
          13,
          13,
          13,
          13,
          13,
          13,
          13,
          26,
          26,
          26,
          26,
          26,
          26,
          26,
          26,
          26,
          26
         ]
        },
        {
         "customdata": [
          [
           "bd15781e-a765-43ba-b641-64cff386435f",
           0.939453125
          ],
          [
           "bd15781e-a765-43ba-b641-64cff386435f",
           0.783203125
          ],
          [
           "bd15781e-a765-43ba-b641-64cff386435f",
           0.955078125
          ],
          [
           "bd15781e-a765-43ba-b641-64cff386435f",
           0.751953125
          ],
          [
           "bd15781e-a765-43ba-b641-64cff386435f",
           0.533203125
          ],
          [
           "bd15781e-a765-43ba-b641-64cff386435f",
           0.943359375
          ],
          [
           "bd15781e-a765-43ba-b641-64cff386435f",
           0.751953125
          ],
          [
           "bd15781e-a765-43ba-b641-64cff386435f",
           0.533203125
          ],
          [
           "bd15781e-a765-43ba-b641-64cff386435f",
           0.955078125
          ],
          [
           "bd15781e-a765-43ba-b641-64cff386435f",
           0.611328125
          ],
          [
           "bd15781e-a765-43ba-b641-64cff386435f",
           0.841796875
          ],
          [
           "bd15781e-a765-43ba-b641-64cff386435f",
           0.501953125
          ],
          [
           "bd15781e-a765-43ba-b641-64cff386435f",
           0.634765625
          ],
          [
           "bd15781e-a765-43ba-b641-64cff386435f",
           0.802734375
          ],
          [
           "bd15781e-a765-43ba-b641-64cff386435f",
           0.939453125
          ],
          [
           "bd15781e-a765-43ba-b641-64cff386435f",
           0.861328125
          ],
          [
           "bd15781e-a765-43ba-b641-64cff386435f",
           0.931640625
          ],
          [
           "bd15781e-a765-43ba-b641-64cff386435f",
           0.556640625
          ],
          [
           "bd15781e-a765-43ba-b641-64cff386435f",
           0.603515625
          ],
          [
           "bd15781e-a765-43ba-b641-64cff386435f",
           0.537109375
          ],
          [
           "bd15781e-a765-43ba-b641-64cff386435f",
           0.619140625
          ],
          [
           "62f58ea9-6228-4b3c-a00d-e8e4377c2d9a",
           0.564453125
          ],
          [
           "62f58ea9-6228-4b3c-a00d-e8e4377c2d9a",
           0.958984375
          ],
          [
           "62f58ea9-6228-4b3c-a00d-e8e4377c2d9a",
           0.833984375
          ],
          [
           "62f58ea9-6228-4b3c-a00d-e8e4377c2d9a",
           0.970703125
          ],
          [
           "62f58ea9-6228-4b3c-a00d-e8e4377c2d9a",
           0.935546875
          ],
          [
           "62f58ea9-6228-4b3c-a00d-e8e4377c2d9a",
           0.587890625
          ],
          [
           "62f58ea9-6228-4b3c-a00d-e8e4377c2d9a",
           0.587890625
          ],
          [
           "62f58ea9-6228-4b3c-a00d-e8e4377c2d9a",
           0.857421875
          ],
          [
           "62f58ea9-6228-4b3c-a00d-e8e4377c2d9a",
           0.794921875
          ],
          [
           "62f58ea9-6228-4b3c-a00d-e8e4377c2d9a",
           0.966796875
          ],
          [
           "62f58ea9-6228-4b3c-a00d-e8e4377c2d9a",
           0.802734375
          ],
          [
           "62f58ea9-6228-4b3c-a00d-e8e4377c2d9a",
           0.591796875
          ],
          [
           "62f58ea9-6228-4b3c-a00d-e8e4377c2d9a",
           0.966796875
          ],
          [
           "62f58ea9-6228-4b3c-a00d-e8e4377c2d9a",
           0.654296875
          ],
          [
           "62f58ea9-6228-4b3c-a00d-e8e4377c2d9a",
           0.873046875
          ],
          [
           "62f58ea9-6228-4b3c-a00d-e8e4377c2d9a",
           0.501953125
          ],
          [
           "62f58ea9-6228-4b3c-a00d-e8e4377c2d9a",
           0.919921875
          ],
          [
           "62f58ea9-6228-4b3c-a00d-e8e4377c2d9a",
           0.912109375
          ],
          [
           "62f58ea9-6228-4b3c-a00d-e8e4377c2d9a",
           0.822265625
          ],
          [
           "62f58ea9-6228-4b3c-a00d-e8e4377c2d9a",
           0.740234375
          ],
          [
           "62f58ea9-6228-4b3c-a00d-e8e4377c2d9a",
           0.791015625
          ],
          [
           "62f58ea9-6228-4b3c-a00d-e8e4377c2d9a",
           0.935546875
          ],
          [
           "62f58ea9-6228-4b3c-a00d-e8e4377c2d9a",
           0.576171875
          ],
          [
           "62f58ea9-6228-4b3c-a00d-e8e4377c2d9a",
           0.646484375
          ],
          [
           "62f58ea9-6228-4b3c-a00d-e8e4377c2d9a",
           0.802734375
          ],
          [
           "f2f48fe0-36ac-4af3-8551-f3afc13b64df",
           0.685546875
          ],
          [
           "f2f48fe0-36ac-4af3-8551-f3afc13b64df",
           0.650390625
          ],
          [
           "f2f48fe0-36ac-4af3-8551-f3afc13b64df",
           0.806640625
          ],
          [
           "f2f48fe0-36ac-4af3-8551-f3afc13b64df",
           0.826171875
          ],
          [
           "f2f48fe0-36ac-4af3-8551-f3afc13b64df",
           0.908203125
          ],
          [
           "f2f48fe0-36ac-4af3-8551-f3afc13b64df",
           0.662109375
          ],
          [
           "f2f48fe0-36ac-4af3-8551-f3afc13b64df",
           0.728515625
          ],
          [
           "f2f48fe0-36ac-4af3-8551-f3afc13b64df",
           0.966796875
          ],
          [
           "f2f48fe0-36ac-4af3-8551-f3afc13b64df",
           0.892578125
          ],
          [
           "f2f48fe0-36ac-4af3-8551-f3afc13b64df",
           0.697265625
          ],
          [
           "f2f48fe0-36ac-4af3-8551-f3afc13b64df",
           0.775390625
          ],
          [
           "f2f48fe0-36ac-4af3-8551-f3afc13b64df",
           0.857421875
          ],
          [
           "f2f48fe0-36ac-4af3-8551-f3afc13b64df",
           0.658203125
          ],
          [
           "f2f48fe0-36ac-4af3-8551-f3afc13b64df",
           0.916015625
          ],
          [
           "f2f48fe0-36ac-4af3-8551-f3afc13b64df",
           0.587890625
          ],
          [
           "f2f48fe0-36ac-4af3-8551-f3afc13b64df",
           0.845703125
          ],
          [
           "f2f48fe0-36ac-4af3-8551-f3afc13b64df",
           0.724609375
          ],
          [
           "f2f48fe0-36ac-4af3-8551-f3afc13b64df",
           0.564453125
          ],
          [
           "f2f48fe0-36ac-4af3-8551-f3afc13b64df",
           0.751953125
          ],
          [
           "f2f48fe0-36ac-4af3-8551-f3afc13b64df",
           0.794921875
          ],
          [
           "f2f48fe0-36ac-4af3-8551-f3afc13b64df",
           0.830078125
          ],
          [
           "8a461cc7-ebdc-4456-98a6-afbd85560245",
           0.705078125
          ],
          [
           "8a461cc7-ebdc-4456-98a6-afbd85560245",
           0.978515625
          ],
          [
           "8a461cc7-ebdc-4456-98a6-afbd85560245",
           0.943359375
          ],
          [
           "8a461cc7-ebdc-4456-98a6-afbd85560245",
           0.501953125
          ],
          [
           "8a461cc7-ebdc-4456-98a6-afbd85560245",
           0.982421875
          ],
          [
           "8a461cc7-ebdc-4456-98a6-afbd85560245",
           0.919921875
          ],
          [
           "8a461cc7-ebdc-4456-98a6-afbd85560245",
           0.798828125
          ],
          [
           "8a461cc7-ebdc-4456-98a6-afbd85560245",
           0.845703125
          ],
          [
           "8a461cc7-ebdc-4456-98a6-afbd85560245",
           0.970703125
          ],
          [
           "8a461cc7-ebdc-4456-98a6-afbd85560245",
           0.767578125
          ],
          [
           "8a461cc7-ebdc-4456-98a6-afbd85560245",
           0.619140625
          ],
          [
           "8a461cc7-ebdc-4456-98a6-afbd85560245",
           0.833984375
          ],
          [
           "8a461cc7-ebdc-4456-98a6-afbd85560245",
           0.779296875
          ],
          [
           "8a461cc7-ebdc-4456-98a6-afbd85560245",
           0.876953125
          ],
          [
           "8a461cc7-ebdc-4456-98a6-afbd85560245",
           0.931640625
          ],
          [
           "8a461cc7-ebdc-4456-98a6-afbd85560245",
           0.970703125
          ],
          [
           "8a461cc7-ebdc-4456-98a6-afbd85560245",
           0.912109375
          ],
          [
           "8a461cc7-ebdc-4456-98a6-afbd85560245",
           0.896484375
          ],
          [
           "8a461cc7-ebdc-4456-98a6-afbd85560245",
           0.818359375
          ],
          [
           "8a461cc7-ebdc-4456-98a6-afbd85560245",
           0.720703125
          ],
          [
           "8a461cc7-ebdc-4456-98a6-afbd85560245",
           0.794921875
          ],
          [
           "8a461cc7-ebdc-4456-98a6-afbd85560245",
           0.611328125
          ],
          [
           "8a461cc7-ebdc-4456-98a6-afbd85560245",
           0.908203125
          ],
          [
           "1ad45bea-ccfe-4f2f-b727-d8280358f0b0",
           0.673828125
          ],
          [
           "1ad45bea-ccfe-4f2f-b727-d8280358f0b0",
           0.849609375
          ],
          [
           "1ad45bea-ccfe-4f2f-b727-d8280358f0b0",
           0.873046875
          ],
          [
           "1ad45bea-ccfe-4f2f-b727-d8280358f0b0",
           0.810546875
          ],
          [
           "1ad45bea-ccfe-4f2f-b727-d8280358f0b0",
           0.951171875
          ],
          [
           "1ad45bea-ccfe-4f2f-b727-d8280358f0b0",
           0.517578125
          ],
          [
           "1ad45bea-ccfe-4f2f-b727-d8280358f0b0",
           0.908203125
          ],
          [
           "1ad45bea-ccfe-4f2f-b727-d8280358f0b0",
           0.865234375
          ],
          [
           "1ad45bea-ccfe-4f2f-b727-d8280358f0b0",
           0.720703125
          ],
          [
           "1ad45bea-ccfe-4f2f-b727-d8280358f0b0",
           0.740234375
          ],
          [
           "1ad45bea-ccfe-4f2f-b727-d8280358f0b0",
           0.681640625
          ],
          [
           "1ad45bea-ccfe-4f2f-b727-d8280358f0b0",
           0.841796875
          ],
          [
           "1ad45bea-ccfe-4f2f-b727-d8280358f0b0",
           0.978515625
          ],
          [
           "1ad45bea-ccfe-4f2f-b727-d8280358f0b0",
           0.650390625
          ],
          [
           "1ad45bea-ccfe-4f2f-b727-d8280358f0b0",
           0.658203125
          ],
          [
           "1ad45bea-ccfe-4f2f-b727-d8280358f0b0",
           0.544921875
          ],
          [
           "1ad45bea-ccfe-4f2f-b727-d8280358f0b0",
           0.505859375
          ],
          [
           "1ad45bea-ccfe-4f2f-b727-d8280358f0b0",
           0.818359375
          ],
          [
           "1ad45bea-ccfe-4f2f-b727-d8280358f0b0",
           0.505859375
          ],
          [
           "1ad45bea-ccfe-4f2f-b727-d8280358f0b0",
           0.630859375
          ],
          [
           "1ad45bea-ccfe-4f2f-b727-d8280358f0b0",
           0.556640625
          ],
          [
           "4c30ceba-4a6a-41ba-8906-293ba44965d1",
           0.912109375
          ],
          [
           "4c30ceba-4a6a-41ba-8906-293ba44965d1",
           0.716796875
          ],
          [
           "4c30ceba-4a6a-41ba-8906-293ba44965d1",
           0.681640625
          ],
          [
           "4c30ceba-4a6a-41ba-8906-293ba44965d1",
           0.783203125
          ],
          [
           "4c30ceba-4a6a-41ba-8906-293ba44965d1",
           0.861328125
          ],
          [
           "4c30ceba-4a6a-41ba-8906-293ba44965d1",
           0.791015625
          ],
          [
           "4c30ceba-4a6a-41ba-8906-293ba44965d1",
           0.818359375
          ],
          [
           "4c30ceba-4a6a-41ba-8906-293ba44965d1",
           0.673828125
          ],
          [
           "4c30ceba-4a6a-41ba-8906-293ba44965d1",
           0.826171875
          ],
          [
           "4c30ceba-4a6a-41ba-8906-293ba44965d1",
           0.806640625
          ],
          [
           "4c30ceba-4a6a-41ba-8906-293ba44965d1",
           0.712890625
          ],
          [
           "4c30ceba-4a6a-41ba-8906-293ba44965d1",
           0.572265625
          ],
          [
           "4c30ceba-4a6a-41ba-8906-293ba44965d1",
           0.943359375
          ],
          [
           "4c30ceba-4a6a-41ba-8906-293ba44965d1",
           0.833984375
          ],
          [
           "4c30ceba-4a6a-41ba-8906-293ba44965d1",
           0.955078125
          ],
          [
           "4c30ceba-4a6a-41ba-8906-293ba44965d1",
           0.701171875
          ],
          [
           "4c30ceba-4a6a-41ba-8906-293ba44965d1",
           0.888671875
          ],
          [
           "4c30ceba-4a6a-41ba-8906-293ba44965d1",
           0.791015625
          ],
          [
           "4c30ceba-4a6a-41ba-8906-293ba44965d1",
           0.638671875
          ],
          [
           "4c30ceba-4a6a-41ba-8906-293ba44965d1",
           0.736328125
          ],
          [
           "4c30ceba-4a6a-41ba-8906-293ba44965d1",
           0.599609375
          ],
          [
           "8db57d1c-ad62-47bc-a1fa-77489954f766",
           0.798828125
          ],
          [
           "8db57d1c-ad62-47bc-a1fa-77489954f766",
           0.904296875
          ],
          [
           "8db57d1c-ad62-47bc-a1fa-77489954f766",
           0.951171875
          ],
          [
           "8db57d1c-ad62-47bc-a1fa-77489954f766",
           0.837890625
          ],
          [
           "8db57d1c-ad62-47bc-a1fa-77489954f766",
           0.931640625
          ],
          [
           "8db57d1c-ad62-47bc-a1fa-77489954f766",
           0.955078125
          ],
          [
           "8db57d1c-ad62-47bc-a1fa-77489954f766",
           0.939453125
          ],
          [
           "8db57d1c-ad62-47bc-a1fa-77489954f766",
           0.755859375
          ],
          [
           "8db57d1c-ad62-47bc-a1fa-77489954f766",
           0.900390625
          ],
          [
           "c4269dbc-9387-4644-a195-bab0ab597d21",
           0.673828125
          ],
          [
           "c4269dbc-9387-4644-a195-bab0ab597d21",
           0.732421875
          ],
          [
           "c4269dbc-9387-4644-a195-bab0ab597d21",
           0.908203125
          ],
          [
           "c4269dbc-9387-4644-a195-bab0ab597d21",
           0.798828125
          ],
          [
           "c4269dbc-9387-4644-a195-bab0ab597d21",
           0.603515625
          ],
          [
           "c4269dbc-9387-4644-a195-bab0ab597d21",
           0.888671875
          ],
          [
           "c4269dbc-9387-4644-a195-bab0ab597d21",
           0.861328125
          ],
          [
           "c4269dbc-9387-4644-a195-bab0ab597d21",
           0.951171875
          ],
          [
           "c4269dbc-9387-4644-a195-bab0ab597d21",
           0.986328125
          ],
          [
           "c4269dbc-9387-4644-a195-bab0ab597d21",
           0.857421875
          ],
          [
           "c4269dbc-9387-4644-a195-bab0ab597d21",
           0.869140625
          ],
          [
           "c4269dbc-9387-4644-a195-bab0ab597d21",
           0.560546875
          ],
          [
           "c4269dbc-9387-4644-a195-bab0ab597d21",
           0.830078125
          ],
          [
           "c4269dbc-9387-4644-a195-bab0ab597d21",
           0.564453125
          ],
          [
           "c4269dbc-9387-4644-a195-bab0ab597d21",
           0.857421875
          ],
          [
           "c4269dbc-9387-4644-a195-bab0ab597d21",
           0.501953125
          ],
          [
           "c4269dbc-9387-4644-a195-bab0ab597d21",
           0.654296875
          ],
          [
           "c4269dbc-9387-4644-a195-bab0ab597d21",
           0.564453125
          ],
          [
           "c4269dbc-9387-4644-a195-bab0ab597d21",
           0.826171875
          ],
          [
           "c4269dbc-9387-4644-a195-bab0ab597d21",
           0.544921875
          ],
          [
           "c4269dbc-9387-4644-a195-bab0ab597d21",
           0.943359375
          ],
          [
           "c4269dbc-9387-4644-a195-bab0ab597d21",
           0.982421875
          ],
          [
           "c299b672-9ba1-430b-ae22-43d7591eead8",
           0.873046875
          ],
          [
           "c299b672-9ba1-430b-ae22-43d7591eead8",
           0.888671875
          ],
          [
           "c299b672-9ba1-430b-ae22-43d7591eead8",
           0.904296875
          ],
          [
           "c299b672-9ba1-430b-ae22-43d7591eead8",
           0.677734375
          ],
          [
           "c299b672-9ba1-430b-ae22-43d7591eead8",
           0.876953125
          ],
          [
           "c299b672-9ba1-430b-ae22-43d7591eead8",
           0.810546875
          ],
          [
           "c299b672-9ba1-430b-ae22-43d7591eead8",
           0.880859375
          ],
          [
           "c299b672-9ba1-430b-ae22-43d7591eead8",
           0.884765625
          ],
          [
           "c299b672-9ba1-430b-ae22-43d7591eead8",
           0.755859375
          ],
          [
           "c299b672-9ba1-430b-ae22-43d7591eead8",
           0.541015625
          ],
          [
           "c299b672-9ba1-430b-ae22-43d7591eead8",
           0.744140625
          ],
          [
           "1b72803e-adef-4222-a6ac-262f2dd04db8",
           0.783203125
          ],
          [
           "1b72803e-adef-4222-a6ac-262f2dd04db8",
           0.935546875
          ],
          [
           "1b72803e-adef-4222-a6ac-262f2dd04db8",
           0.919921875
          ],
          [
           "1b72803e-adef-4222-a6ac-262f2dd04db8",
           0.587890625
          ],
          [
           "1b72803e-adef-4222-a6ac-262f2dd04db8",
           0.876953125
          ],
          [
           "1b72803e-adef-4222-a6ac-262f2dd04db8",
           0.513671875
          ],
          [
           "1b72803e-adef-4222-a6ac-262f2dd04db8",
           0.666015625
          ],
          [
           "1b72803e-adef-4222-a6ac-262f2dd04db8",
           0.802734375
          ],
          [
           "1b72803e-adef-4222-a6ac-262f2dd04db8",
           0.576171875
          ],
          [
           "1b72803e-adef-4222-a6ac-262f2dd04db8",
           0.673828125
          ],
          [
           "1b72803e-adef-4222-a6ac-262f2dd04db8",
           0.681640625
          ],
          [
           "1b72803e-adef-4222-a6ac-262f2dd04db8",
           0.990234375
          ],
          [
           "1b72803e-adef-4222-a6ac-262f2dd04db8",
           0.748046875
          ],
          [
           "1b72803e-adef-4222-a6ac-262f2dd04db8",
           0.541015625
          ],
          [
           "1b72803e-adef-4222-a6ac-262f2dd04db8",
           0.841796875
          ],
          [
           "1b72803e-adef-4222-a6ac-262f2dd04db8",
           0.533203125
          ],
          [
           "1b72803e-adef-4222-a6ac-262f2dd04db8",
           0.697265625
          ],
          [
           "1b72803e-adef-4222-a6ac-262f2dd04db8",
           0.958984375
          ],
          [
           "1b72803e-adef-4222-a6ac-262f2dd04db8",
           0.666015625
          ],
          [
           "1b72803e-adef-4222-a6ac-262f2dd04db8",
           0.904296875
          ],
          [
           "1b72803e-adef-4222-a6ac-262f2dd04db8",
           0.626953125
          ],
          [
           "1b72803e-adef-4222-a6ac-262f2dd04db8",
           0.876953125
          ],
          [
           "1b72803e-adef-4222-a6ac-262f2dd04db8",
           0.861328125
          ],
          [
           "1b72803e-adef-4222-a6ac-262f2dd04db8",
           0.599609375
          ],
          [
           "9ae3a9ec-de2b-4678-80c5-82ef5b18d7af",
           0.630859375
          ],
          [
           "9ae3a9ec-de2b-4678-80c5-82ef5b18d7af",
           0.841796875
          ],
          [
           "9ae3a9ec-de2b-4678-80c5-82ef5b18d7af",
           0.787109375
          ],
          [
           "9ae3a9ec-de2b-4678-80c5-82ef5b18d7af",
           0.951171875
          ],
          [
           "9ae3a9ec-de2b-4678-80c5-82ef5b18d7af",
           0.650390625
          ],
          [
           "9ae3a9ec-de2b-4678-80c5-82ef5b18d7af",
           0.833984375
          ],
          [
           "9ae3a9ec-de2b-4678-80c5-82ef5b18d7af",
           0.814453125
          ],
          [
           "9ae3a9ec-de2b-4678-80c5-82ef5b18d7af",
           0.755859375
          ],
          [
           "9ae3a9ec-de2b-4678-80c5-82ef5b18d7af",
           0.564453125
          ],
          [
           "9ae3a9ec-de2b-4678-80c5-82ef5b18d7af",
           0.951171875
          ],
          [
           "9ae3a9ec-de2b-4678-80c5-82ef5b18d7af",
           0.869140625
          ],
          [
           "9ae3a9ec-de2b-4678-80c5-82ef5b18d7af",
           0.837890625
          ],
          [
           "9ae3a9ec-de2b-4678-80c5-82ef5b18d7af",
           0.552734375
          ],
          [
           "9ae3a9ec-de2b-4678-80c5-82ef5b18d7af",
           0.853515625
          ],
          [
           "9ae3a9ec-de2b-4678-80c5-82ef5b18d7af",
           0.623046875
          ],
          [
           "9ae3a9ec-de2b-4678-80c5-82ef5b18d7af",
           0.880859375
          ],
          [
           "9ae3a9ec-de2b-4678-80c5-82ef5b18d7af",
           0.958984375
          ],
          [
           "9ae3a9ec-de2b-4678-80c5-82ef5b18d7af",
           0.599609375
          ],
          [
           "9ae3a9ec-de2b-4678-80c5-82ef5b18d7af",
           0.724609375
          ],
          [
           "66ca78ed-7f5e-4af3-93cd-0ceb736246ec",
           0.623046875
          ],
          [
           "66ca78ed-7f5e-4af3-93cd-0ceb736246ec",
           0.662109375
          ],
          [
           "66ca78ed-7f5e-4af3-93cd-0ceb736246ec",
           0.814453125
          ],
          [
           "66ca78ed-7f5e-4af3-93cd-0ceb736246ec",
           0.876953125
          ],
          [
           "66ca78ed-7f5e-4af3-93cd-0ceb736246ec",
           0.818359375
          ],
          [
           "66ca78ed-7f5e-4af3-93cd-0ceb736246ec",
           0.505859375
          ],
          [
           "66ca78ed-7f5e-4af3-93cd-0ceb736246ec",
           0.658203125
          ],
          [
           "66ca78ed-7f5e-4af3-93cd-0ceb736246ec",
           0.814453125
          ],
          [
           "66ca78ed-7f5e-4af3-93cd-0ceb736246ec",
           0.564453125
          ],
          [
           "66ca78ed-7f5e-4af3-93cd-0ceb736246ec",
           0.994140625
          ],
          [
           "66ca78ed-7f5e-4af3-93cd-0ceb736246ec",
           0.919921875
          ],
          [
           "66ca78ed-7f5e-4af3-93cd-0ceb736246ec",
           0.767578125
          ],
          [
           "66ca78ed-7f5e-4af3-93cd-0ceb736246ec",
           0.853515625
          ],
          [
           "66ca78ed-7f5e-4af3-93cd-0ceb736246ec",
           0.658203125
          ],
          [
           "66ca78ed-7f5e-4af3-93cd-0ceb736246ec",
           0.923828125
          ],
          [
           "c06c775e-9473-423d-bb0f-48aaad4a7ad6",
           0.845703125
          ],
          [
           "c06c775e-9473-423d-bb0f-48aaad4a7ad6",
           0.810546875
          ],
          [
           "c06c775e-9473-423d-bb0f-48aaad4a7ad6",
           0.833984375
          ],
          [
           "c06c775e-9473-423d-bb0f-48aaad4a7ad6",
           0.568359375
          ],
          [
           "c06c775e-9473-423d-bb0f-48aaad4a7ad6",
           0.826171875
          ],
          [
           "c06c775e-9473-423d-bb0f-48aaad4a7ad6",
           0.830078125
          ],
          [
           "c06c775e-9473-423d-bb0f-48aaad4a7ad6",
           0.947265625
          ],
          [
           "c06c775e-9473-423d-bb0f-48aaad4a7ad6",
           0.966796875
          ],
          [
           "c06c775e-9473-423d-bb0f-48aaad4a7ad6",
           0.826171875
          ],
          [
           "c06c775e-9473-423d-bb0f-48aaad4a7ad6",
           0.509765625
          ],
          [
           "c06c775e-9473-423d-bb0f-48aaad4a7ad6",
           0.716796875
          ],
          [
           "c06c775e-9473-423d-bb0f-48aaad4a7ad6",
           0.705078125
          ],
          [
           "c06c775e-9473-423d-bb0f-48aaad4a7ad6",
           0.740234375
          ],
          [
           "c06c775e-9473-423d-bb0f-48aaad4a7ad6",
           0.806640625
          ],
          [
           "c06c775e-9473-423d-bb0f-48aaad4a7ad6",
           0.982421875
          ],
          [
           "c06c775e-9473-423d-bb0f-48aaad4a7ad6",
           0.513671875
          ],
          [
           "c06c775e-9473-423d-bb0f-48aaad4a7ad6",
           0.951171875
          ],
          [
           "c06c775e-9473-423d-bb0f-48aaad4a7ad6",
           0.755859375
          ],
          [
           "c06c775e-9473-423d-bb0f-48aaad4a7ad6",
           0.845703125
          ],
          [
           "c06c775e-9473-423d-bb0f-48aaad4a7ad6",
           0.787109375
          ],
          [
           "c06c775e-9473-423d-bb0f-48aaad4a7ad6",
           0.658203125
          ],
          [
           "c06c775e-9473-423d-bb0f-48aaad4a7ad6",
           0.626953125
          ],
          [
           "c06c775e-9473-423d-bb0f-48aaad4a7ad6",
           0.607421875
          ],
          [
           "c06c775e-9473-423d-bb0f-48aaad4a7ad6",
           0.669921875
          ],
          [
           "c06c775e-9473-423d-bb0f-48aaad4a7ad6",
           0.638671875
          ],
          [
           "c06c775e-9473-423d-bb0f-48aaad4a7ad6",
           0.810546875
          ],
          [
           "c06c775e-9473-423d-bb0f-48aaad4a7ad6",
           0.591796875
          ],
          [
           "c06c775e-9473-423d-bb0f-48aaad4a7ad6",
           0.509765625
          ],
          [
           "c06c775e-9473-423d-bb0f-48aaad4a7ad6",
           0.544921875
          ],
          [
           "c06c775e-9473-423d-bb0f-48aaad4a7ad6",
           0.521484375
          ],
          [
           "c06c775e-9473-423d-bb0f-48aaad4a7ad6",
           0.634765625
          ],
          [
           "c06c775e-9473-423d-bb0f-48aaad4a7ad6",
           0.587890625
          ],
          [
           "c06c775e-9473-423d-bb0f-48aaad4a7ad6",
           0.861328125
          ],
          [
           "c06c775e-9473-423d-bb0f-48aaad4a7ad6",
           0.830078125
          ],
          [
           "c06c775e-9473-423d-bb0f-48aaad4a7ad6",
           0.927734375
          ],
          [
           "c06c775e-9473-423d-bb0f-48aaad4a7ad6",
           0.861328125
          ],
          [
           "c06c775e-9473-423d-bb0f-48aaad4a7ad6",
           0.658203125
          ],
          [
           "c06c775e-9473-423d-bb0f-48aaad4a7ad6",
           0.978515625
          ],
          [
           "c06c775e-9473-423d-bb0f-48aaad4a7ad6",
           0.814453125
          ],
          [
           "bdde52cf-4aed-42f6-80e5-e2c02b86596c",
           0.677734375
          ],
          [
           "bdde52cf-4aed-42f6-80e5-e2c02b86596c",
           0.560546875
          ],
          [
           "bdde52cf-4aed-42f6-80e5-e2c02b86596c",
           0.814453125
          ],
          [
           "bdde52cf-4aed-42f6-80e5-e2c02b86596c",
           0.564453125
          ],
          [
           "bdde52cf-4aed-42f6-80e5-e2c02b86596c",
           0.607421875
          ],
          [
           "bdde52cf-4aed-42f6-80e5-e2c02b86596c",
           0.732421875
          ],
          [
           "bdde52cf-4aed-42f6-80e5-e2c02b86596c",
           0.974609375
          ],
          [
           "bdde52cf-4aed-42f6-80e5-e2c02b86596c",
           0.732421875
          ],
          [
           "bdde52cf-4aed-42f6-80e5-e2c02b86596c",
           0.595703125
          ],
          [
           "bdde52cf-4aed-42f6-80e5-e2c02b86596c",
           0.822265625
          ],
          [
           "bdde52cf-4aed-42f6-80e5-e2c02b86596c",
           0.673828125
          ],
          [
           "bdde52cf-4aed-42f6-80e5-e2c02b86596c",
           0.681640625
          ],
          [
           "81abd2b7-68a5-44ce-9d92-c5790e68f0b6",
           0.572265625
          ],
          [
           "81abd2b7-68a5-44ce-9d92-c5790e68f0b6",
           0.966796875
          ],
          [
           "81abd2b7-68a5-44ce-9d92-c5790e68f0b6",
           0.537109375
          ],
          [
           "81abd2b7-68a5-44ce-9d92-c5790e68f0b6",
           0.595703125
          ],
          [
           "81abd2b7-68a5-44ce-9d92-c5790e68f0b6",
           0.708984375
          ],
          [
           "81abd2b7-68a5-44ce-9d92-c5790e68f0b6",
           0.892578125
          ],
          [
           "81abd2b7-68a5-44ce-9d92-c5790e68f0b6",
           0.849609375
          ],
          [
           "81abd2b7-68a5-44ce-9d92-c5790e68f0b6",
           0.572265625
          ],
          [
           "81abd2b7-68a5-44ce-9d92-c5790e68f0b6",
           0.728515625
          ],
          [
           "81abd2b7-68a5-44ce-9d92-c5790e68f0b6",
           0.779296875
          ],
          [
           "81abd2b7-68a5-44ce-9d92-c5790e68f0b6",
           0.919921875
          ],
          [
           "81abd2b7-68a5-44ce-9d92-c5790e68f0b6",
           0.818359375
          ],
          [
           "81abd2b7-68a5-44ce-9d92-c5790e68f0b6",
           0.880859375
          ],
          [
           "81abd2b7-68a5-44ce-9d92-c5790e68f0b6",
           0.970703125
          ],
          [
           "81abd2b7-68a5-44ce-9d92-c5790e68f0b6",
           0.505859375
          ],
          [
           "81abd2b7-68a5-44ce-9d92-c5790e68f0b6",
           0.876953125
          ],
          [
           "81abd2b7-68a5-44ce-9d92-c5790e68f0b6",
           0.818359375
          ],
          [
           "81abd2b7-68a5-44ce-9d92-c5790e68f0b6",
           0.791015625
          ],
          [
           "81abd2b7-68a5-44ce-9d92-c5790e68f0b6",
           0.849609375
          ],
          [
           "81abd2b7-68a5-44ce-9d92-c5790e68f0b6",
           0.822265625
          ],
          [
           "81abd2b7-68a5-44ce-9d92-c5790e68f0b6",
           0.607421875
          ],
          [
           "81abd2b7-68a5-44ce-9d92-c5790e68f0b6",
           0.830078125
          ],
          [
           "81abd2b7-68a5-44ce-9d92-c5790e68f0b6",
           0.658203125
          ],
          [
           "81abd2b7-68a5-44ce-9d92-c5790e68f0b6",
           0.537109375
          ],
          [
           "81abd2b7-68a5-44ce-9d92-c5790e68f0b6",
           0.541015625
          ],
          [
           "81abd2b7-68a5-44ce-9d92-c5790e68f0b6",
           0.505859375
          ],
          [
           "d2f5df66-fe62-4723-b360-572dec3493c8",
           0.537109375
          ],
          [
           "d2f5df66-fe62-4723-b360-572dec3493c8",
           0.728515625
          ],
          [
           "d2f5df66-fe62-4723-b360-572dec3493c8",
           0.720703125
          ],
          [
           "d2f5df66-fe62-4723-b360-572dec3493c8",
           0.912109375
          ],
          [
           "d2f5df66-fe62-4723-b360-572dec3493c8",
           0.548828125
          ],
          [
           "d2f5df66-fe62-4723-b360-572dec3493c8",
           0.666015625
          ],
          [
           "d2f5df66-fe62-4723-b360-572dec3493c8",
           0.888671875
          ],
          [
           "d2f5df66-fe62-4723-b360-572dec3493c8",
           0.912109375
          ],
          [
           "d2f5df66-fe62-4723-b360-572dec3493c8",
           0.505859375
          ],
          [
           "d2f5df66-fe62-4723-b360-572dec3493c8",
           0.951171875
          ],
          [
           "d2f5df66-fe62-4723-b360-572dec3493c8",
           0.650390625
          ],
          [
           "d2f5df66-fe62-4723-b360-572dec3493c8",
           0.583984375
          ],
          [
           "d2f5df66-fe62-4723-b360-572dec3493c8",
           0.904296875
          ],
          [
           "d2f5df66-fe62-4723-b360-572dec3493c8",
           0.916015625
          ],
          [
           "d2f5df66-fe62-4723-b360-572dec3493c8",
           0.818359375
          ],
          [
           "d2f5df66-fe62-4723-b360-572dec3493c8",
           0.943359375
          ],
          [
           "d2f5df66-fe62-4723-b360-572dec3493c8",
           0.587890625
          ],
          [
           "d2f5df66-fe62-4723-b360-572dec3493c8",
           0.845703125
          ],
          [
           "d2f5df66-fe62-4723-b360-572dec3493c8",
           0.552734375
          ],
          [
           "d2f5df66-fe62-4723-b360-572dec3493c8",
           0.658203125
          ],
          [
           "a865b338-ab12-4c49-910e-f4ef80af8677",
           0.599609375
          ],
          [
           "a865b338-ab12-4c49-910e-f4ef80af8677",
           0.724609375
          ],
          [
           "a865b338-ab12-4c49-910e-f4ef80af8677",
           0.962890625
          ],
          [
           "a865b338-ab12-4c49-910e-f4ef80af8677",
           0.927734375
          ],
          [
           "a865b338-ab12-4c49-910e-f4ef80af8677",
           0.740234375
          ],
          [
           "a865b338-ab12-4c49-910e-f4ef80af8677",
           0.986328125
          ],
          [
           "a865b338-ab12-4c49-910e-f4ef80af8677",
           0.814453125
          ],
          [
           "a865b338-ab12-4c49-910e-f4ef80af8677",
           0.884765625
          ],
          [
           "a865b338-ab12-4c49-910e-f4ef80af8677",
           0.556640625
          ],
          [
           "a865b338-ab12-4c49-910e-f4ef80af8677",
           0.841796875
          ],
          [
           "a865b338-ab12-4c49-910e-f4ef80af8677",
           0.935546875
          ],
          [
           "a865b338-ab12-4c49-910e-f4ef80af8677",
           0.525390625
          ],
          [
           "34f01854-c28c-4ec6-a5ff-635d1327b18d",
           0.658203125
          ],
          [
           "34f01854-c28c-4ec6-a5ff-635d1327b18d",
           0.767578125
          ],
          [
           "34f01854-c28c-4ec6-a5ff-635d1327b18d",
           0.904296875
          ],
          [
           "34f01854-c28c-4ec6-a5ff-635d1327b18d",
           0.900390625
          ],
          [
           "34f01854-c28c-4ec6-a5ff-635d1327b18d",
           0.990234375
          ],
          [
           "34f01854-c28c-4ec6-a5ff-635d1327b18d",
           0.677734375
          ],
          [
           "34f01854-c28c-4ec6-a5ff-635d1327b18d",
           0.712890625
          ],
          [
           "34f01854-c28c-4ec6-a5ff-635d1327b18d",
           0.740234375
          ],
          [
           "34f01854-c28c-4ec6-a5ff-635d1327b18d",
           0.626953125
          ],
          [
           "34f01854-c28c-4ec6-a5ff-635d1327b18d",
           0.748046875
          ],
          [
           "34f01854-c28c-4ec6-a5ff-635d1327b18d",
           0.771484375
          ],
          [
           "34f01854-c28c-4ec6-a5ff-635d1327b18d",
           0.884765625
          ],
          [
           "34f01854-c28c-4ec6-a5ff-635d1327b18d",
           0.880859375
          ],
          [
           "34f01854-c28c-4ec6-a5ff-635d1327b18d",
           0.763671875
          ],
          [
           "34f01854-c28c-4ec6-a5ff-635d1327b18d",
           0.931640625
          ],
          [
           "34f01854-c28c-4ec6-a5ff-635d1327b18d",
           0.544921875
          ],
          [
           "34f01854-c28c-4ec6-a5ff-635d1327b18d",
           0.619140625
          ],
          [
           "34f01854-c28c-4ec6-a5ff-635d1327b18d",
           0.755859375
          ],
          [
           "34f01854-c28c-4ec6-a5ff-635d1327b18d",
           0.880859375
          ],
          [
           "34f01854-c28c-4ec6-a5ff-635d1327b18d",
           0.712890625
          ],
          [
           "34f01854-c28c-4ec6-a5ff-635d1327b18d",
           0.849609375
          ],
          [
           "34f01854-c28c-4ec6-a5ff-635d1327b18d",
           0.845703125
          ],
          [
           "34f01854-c28c-4ec6-a5ff-635d1327b18d",
           0.978515625
          ],
          [
           "34f01854-c28c-4ec6-a5ff-635d1327b18d",
           0.783203125
          ],
          [
           "34f01854-c28c-4ec6-a5ff-635d1327b18d",
           0.669921875
          ],
          [
           "34f01854-c28c-4ec6-a5ff-635d1327b18d",
           0.669921875
          ],
          [
           "a054616a-0028-4b5e-877f-53b611ad2767",
           0.568359375
          ],
          [
           "a054616a-0028-4b5e-877f-53b611ad2767",
           0.884765625
          ],
          [
           "a054616a-0028-4b5e-877f-53b611ad2767",
           0.873046875
          ],
          [
           "a054616a-0028-4b5e-877f-53b611ad2767",
           0.904296875
          ],
          [
           "a054616a-0028-4b5e-877f-53b611ad2767",
           0.810546875
          ],
          [
           "a054616a-0028-4b5e-877f-53b611ad2767",
           0.662109375
          ],
          [
           "a054616a-0028-4b5e-877f-53b611ad2767",
           0.951171875
          ],
          [
           "a054616a-0028-4b5e-877f-53b611ad2767",
           0.923828125
          ],
          [
           "a054616a-0028-4b5e-877f-53b611ad2767",
           0.615234375
          ],
          [
           "a054616a-0028-4b5e-877f-53b611ad2767",
           0.865234375
          ],
          [
           "a054616a-0028-4b5e-877f-53b611ad2767",
           0.908203125
          ],
          [
           "a054616a-0028-4b5e-877f-53b611ad2767",
           0.966796875
          ],
          [
           "a054616a-0028-4b5e-877f-53b611ad2767",
           0.966796875
          ],
          [
           "a054616a-0028-4b5e-877f-53b611ad2767",
           0.728515625
          ],
          [
           "a054616a-0028-4b5e-877f-53b611ad2767",
           0.634765625
          ],
          [
           "a054616a-0028-4b5e-877f-53b611ad2767",
           0.673828125
          ],
          [
           "a054616a-0028-4b5e-877f-53b611ad2767",
           0.775390625
          ],
          [
           "a054616a-0028-4b5e-877f-53b611ad2767",
           0.513671875
          ],
          [
           "5a71d07f-4b9a-487c-8fa0-b9a26e2c626c",
           0.595703125
          ],
          [
           "5a71d07f-4b9a-487c-8fa0-b9a26e2c626c",
           0.623046875
          ],
          [
           "5a71d07f-4b9a-487c-8fa0-b9a26e2c626c",
           0.896484375
          ],
          [
           "5a71d07f-4b9a-487c-8fa0-b9a26e2c626c",
           0.923828125
          ],
          [
           "5a71d07f-4b9a-487c-8fa0-b9a26e2c626c",
           0.533203125
          ],
          [
           "5a71d07f-4b9a-487c-8fa0-b9a26e2c626c",
           0.533203125
          ],
          [
           "5a71d07f-4b9a-487c-8fa0-b9a26e2c626c",
           0.751953125
          ],
          [
           "5a71d07f-4b9a-487c-8fa0-b9a26e2c626c",
           0.927734375
          ],
          [
           "5a71d07f-4b9a-487c-8fa0-b9a26e2c626c",
           0.576171875
          ],
          [
           "5a71d07f-4b9a-487c-8fa0-b9a26e2c626c",
           0.513671875
          ],
          [
           "5a71d07f-4b9a-487c-8fa0-b9a26e2c626c",
           0.595703125
          ],
          [
           "b1e7ffc8-b74a-4b98-bb8f-a5f3f8fcb3b7",
           0.841796875
          ],
          [
           "b1e7ffc8-b74a-4b98-bb8f-a5f3f8fcb3b7",
           0.654296875
          ],
          [
           "b1e7ffc8-b74a-4b98-bb8f-a5f3f8fcb3b7",
           0.654296875
          ],
          [
           "b1e7ffc8-b74a-4b98-bb8f-a5f3f8fcb3b7",
           0.677734375
          ],
          [
           "b1e7ffc8-b74a-4b98-bb8f-a5f3f8fcb3b7",
           0.517578125
          ],
          [
           "b1e7ffc8-b74a-4b98-bb8f-a5f3f8fcb3b7",
           0.716796875
          ],
          [
           "b1e7ffc8-b74a-4b98-bb8f-a5f3f8fcb3b7",
           0.962890625
          ],
          [
           "b1e7ffc8-b74a-4b98-bb8f-a5f3f8fcb3b7",
           0.744140625
          ],
          [
           "b1e7ffc8-b74a-4b98-bb8f-a5f3f8fcb3b7",
           0.537109375
          ],
          [
           "b1e7ffc8-b74a-4b98-bb8f-a5f3f8fcb3b7",
           0.791015625
          ],
          [
           "b1e7ffc8-b74a-4b98-bb8f-a5f3f8fcb3b7",
           0.779296875
          ],
          [
           "b1e7ffc8-b74a-4b98-bb8f-a5f3f8fcb3b7",
           0.544921875
          ],
          [
           "b1e7ffc8-b74a-4b98-bb8f-a5f3f8fcb3b7",
           0.548828125
          ],
          [
           "b1e7ffc8-b74a-4b98-bb8f-a5f3f8fcb3b7",
           0.615234375
          ],
          [
           "b1e7ffc8-b74a-4b98-bb8f-a5f3f8fcb3b7",
           0.712890625
          ],
          [
           "7e3be4d2-be0b-4eda-91fb-d56b0df8d9ec",
           0.751953125
          ],
          [
           "7e3be4d2-be0b-4eda-91fb-d56b0df8d9ec",
           0.916015625
          ],
          [
           "7e3be4d2-be0b-4eda-91fb-d56b0df8d9ec",
           0.966796875
          ],
          [
           "7e3be4d2-be0b-4eda-91fb-d56b0df8d9ec",
           0.787109375
          ],
          [
           "7e3be4d2-be0b-4eda-91fb-d56b0df8d9ec",
           0.638671875
          ],
          [
           "7e3be4d2-be0b-4eda-91fb-d56b0df8d9ec",
           0.646484375
          ],
          [
           "7e3be4d2-be0b-4eda-91fb-d56b0df8d9ec",
           0.759765625
          ],
          [
           "7e3be4d2-be0b-4eda-91fb-d56b0df8d9ec",
           0.525390625
          ],
          [
           "7e3be4d2-be0b-4eda-91fb-d56b0df8d9ec",
           0.892578125
          ],
          [
           "7e3be4d2-be0b-4eda-91fb-d56b0df8d9ec",
           0.720703125
          ],
          [
           "7e3be4d2-be0b-4eda-91fb-d56b0df8d9ec",
           0.802734375
          ],
          [
           "7e3be4d2-be0b-4eda-91fb-d56b0df8d9ec",
           0.556640625
          ],
          [
           "7e3be4d2-be0b-4eda-91fb-d56b0df8d9ec",
           0.677734375
          ],
          [
           "7e3be4d2-be0b-4eda-91fb-d56b0df8d9ec",
           0.572265625
          ],
          [
           "7e3be4d2-be0b-4eda-91fb-d56b0df8d9ec",
           0.673828125
          ],
          [
           "a6fcae27-656a-4f86-b117-02fee057fab6",
           0.904296875
          ],
          [
           "a6fcae27-656a-4f86-b117-02fee057fab6",
           0.826171875
          ],
          [
           "a6fcae27-656a-4f86-b117-02fee057fab6",
           0.876953125
          ],
          [
           "a6fcae27-656a-4f86-b117-02fee057fab6",
           0.603515625
          ],
          [
           "a6fcae27-656a-4f86-b117-02fee057fab6",
           0.748046875
          ],
          [
           "a6fcae27-656a-4f86-b117-02fee057fab6",
           0.587890625
          ],
          [
           "a6fcae27-656a-4f86-b117-02fee057fab6",
           0.919921875
          ],
          [
           "a6fcae27-656a-4f86-b117-02fee057fab6",
           0.775390625
          ],
          [
           "a6fcae27-656a-4f86-b117-02fee057fab6",
           0.736328125
          ],
          [
           "a6fcae27-656a-4f86-b117-02fee057fab6",
           0.802734375
          ],
          [
           "a6fcae27-656a-4f86-b117-02fee057fab6",
           0.814453125
          ],
          [
           "a6fcae27-656a-4f86-b117-02fee057fab6",
           0.876953125
          ],
          [
           "a6fcae27-656a-4f86-b117-02fee057fab6",
           0.775390625
          ],
          [
           "a6fcae27-656a-4f86-b117-02fee057fab6",
           0.978515625
          ],
          [
           "a6fcae27-656a-4f86-b117-02fee057fab6",
           0.767578125
          ],
          [
           "a6fcae27-656a-4f86-b117-02fee057fab6",
           0.552734375
          ],
          [
           "49025607-57f8-4319-adfb-1d30dc5fca5a",
           0.556640625
          ],
          [
           "49025607-57f8-4319-adfb-1d30dc5fca5a",
           0.822265625
          ],
          [
           "49025607-57f8-4319-adfb-1d30dc5fca5a",
           0.607421875
          ],
          [
           "49025607-57f8-4319-adfb-1d30dc5fca5a",
           0.759765625
          ],
          [
           "49025607-57f8-4319-adfb-1d30dc5fca5a",
           0.673828125
          ],
          [
           "49025607-57f8-4319-adfb-1d30dc5fca5a",
           0.845703125
          ],
          [
           "49025607-57f8-4319-adfb-1d30dc5fca5a",
           0.677734375
          ],
          [
           "49025607-57f8-4319-adfb-1d30dc5fca5a",
           0.751953125
          ],
          [
           "49025607-57f8-4319-adfb-1d30dc5fca5a",
           0.751953125
          ],
          [
           "49025607-57f8-4319-adfb-1d30dc5fca5a",
           0.572265625
          ],
          [
           "49025607-57f8-4319-adfb-1d30dc5fca5a",
           0.962890625
          ],
          [
           "49025607-57f8-4319-adfb-1d30dc5fca5a",
           0.904296875
          ],
          [
           "49025607-57f8-4319-adfb-1d30dc5fca5a",
           0.552734375
          ],
          [
           "0254472b-d540-423f-8589-cd6bc16c74c9",
           0.607421875
          ],
          [
           "0254472b-d540-423f-8589-cd6bc16c74c9",
           0.650390625
          ],
          [
           "0254472b-d540-423f-8589-cd6bc16c74c9",
           0.990234375
          ],
          [
           "0254472b-d540-423f-8589-cd6bc16c74c9",
           0.982421875
          ],
          [
           "0254472b-d540-423f-8589-cd6bc16c74c9",
           0.521484375
          ],
          [
           "0254472b-d540-423f-8589-cd6bc16c74c9",
           0.587890625
          ],
          [
           "0254472b-d540-423f-8589-cd6bc16c74c9",
           0.587890625
          ],
          [
           "0254472b-d540-423f-8589-cd6bc16c74c9",
           0.638671875
          ],
          [
           "0254472b-d540-423f-8589-cd6bc16c74c9",
           0.978515625
          ],
          [
           "0254472b-d540-423f-8589-cd6bc16c74c9",
           0.884765625
          ],
          [
           "0254472b-d540-423f-8589-cd6bc16c74c9",
           0.791015625
          ],
          [
           "0254472b-d540-423f-8589-cd6bc16c74c9",
           0.755859375
          ],
          [
           "0254472b-d540-423f-8589-cd6bc16c74c9",
           0.783203125
          ],
          [
           "0254472b-d540-423f-8589-cd6bc16c74c9",
           0.619140625
          ],
          [
           "0254472b-d540-423f-8589-cd6bc16c74c9",
           0.794921875
          ],
          [
           "0254472b-d540-423f-8589-cd6bc16c74c9",
           0.623046875
          ],
          [
           "09ad09ac-fe99-4e99-9fe4-d308c41538d8",
           0.931640625
          ],
          [
           "09ad09ac-fe99-4e99-9fe4-d308c41538d8",
           0.982421875
          ],
          [
           "09ad09ac-fe99-4e99-9fe4-d308c41538d8",
           0.505859375
          ],
          [
           "09ad09ac-fe99-4e99-9fe4-d308c41538d8",
           0.513671875
          ],
          [
           "09ad09ac-fe99-4e99-9fe4-d308c41538d8",
           0.916015625
          ],
          [
           "09ad09ac-fe99-4e99-9fe4-d308c41538d8",
           0.818359375
          ],
          [
           "09ad09ac-fe99-4e99-9fe4-d308c41538d8",
           0.916015625
          ],
          [
           "09ad09ac-fe99-4e99-9fe4-d308c41538d8",
           0.916015625
          ],
          [
           "09ad09ac-fe99-4e99-9fe4-d308c41538d8",
           0.802734375
          ],
          [
           "09ad09ac-fe99-4e99-9fe4-d308c41538d8",
           0.955078125
          ],
          [
           "09ad09ac-fe99-4e99-9fe4-d308c41538d8",
           0.595703125
          ],
          [
           "09ad09ac-fe99-4e99-9fe4-d308c41538d8",
           0.818359375
          ],
          [
           "09ad09ac-fe99-4e99-9fe4-d308c41538d8",
           0.728515625
          ],
          [
           "09ad09ac-fe99-4e99-9fe4-d308c41538d8",
           0.716796875
          ],
          [
           "09ad09ac-fe99-4e99-9fe4-d308c41538d8",
           0.970703125
          ],
          [
           "09ad09ac-fe99-4e99-9fe4-d308c41538d8",
           0.810546875
          ],
          [
           "ce306fa9-2d47-45dc-8d7a-2294fdcd5e25",
           0.896484375
          ],
          [
           "ce306fa9-2d47-45dc-8d7a-2294fdcd5e25",
           0.943359375
          ],
          [
           "ce306fa9-2d47-45dc-8d7a-2294fdcd5e25",
           0.779296875
          ],
          [
           "ce306fa9-2d47-45dc-8d7a-2294fdcd5e25",
           0.666015625
          ],
          [
           "ce306fa9-2d47-45dc-8d7a-2294fdcd5e25",
           0.740234375
          ],
          [
           "ce306fa9-2d47-45dc-8d7a-2294fdcd5e25",
           0.841796875
          ],
          [
           "ce306fa9-2d47-45dc-8d7a-2294fdcd5e25",
           0.779296875
          ],
          [
           "ce306fa9-2d47-45dc-8d7a-2294fdcd5e25",
           0.900390625
          ],
          [
           "ce306fa9-2d47-45dc-8d7a-2294fdcd5e25",
           0.841796875
          ],
          [
           "ce306fa9-2d47-45dc-8d7a-2294fdcd5e25",
           0.888671875
          ],
          [
           "ce306fa9-2d47-45dc-8d7a-2294fdcd5e25",
           0.826171875
          ],
          [
           "ce306fa9-2d47-45dc-8d7a-2294fdcd5e25",
           0.666015625
          ],
          [
           "ce306fa9-2d47-45dc-8d7a-2294fdcd5e25",
           0.900390625
          ],
          [
           "ce306fa9-2d47-45dc-8d7a-2294fdcd5e25",
           0.587890625
          ],
          [
           "ce306fa9-2d47-45dc-8d7a-2294fdcd5e25",
           0.775390625
          ],
          [
           "ce306fa9-2d47-45dc-8d7a-2294fdcd5e25",
           0.521484375
          ],
          [
           "ce306fa9-2d47-45dc-8d7a-2294fdcd5e25",
           0.693359375
          ]
         ],
         "hovertemplate": "<b>Read</b>: %{customdata[0]}<br><b>Position</b>: %{x:,}<br><b>Probability</b>: %{customdata[1]:.2f}",
         "marker": {
          "color": [
           0.939453125,
           0.783203125,
           0.955078125,
           0.751953125,
           0.533203125,
           0.943359375,
           0.751953125,
           0.533203125,
           0.955078125,
           0.611328125,
           0.841796875,
           0.501953125,
           0.634765625,
           0.802734375,
           0.939453125,
           0.861328125,
           0.931640625,
           0.556640625,
           0.603515625,
           0.537109375,
           0.619140625,
           0.564453125,
           0.958984375,
           0.833984375,
           0.970703125,
           0.935546875,
           0.587890625,
           0.587890625,
           0.857421875,
           0.794921875,
           0.966796875,
           0.802734375,
           0.591796875,
           0.966796875,
           0.654296875,
           0.873046875,
           0.501953125,
           0.919921875,
           0.912109375,
           0.822265625,
           0.740234375,
           0.791015625,
           0.935546875,
           0.576171875,
           0.646484375,
           0.802734375,
           0.685546875,
           0.650390625,
           0.806640625,
           0.826171875,
           0.908203125,
           0.662109375,
           0.728515625,
           0.966796875,
           0.892578125,
           0.697265625,
           0.775390625,
           0.857421875,
           0.658203125,
           0.916015625,
           0.587890625,
           0.845703125,
           0.724609375,
           0.564453125,
           0.751953125,
           0.794921875,
           0.830078125,
           0.705078125,
           0.978515625,
           0.943359375,
           0.501953125,
           0.982421875,
           0.919921875,
           0.798828125,
           0.845703125,
           0.970703125,
           0.767578125,
           0.619140625,
           0.833984375,
           0.779296875,
           0.876953125,
           0.931640625,
           0.970703125,
           0.912109375,
           0.896484375,
           0.818359375,
           0.720703125,
           0.794921875,
           0.611328125,
           0.908203125,
           0.673828125,
           0.849609375,
           0.873046875,
           0.810546875,
           0.951171875,
           0.517578125,
           0.908203125,
           0.865234375,
           0.720703125,
           0.740234375,
           0.681640625,
           0.841796875,
           0.978515625,
           0.650390625,
           0.658203125,
           0.544921875,
           0.505859375,
           0.818359375,
           0.505859375,
           0.630859375,
           0.556640625,
           0.912109375,
           0.716796875,
           0.681640625,
           0.783203125,
           0.861328125,
           0.791015625,
           0.818359375,
           0.673828125,
           0.826171875,
           0.806640625,
           0.712890625,
           0.572265625,
           0.943359375,
           0.833984375,
           0.955078125,
           0.701171875,
           0.888671875,
           0.791015625,
           0.638671875,
           0.736328125,
           0.599609375,
           0.798828125,
           0.904296875,
           0.951171875,
           0.837890625,
           0.931640625,
           0.955078125,
           0.939453125,
           0.755859375,
           0.900390625,
           0.673828125,
           0.732421875,
           0.908203125,
           0.798828125,
           0.603515625,
           0.888671875,
           0.861328125,
           0.951171875,
           0.986328125,
           0.857421875,
           0.869140625,
           0.560546875,
           0.830078125,
           0.564453125,
           0.857421875,
           0.501953125,
           0.654296875,
           0.564453125,
           0.826171875,
           0.544921875,
           0.943359375,
           0.982421875,
           0.873046875,
           0.888671875,
           0.904296875,
           0.677734375,
           0.876953125,
           0.810546875,
           0.880859375,
           0.884765625,
           0.755859375,
           0.541015625,
           0.744140625,
           0.783203125,
           0.935546875,
           0.919921875,
           0.587890625,
           0.876953125,
           0.513671875,
           0.666015625,
           0.802734375,
           0.576171875,
           0.673828125,
           0.681640625,
           0.990234375,
           0.748046875,
           0.541015625,
           0.841796875,
           0.533203125,
           0.697265625,
           0.958984375,
           0.666015625,
           0.904296875,
           0.626953125,
           0.876953125,
           0.861328125,
           0.599609375,
           0.630859375,
           0.841796875,
           0.787109375,
           0.951171875,
           0.650390625,
           0.833984375,
           0.814453125,
           0.755859375,
           0.564453125,
           0.951171875,
           0.869140625,
           0.837890625,
           0.552734375,
           0.853515625,
           0.623046875,
           0.880859375,
           0.958984375,
           0.599609375,
           0.724609375,
           0.623046875,
           0.662109375,
           0.814453125,
           0.876953125,
           0.818359375,
           0.505859375,
           0.658203125,
           0.814453125,
           0.564453125,
           0.994140625,
           0.919921875,
           0.767578125,
           0.853515625,
           0.658203125,
           0.923828125,
           0.845703125,
           0.810546875,
           0.833984375,
           0.568359375,
           0.826171875,
           0.830078125,
           0.947265625,
           0.966796875,
           0.826171875,
           0.509765625,
           0.716796875,
           0.705078125,
           0.740234375,
           0.806640625,
           0.982421875,
           0.513671875,
           0.951171875,
           0.755859375,
           0.845703125,
           0.787109375,
           0.658203125,
           0.626953125,
           0.607421875,
           0.669921875,
           0.638671875,
           0.810546875,
           0.591796875,
           0.509765625,
           0.544921875,
           0.521484375,
           0.634765625,
           0.587890625,
           0.861328125,
           0.830078125,
           0.927734375,
           0.861328125,
           0.658203125,
           0.978515625,
           0.814453125,
           0.677734375,
           0.560546875,
           0.814453125,
           0.564453125,
           0.607421875,
           0.732421875,
           0.974609375,
           0.732421875,
           0.595703125,
           0.822265625,
           0.673828125,
           0.681640625,
           0.572265625,
           0.966796875,
           0.537109375,
           0.595703125,
           0.708984375,
           0.892578125,
           0.849609375,
           0.572265625,
           0.728515625,
           0.779296875,
           0.919921875,
           0.818359375,
           0.880859375,
           0.970703125,
           0.505859375,
           0.876953125,
           0.818359375,
           0.791015625,
           0.849609375,
           0.822265625,
           0.607421875,
           0.830078125,
           0.658203125,
           0.537109375,
           0.541015625,
           0.505859375,
           0.537109375,
           0.728515625,
           0.720703125,
           0.912109375,
           0.548828125,
           0.666015625,
           0.888671875,
           0.912109375,
           0.505859375,
           0.951171875,
           0.650390625,
           0.583984375,
           0.904296875,
           0.916015625,
           0.818359375,
           0.943359375,
           0.587890625,
           0.845703125,
           0.552734375,
           0.658203125,
           0.599609375,
           0.724609375,
           0.962890625,
           0.927734375,
           0.740234375,
           0.986328125,
           0.814453125,
           0.884765625,
           0.556640625,
           0.841796875,
           0.935546875,
           0.525390625,
           0.658203125,
           0.767578125,
           0.904296875,
           0.900390625,
           0.990234375,
           0.677734375,
           0.712890625,
           0.740234375,
           0.626953125,
           0.748046875,
           0.771484375,
           0.884765625,
           0.880859375,
           0.763671875,
           0.931640625,
           0.544921875,
           0.619140625,
           0.755859375,
           0.880859375,
           0.712890625,
           0.849609375,
           0.845703125,
           0.978515625,
           0.783203125,
           0.669921875,
           0.669921875,
           0.568359375,
           0.884765625,
           0.873046875,
           0.904296875,
           0.810546875,
           0.662109375,
           0.951171875,
           0.923828125,
           0.615234375,
           0.865234375,
           0.908203125,
           0.966796875,
           0.966796875,
           0.728515625,
           0.634765625,
           0.673828125,
           0.775390625,
           0.513671875,
           0.595703125,
           0.623046875,
           0.896484375,
           0.923828125,
           0.533203125,
           0.533203125,
           0.751953125,
           0.927734375,
           0.576171875,
           0.513671875,
           0.595703125,
           0.841796875,
           0.654296875,
           0.654296875,
           0.677734375,
           0.517578125,
           0.716796875,
           0.962890625,
           0.744140625,
           0.537109375,
           0.791015625,
           0.779296875,
           0.544921875,
           0.548828125,
           0.615234375,
           0.712890625,
           0.751953125,
           0.916015625,
           0.966796875,
           0.787109375,
           0.638671875,
           0.646484375,
           0.759765625,
           0.525390625,
           0.892578125,
           0.720703125,
           0.802734375,
           0.556640625,
           0.677734375,
           0.572265625,
           0.673828125,
           0.904296875,
           0.826171875,
           0.876953125,
           0.603515625,
           0.748046875,
           0.587890625,
           0.919921875,
           0.775390625,
           0.736328125,
           0.802734375,
           0.814453125,
           0.876953125,
           0.775390625,
           0.978515625,
           0.767578125,
           0.552734375,
           0.556640625,
           0.822265625,
           0.607421875,
           0.759765625,
           0.673828125,
           0.845703125,
           0.677734375,
           0.751953125,
           0.751953125,
           0.572265625,
           0.962890625,
           0.904296875,
           0.552734375,
           0.607421875,
           0.650390625,
           0.990234375,
           0.982421875,
           0.521484375,
           0.587890625,
           0.587890625,
           0.638671875,
           0.978515625,
           0.884765625,
           0.791015625,
           0.755859375,
           0.783203125,
           0.619140625,
           0.794921875,
           0.623046875,
           0.931640625,
           0.982421875,
           0.505859375,
           0.513671875,
           0.916015625,
           0.818359375,
           0.916015625,
           0.916015625,
           0.802734375,
           0.955078125,
           0.595703125,
           0.818359375,
           0.728515625,
           0.716796875,
           0.970703125,
           0.810546875,
           0.896484375,
           0.943359375,
           0.779296875,
           0.666015625,
           0.740234375,
           0.841796875,
           0.779296875,
           0.900390625,
           0.841796875,
           0.888671875,
           0.826171875,
           0.666015625,
           0.900390625,
           0.587890625,
           0.775390625,
           0.521484375,
           0.693359375
          ],
          "colorbar": {
           "thickness": 15,
           "tickmode": "array",
           "ticks": "outside",
           "ticktext": [
            "0.5",
            "0.99"
           ],
           "tickvals": [
            0.501953125,
            0.994140625
           ],
           "title": {
            "side": "right",
            "text": "CG,0 probability"
           },
           "x": 1.1
          },
          "colorscale": [
           [
            0,
            "white"
           ],
           [
            1,
            "orange"
           ]
          ],
          "size": 4
         },
         "mode": "markers",
         "showlegend": false,
         "type": "scatter",
         "x": [
          114356808,
          114356966,
          114357087,
          114357181,
          114357319,
          114357325,
          114357327,
          114357365,
          114357501,
          114357674,
          114357890,
          114357960,
          114358019,
          114358027,
          114358047,
          114358052,
          114358064,
          114358515,
          114358540,
          114358549,
          114358641,
          114355978,
          114357674,
          114357727,
          114357890,
          114357924,
          114357934,
          114357960,
          114358004,
          114358047,
          114358096,
          114358098,
          114358641,
          114358838,
          114359174,
          114359258,
          114359291,
          114359416,
          114359506,
          114359530,
          114360777,
          114360955,
          114360964,
          114360968,
          114361012,
          114361174,
          114355781,
          114355827,
          114357181,
          114357319,
          114357325,
          114357327,
          114357674,
          114357890,
          114357924,
          114357934,
          114357960,
          114358004,
          114358019,
          114358047,
          114358052,
          114358096,
          114359185,
          114359291,
          114360955,
          114360964,
          114361012,
          114357103,
          114357182,
          114357366,
          114357450,
          114357502,
          114357584,
          114357675,
          114357728,
          114357864,
          114357891,
          114357925,
          114357961,
          114357997,
          114358005,
          114358020,
          114358053,
          114358065,
          114358071,
          114358097,
          114360956,
          114360965,
          114360969,
          114361013,
          114355828,
          114355845,
          114355979,
          114356757,
          114357366,
          114357502,
          114357558,
          114357679,
          114357864,
          114357891,
          114357935,
          114357997,
          114358020,
          114358053,
          114358071,
          114358097,
          114358099,
          114359145,
          114359175,
          114359259,
          114359292,
          114355979,
          114356967,
          114357182,
          114357243,
          114357287,
          114357366,
          114357558,
          114357584,
          114357675,
          114357864,
          114357925,
          114357961,
          114357997,
          114358005,
          114358020,
          114358053,
          114358071,
          114358176,
          114360956,
          114360969,
          114361379,
          114355979,
          114357103,
          114357287,
          114357320,
          114357326,
          114357328,
          114357366,
          114357450,
          114357502,
          114356967,
          114357088,
          114357182,
          114357287,
          114357320,
          114357326,
          114357366,
          114357502,
          114357558,
          114357675,
          114357864,
          114357935,
          114357961,
          114357997,
          114358020,
          114358065,
          114358802,
          114359145,
          114360778,
          114360965,
          114360969,
          114361013,
          114357502,
          114357558,
          114357675,
          114357935,
          114357961,
          114357997,
          114358020,
          114358053,
          114358065,
          114358071,
          114358315,
          114356808,
          114356966,
          114357087,
          114357102,
          114357319,
          114357501,
          114357557,
          114357583,
          114357674,
          114357924,
          114357960,
          114358047,
          114358096,
          114358098,
          114358770,
          114358838,
          114359174,
          114359260,
          114359291,
          114359506,
          114359530,
          114360422,
          114360566,
          114360694,
          114355827,
          114355978,
          114356808,
          114357087,
          114357674,
          114357890,
          114357924,
          114357960,
          114358019,
          114358047,
          114358096,
          114358838,
          114359144,
          114359861,
          114359867,
          114360132,
          114360422,
          114360628,
          114360968,
          114357287,
          114357320,
          114357450,
          114357558,
          114357864,
          114357925,
          114357935,
          114357961,
          114357997,
          114358020,
          114358053,
          114358097,
          114358099,
          114359868,
          114361013,
          114355979,
          114356967,
          114357103,
          114357182,
          114357320,
          114357326,
          114357328,
          114357366,
          114357502,
          114357675,
          114357679,
          114357864,
          114357891,
          114357925,
          114357961,
          114357997,
          114358005,
          114358020,
          114358065,
          114358071,
          114358097,
          114358099,
          114358179,
          114358211,
          114358237,
          114358252,
          114358315,
          114358323,
          114358490,
          114358606,
          114358608,
          114358630,
          114358771,
          114358802,
          114359145,
          114359175,
          114359259,
          114361013,
          114361175,
          114356534,
          114357181,
          114357242,
          114357319,
          114357325,
          114357327,
          114357890,
          114357996,
          114358004,
          114358047,
          114358096,
          114358770,
          114355828,
          114355979,
          114356809,
          114356967,
          114357103,
          114357182,
          114357243,
          114357287,
          114357320,
          114357326,
          114357366,
          114357450,
          114357502,
          114357558,
          114357675,
          114357864,
          114357891,
          114357935,
          114357961,
          114357997,
          114358005,
          114358020,
          114358048,
          114358071,
          114358097,
          114358820,
          114357088,
          114357182,
          114357287,
          114357366,
          114357450,
          114357502,
          114357558,
          114357864,
          114357925,
          114357961,
          114357997,
          114358005,
          114358020,
          114358053,
          114358097,
          114358099,
          114360778,
          114360956,
          114360969,
          114361013,
          114356756,
          114356808,
          114356966,
          114357087,
          114357102,
          114357181,
          114357327,
          114357501,
          114357557,
          114357583,
          114357674,
          114357890,
          114355827,
          114355978,
          114356252,
          114356808,
          114357087,
          114357181,
          114357286,
          114357319,
          114357325,
          114357327,
          114357583,
          114357674,
          114357727,
          114357890,
          114357924,
          114358019,
          114358047,
          114358096,
          114359174,
          114359185,
          114359416,
          114359530,
          114359824,
          114360955,
          114360964,
          114360968,
          114357088,
          114357103,
          114357182,
          114357287,
          114357320,
          114357326,
          114357328,
          114357366,
          114357925,
          114357961,
          114358005,
          114358020,
          114358053,
          114358097,
          114358099,
          114360956,
          114360965,
          114360969,
          114357925,
          114357935,
          114357961,
          114358020,
          114358053,
          114358211,
          114358252,
          114358315,
          114358323,
          114358455,
          114358488,
          114356808,
          114356966,
          114357181,
          114357286,
          114359076,
          114359185,
          114359260,
          114359506,
          114359824,
          114359861,
          114359867,
          114359935,
          114360964,
          114360968,
          114361378,
          114355781,
          114356808,
          114356966,
          114357924,
          114357960,
          114357996,
          114358004,
          114358019,
          114358047,
          114358096,
          114359260,
          114359416,
          114359530,
          114360964,
          114361012,
          114355827,
          114356966,
          114357890,
          114357996,
          114358047,
          114358064,
          114358096,
          114358098,
          114358770,
          114358801,
          114358819,
          114358838,
          114358888,
          114359144,
          114359174,
          114359258,
          114357327,
          114357674,
          114357924,
          114358047,
          114358052,
          114358838,
          114358888,
          114359174,
          114359185,
          114359291,
          114359416,
          114359530,
          114359824,
          114355827,
          114355978,
          114356966,
          114357087,
          114357181,
          114357319,
          114357501,
          114357583,
          114357674,
          114358096,
          114359144,
          114359174,
          114359185,
          114359291,
          114359530,
          114359861,
          114357182,
          114357287,
          114357326,
          114357328,
          114357366,
          114357450,
          114357502,
          114357558,
          114357864,
          114357891,
          114357925,
          114357961,
          114357997,
          114358005,
          114358020,
          114358065,
          114357558,
          114357584,
          114357675,
          114357728,
          114357891,
          114357925,
          114357935,
          114357961,
          114357997,
          114358020,
          114358053,
          114358065,
          114358771,
          114358802,
          114359077,
          114359145,
          114359175
         ],
         "y": [
          2,
          2,
          2,
          2,
          2,
          2,
          2,
          2,
          2,
          2,
          2,
          2,
          2,
          2,
          2,
          2,
          2,
          2,
          2,
          2,
          2,
          0,
          0,
          0,
          0,
          0,
          0,
          0,
          0,
          0,
          0,
          0,
          0,
          0,
          0,
          0,
          0,
          0,
          0,
          0,
          0,
          0,
          0,
          0,
          0,
          0,
          1,
          1,
          1,
          1,
          1,
          1,
          1,
          1,
          1,
          1,
          1,
          1,
          1,
          1,
          1,
          1,
          1,
          1,
          1,
          1,
          1,
          7,
          7,
          7,
          7,
          7,
          7,
          7,
          7,
          7,
          7,
          7,
          7,
          7,
          7,
          7,
          7,
          7,
          7,
          7,
          7,
          7,
          7,
          7,
          11,
          11,
          11,
          11,
          11,
          11,
          11,
          11,
          11,
          11,
          11,
          11,
          11,
          11,
          11,
          11,
          11,
          11,
          11,
          11,
          11,
          12,
          12,
          12,
          12,
          12,
          12,
          12,
          12,
          12,
          12,
          12,
          12,
          12,
          12,
          12,
          12,
          12,
          12,
          12,
          12,
          12,
          5,
          5,
          5,
          5,
          5,
          5,
          5,
          5,
          5,
          4,
          4,
          4,
          4,
          4,
          4,
          4,
          4,
          4,
          4,
          4,
          4,
          4,
          4,
          4,
          4,
          4,
          4,
          4,
          4,
          4,
          4,
          8,
          8,
          8,
          8,
          8,
          8,
          8,
          8,
          8,
          8,
          8,
          16,
          16,
          16,
          16,
          16,
          16,
          16,
          16,
          16,
          16,
          16,
          16,
          16,
          16,
          16,
          16,
          16,
          16,
          16,
          16,
          16,
          16,
          16,
          16,
          6,
          6,
          6,
          6,
          6,
          6,
          6,
          6,
          6,
          6,
          6,
          6,
          6,
          6,
          6,
          6,
          6,
          6,
          6,
          10,
          10,
          10,
          10,
          10,
          10,
          10,
          10,
          10,
          10,
          10,
          10,
          10,
          10,
          10,
          15,
          15,
          15,
          15,
          15,
          15,
          15,
          15,
          15,
          15,
          15,
          15,
          15,
          15,
          15,
          15,
          15,
          15,
          15,
          15,
          15,
          15,
          15,
          15,
          15,
          15,
          15,
          15,
          15,
          15,
          15,
          15,
          15,
          15,
          15,
          15,
          15,
          15,
          15,
          3,
          3,
          3,
          3,
          3,
          3,
          3,
          3,
          3,
          3,
          3,
          3,
          23,
          23,
          23,
          23,
          23,
          23,
          23,
          23,
          23,
          23,
          23,
          23,
          23,
          23,
          23,
          23,
          23,
          23,
          23,
          23,
          23,
          23,
          23,
          23,
          23,
          23,
          19,
          19,
          19,
          19,
          19,
          19,
          19,
          19,
          19,
          19,
          19,
          19,
          19,
          19,
          19,
          19,
          19,
          19,
          19,
          19,
          14,
          14,
          14,
          14,
          14,
          14,
          14,
          14,
          14,
          14,
          14,
          14,
          20,
          20,
          20,
          20,
          20,
          20,
          20,
          20,
          20,
          20,
          20,
          20,
          20,
          20,
          20,
          20,
          20,
          20,
          20,
          20,
          20,
          20,
          20,
          20,
          20,
          20,
          21,
          21,
          21,
          21,
          21,
          21,
          21,
          21,
          21,
          21,
          21,
          21,
          21,
          21,
          21,
          21,
          21,
          21,
          24,
          24,
          24,
          24,
          24,
          24,
          24,
          24,
          24,
          24,
          24,
          18,
          18,
          18,
          18,
          18,
          18,
          18,
          18,
          18,
          18,
          18,
          18,
          18,
          18,
          18,
          17,
          17,
          17,
          17,
          17,
          17,
          17,
          17,
          17,
          17,
          17,
          17,
          17,
          17,
          17,
          25,
          25,
          25,
          25,
          25,
          25,
          25,
          25,
          25,
          25,
          25,
          25,
          25,
          25,
          25,
          25,
          9,
          9,
          9,
          9,
          9,
          9,
          9,
          9,
          9,
          9,
          9,
          9,
          9,
          22,
          22,
          22,
          22,
          22,
          22,
          22,
          22,
          22,
          22,
          22,
          22,
          22,
          22,
          22,
          22,
          13,
          13,
          13,
          13,
          13,
          13,
          13,
          13,
          13,
          13,
          13,
          13,
          13,
          13,
          13,
          13,
          26,
          26,
          26,
          26,
          26,
          26,
          26,
          26,
          26,
          26,
          26,
          26,
          26,
          26,
          26,
          26,
          26
         ]
        }
       ],
       "layout": {
        "barmode": "overlay",
        "height": 300,
        "hovermode": false,
        "plot_bgcolor": "rgba(0,0,0,0)",
        "template": {
         "data": {
          "bar": [
           {
            "error_x": {
             "color": "#2a3f5f"
            },
            "error_y": {
             "color": "#2a3f5f"
            },
            "marker": {
             "line": {
              "color": "#E5ECF6",
              "width": 0.5
             },
             "pattern": {
              "fillmode": "overlay",
              "size": 10,
              "solidity": 0.2
             }
            },
            "type": "bar"
           }
          ],
          "barpolar": [
           {
            "marker": {
             "line": {
              "color": "#E5ECF6",
              "width": 0.5
             },
             "pattern": {
              "fillmode": "overlay",
              "size": 10,
              "solidity": 0.2
             }
            },
            "type": "barpolar"
           }
          ],
          "carpet": [
           {
            "aaxis": {
             "endlinecolor": "#2a3f5f",
             "gridcolor": "white",
             "linecolor": "white",
             "minorgridcolor": "white",
             "startlinecolor": "#2a3f5f"
            },
            "baxis": {
             "endlinecolor": "#2a3f5f",
             "gridcolor": "white",
             "linecolor": "white",
             "minorgridcolor": "white",
             "startlinecolor": "#2a3f5f"
            },
            "type": "carpet"
           }
          ],
          "choropleth": [
           {
            "colorbar": {
             "outlinewidth": 0,
             "ticks": ""
            },
            "type": "choropleth"
           }
          ],
          "contour": [
           {
            "colorbar": {
             "outlinewidth": 0,
             "ticks": ""
            },
            "colorscale": [
             [
              0,
              "#0d0887"
             ],
             [
              0.1111111111111111,
              "#46039f"
             ],
             [
              0.2222222222222222,
              "#7201a8"
             ],
             [
              0.3333333333333333,
              "#9c179e"
             ],
             [
              0.4444444444444444,
              "#bd3786"
             ],
             [
              0.5555555555555556,
              "#d8576b"
             ],
             [
              0.6666666666666666,
              "#ed7953"
             ],
             [
              0.7777777777777778,
              "#fb9f3a"
             ],
             [
              0.8888888888888888,
              "#fdca26"
             ],
             [
              1,
              "#f0f921"
             ]
            ],
            "type": "contour"
           }
          ],
          "contourcarpet": [
           {
            "colorbar": {
             "outlinewidth": 0,
             "ticks": ""
            },
            "type": "contourcarpet"
           }
          ],
          "heatmap": [
           {
            "colorbar": {
             "outlinewidth": 0,
             "ticks": ""
            },
            "colorscale": [
             [
              0,
              "#0d0887"
             ],
             [
              0.1111111111111111,
              "#46039f"
             ],
             [
              0.2222222222222222,
              "#7201a8"
             ],
             [
              0.3333333333333333,
              "#9c179e"
             ],
             [
              0.4444444444444444,
              "#bd3786"
             ],
             [
              0.5555555555555556,
              "#d8576b"
             ],
             [
              0.6666666666666666,
              "#ed7953"
             ],
             [
              0.7777777777777778,
              "#fb9f3a"
             ],
             [
              0.8888888888888888,
              "#fdca26"
             ],
             [
              1,
              "#f0f921"
             ]
            ],
            "type": "heatmap"
           }
          ],
          "heatmapgl": [
           {
            "colorbar": {
             "outlinewidth": 0,
             "ticks": ""
            },
            "colorscale": [
             [
              0,
              "#0d0887"
             ],
             [
              0.1111111111111111,
              "#46039f"
             ],
             [
              0.2222222222222222,
              "#7201a8"
             ],
             [
              0.3333333333333333,
              "#9c179e"
             ],
             [
              0.4444444444444444,
              "#bd3786"
             ],
             [
              0.5555555555555556,
              "#d8576b"
             ],
             [
              0.6666666666666666,
              "#ed7953"
             ],
             [
              0.7777777777777778,
              "#fb9f3a"
             ],
             [
              0.8888888888888888,
              "#fdca26"
             ],
             [
              1,
              "#f0f921"
             ]
            ],
            "type": "heatmapgl"
           }
          ],
          "histogram": [
           {
            "marker": {
             "pattern": {
              "fillmode": "overlay",
              "size": 10,
              "solidity": 0.2
             }
            },
            "type": "histogram"
           }
          ],
          "histogram2d": [
           {
            "colorbar": {
             "outlinewidth": 0,
             "ticks": ""
            },
            "colorscale": [
             [
              0,
              "#0d0887"
             ],
             [
              0.1111111111111111,
              "#46039f"
             ],
             [
              0.2222222222222222,
              "#7201a8"
             ],
             [
              0.3333333333333333,
              "#9c179e"
             ],
             [
              0.4444444444444444,
              "#bd3786"
             ],
             [
              0.5555555555555556,
              "#d8576b"
             ],
             [
              0.6666666666666666,
              "#ed7953"
             ],
             [
              0.7777777777777778,
              "#fb9f3a"
             ],
             [
              0.8888888888888888,
              "#fdca26"
             ],
             [
              1,
              "#f0f921"
             ]
            ],
            "type": "histogram2d"
           }
          ],
          "histogram2dcontour": [
           {
            "colorbar": {
             "outlinewidth": 0,
             "ticks": ""
            },
            "colorscale": [
             [
              0,
              "#0d0887"
             ],
             [
              0.1111111111111111,
              "#46039f"
             ],
             [
              0.2222222222222222,
              "#7201a8"
             ],
             [
              0.3333333333333333,
              "#9c179e"
             ],
             [
              0.4444444444444444,
              "#bd3786"
             ],
             [
              0.5555555555555556,
              "#d8576b"
             ],
             [
              0.6666666666666666,
              "#ed7953"
             ],
             [
              0.7777777777777778,
              "#fb9f3a"
             ],
             [
              0.8888888888888888,
              "#fdca26"
             ],
             [
              1,
              "#f0f921"
             ]
            ],
            "type": "histogram2dcontour"
           }
          ],
          "mesh3d": [
           {
            "colorbar": {
             "outlinewidth": 0,
             "ticks": ""
            },
            "type": "mesh3d"
           }
          ],
          "parcoords": [
           {
            "line": {
             "colorbar": {
              "outlinewidth": 0,
              "ticks": ""
             }
            },
            "type": "parcoords"
           }
          ],
          "pie": [
           {
            "automargin": true,
            "type": "pie"
           }
          ],
          "scatter": [
           {
            "fillpattern": {
             "fillmode": "overlay",
             "size": 10,
             "solidity": 0.2
            },
            "type": "scatter"
           }
          ],
          "scatter3d": [
           {
            "line": {
             "colorbar": {
              "outlinewidth": 0,
              "ticks": ""
             }
            },
            "marker": {
             "colorbar": {
              "outlinewidth": 0,
              "ticks": ""
             }
            },
            "type": "scatter3d"
           }
          ],
          "scattercarpet": [
           {
            "marker": {
             "colorbar": {
              "outlinewidth": 0,
              "ticks": ""
             }
            },
            "type": "scattercarpet"
           }
          ],
          "scattergeo": [
           {
            "marker": {
             "colorbar": {
              "outlinewidth": 0,
              "ticks": ""
             }
            },
            "type": "scattergeo"
           }
          ],
          "scattergl": [
           {
            "marker": {
             "colorbar": {
              "outlinewidth": 0,
              "ticks": ""
             }
            },
            "type": "scattergl"
           }
          ],
          "scattermapbox": [
           {
            "marker": {
             "colorbar": {
              "outlinewidth": 0,
              "ticks": ""
             }
            },
            "type": "scattermapbox"
           }
          ],
          "scatterpolar": [
           {
            "marker": {
             "colorbar": {
              "outlinewidth": 0,
              "ticks": ""
             }
            },
            "type": "scatterpolar"
           }
          ],
          "scatterpolargl": [
           {
            "marker": {
             "colorbar": {
              "outlinewidth": 0,
              "ticks": ""
             }
            },
            "type": "scatterpolargl"
           }
          ],
          "scatterternary": [
           {
            "marker": {
             "colorbar": {
              "outlinewidth": 0,
              "ticks": ""
             }
            },
            "type": "scatterternary"
           }
          ],
          "surface": [
           {
            "colorbar": {
             "outlinewidth": 0,
             "ticks": ""
            },
            "colorscale": [
             [
              0,
              "#0d0887"
             ],
             [
              0.1111111111111111,
              "#46039f"
             ],
             [
              0.2222222222222222,
              "#7201a8"
             ],
             [
              0.3333333333333333,
              "#9c179e"
             ],
             [
              0.4444444444444444,
              "#bd3786"
             ],
             [
              0.5555555555555556,
              "#d8576b"
             ],
             [
              0.6666666666666666,
              "#ed7953"
             ],
             [
              0.7777777777777778,
              "#fb9f3a"
             ],
             [
              0.8888888888888888,
              "#fdca26"
             ],
             [
              1,
              "#f0f921"
             ]
            ],
            "type": "surface"
           }
          ],
          "table": [
           {
            "cells": {
             "fill": {
              "color": "#EBF0F8"
             },
             "line": {
              "color": "white"
             }
            },
            "header": {
             "fill": {
              "color": "#C8D4E3"
             },
             "line": {
              "color": "white"
             }
            },
            "type": "table"
           }
          ]
         },
         "layout": {
          "annotationdefaults": {
           "arrowcolor": "#2a3f5f",
           "arrowhead": 0,
           "arrowwidth": 1
          },
          "autotypenumbers": "strict",
          "coloraxis": {
           "colorbar": {
            "outlinewidth": 0,
            "ticks": ""
           }
          },
          "colorscale": {
           "diverging": [
            [
             0,
             "#8e0152"
            ],
            [
             0.1,
             "#c51b7d"
            ],
            [
             0.2,
             "#de77ae"
            ],
            [
             0.3,
             "#f1b6da"
            ],
            [
             0.4,
             "#fde0ef"
            ],
            [
             0.5,
             "#f7f7f7"
            ],
            [
             0.6,
             "#e6f5d0"
            ],
            [
             0.7,
             "#b8e186"
            ],
            [
             0.8,
             "#7fbc41"
            ],
            [
             0.9,
             "#4d9221"
            ],
            [
             1,
             "#276419"
            ]
           ],
           "sequential": [
            [
             0,
             "#0d0887"
            ],
            [
             0.1111111111111111,
             "#46039f"
            ],
            [
             0.2222222222222222,
             "#7201a8"
            ],
            [
             0.3333333333333333,
             "#9c179e"
            ],
            [
             0.4444444444444444,
             "#bd3786"
            ],
            [
             0.5555555555555556,
             "#d8576b"
            ],
            [
             0.6666666666666666,
             "#ed7953"
            ],
            [
             0.7777777777777778,
             "#fb9f3a"
            ],
            [
             0.8888888888888888,
             "#fdca26"
            ],
            [
             1,
             "#f0f921"
            ]
           ],
           "sequentialminus": [
            [
             0,
             "#0d0887"
            ],
            [
             0.1111111111111111,
             "#46039f"
            ],
            [
             0.2222222222222222,
             "#7201a8"
            ],
            [
             0.3333333333333333,
             "#9c179e"
            ],
            [
             0.4444444444444444,
             "#bd3786"
            ],
            [
             0.5555555555555556,
             "#d8576b"
            ],
            [
             0.6666666666666666,
             "#ed7953"
            ],
            [
             0.7777777777777778,
             "#fb9f3a"
            ],
            [
             0.8888888888888888,
             "#fdca26"
            ],
            [
             1,
             "#f0f921"
            ]
           ]
          },
          "colorway": [
           "#636efa",
           "#EF553B",
           "#00cc96",
           "#ab63fa",
           "#FFA15A",
           "#19d3f3",
           "#FF6692",
           "#B6E880",
           "#FF97FF",
           "#FECB52"
          ],
          "font": {
           "color": "#2a3f5f"
          },
          "geo": {
           "bgcolor": "white",
           "lakecolor": "white",
           "landcolor": "#E5ECF6",
           "showlakes": true,
           "showland": true,
           "subunitcolor": "white"
          },
          "hoverlabel": {
           "align": "left"
          },
          "hovermode": "closest",
          "mapbox": {
           "style": "light"
          },
          "paper_bgcolor": "white",
          "plot_bgcolor": "#E5ECF6",
          "polar": {
           "angularaxis": {
            "gridcolor": "white",
            "linecolor": "white",
            "ticks": ""
           },
           "bgcolor": "#E5ECF6",
           "radialaxis": {
            "gridcolor": "white",
            "linecolor": "white",
            "ticks": ""
           }
          },
          "scene": {
           "xaxis": {
            "backgroundcolor": "#E5ECF6",
            "gridcolor": "white",
            "gridwidth": 2,
            "linecolor": "white",
            "showbackground": true,
            "ticks": "",
            "zerolinecolor": "white"
           },
           "yaxis": {
            "backgroundcolor": "#E5ECF6",
            "gridcolor": "white",
            "gridwidth": 2,
            "linecolor": "white",
            "showbackground": true,
            "ticks": "",
            "zerolinecolor": "white"
           },
           "zaxis": {
            "backgroundcolor": "#E5ECF6",
            "gridcolor": "white",
            "gridwidth": 2,
            "linecolor": "white",
            "showbackground": true,
            "ticks": "",
            "zerolinecolor": "white"
           }
          },
          "shapedefaults": {
           "line": {
            "color": "#2a3f5f"
           }
          },
          "ternary": {
           "aaxis": {
            "gridcolor": "white",
            "linecolor": "white",
            "ticks": ""
           },
           "baxis": {
            "gridcolor": "white",
            "linecolor": "white",
            "ticks": ""
           },
           "bgcolor": "#E5ECF6",
           "caxis": {
            "gridcolor": "white",
            "linecolor": "white",
            "ticks": ""
           }
          },
          "title": {
           "x": 0.05
          },
          "xaxis": {
           "automargin": true,
           "gridcolor": "white",
           "linecolor": "white",
           "ticks": "",
           "title": {
            "standoff": 15
           },
           "zerolinecolor": "white",
           "zerolinewidth": 2
          },
          "yaxis": {
           "automargin": true,
           "gridcolor": "white",
           "linecolor": "white",
           "ticks": "",
           "title": {
            "standoff": 15
           },
           "zerolinecolor": "white",
           "zerolinewidth": 2
          }
         }
        },
        "title": {
         "pad": {
          "b": 10
         },
         "text": "DiMeLo-seq CTCF and CpG methylation",
         "x": 0.5,
         "xanchor": "center",
         "y": 0.75,
         "yanchor": "top"
        },
        "width": 1000,
        "xaxis": {
         "range": [
          114357437,
          114359753
         ],
         "title": {
          "text": "chr1 coordinate, t2t v1.0"
         }
        },
        "yaxis": {
         "title": {
          "text": "reads"
         }
        }
       }
      }
     },
     "metadata": {},
     "output_type": "display_data"
    }
   ],
   "source": [
    "\n",
    "fig = plot_read_browser.plot_read_browser(\n",
    "    mod_file_name=extract_file_no_thresh,\n",
    "    region='chr1:114357437-114359753', # you can only browser a single region, not a bed file or list of regions.\n",
    "    # The only cap on region size is your computer's memory and your patience\n",
    "    motifs=['CG,0','A,0'],\n",
    "    thresh=0.5,\n",
    "    single_strand=False,\n",
    "    sort_by=\"collapse\",#you can sort by anything that the loading function accepts, but the special \"collapse\" option doesn't allow other sorting\n",
    "    hover=False, #turning off hover will remove the hoverover read names and other info\n",
    ")\n",
    "# plot browser is made using plotly, so you can use the returned \"fig\" object to make updates using plotly commands\n",
    "fig.update_layout(\n",
    "    width=1000,# these values are in pixels\n",
    "    height=300,    \n",
    "    title={\n",
    "        'text': 'DiMeLo-seq CTCF and CpG methylation',\n",
    "        'x': 0.5,\n",
    "        'xanchor': 'center',\n",
    "        'y': 0.75,  # Adjust the vertical position of the title\n",
    "        'yanchor': 'top',\n",
    "        'pad': {'b': 10} \n",
    "    },\n",
    "    xaxis_title='chr1 coordinate, t2t v1.0',\n",
    "    yaxis_title='reads'\n",
    ")"
   ]
  },
  {
   "cell_type": "markdown",
   "metadata": {},
   "source": [
    "# Advanced Use Cases"
   ]
  },
  {
   "cell_type": "markdown",
   "metadata": {},
   "source": [
    "## Exporting pileups to bigwig"
   ]
  },
  {
   "cell_type": "markdown",
   "metadata": {},
   "source": [
    "For some use cases, such as loading pileup information into a genome browser, it can be desireable to create files with less information content than the full bedmethyls. The `export` module contains functions to do these sorts of exports. "
   ]
  },
  {
   "cell_type": "code",
   "execution_count": 29,
   "metadata": {},
   "outputs": [
    {
     "data": {
      "application/vnd.jupyter.widget-view+json": {
       "model_id": "7781b215531d4ec5bae92ddceebcab57",
       "version_major": 2,
       "version_minor": 0
      },
      "text/plain": [
       "Step 1: Indexing contigs in pileup.sorted.bed.gz to set up bigwig header for pileup.fractions.bigwig:   0%|   …"
      ]
     },
     "metadata": {},
     "output_type": "display_data"
    },
    {
     "data": {
      "application/vnd.jupyter.widget-view+json": {
       "model_id": "95fda2a5f9f24eeea4ff4d25703241a9",
       "version_major": 2,
       "version_minor": 0
      },
      "text/plain": [
       "Indexing chr1.: 0it [00:00, ?it/s]"
      ]
     },
     "metadata": {},
     "output_type": "display_data"
    },
    {
     "data": {
      "application/vnd.jupyter.widget-view+json": {
       "model_id": "e78f69bd3527429b9665079861827457",
       "version_major": 2,
       "version_minor": 0
      },
      "text/plain": [
       "Indexing chr12.: 0it [00:00, ?it/s]"
      ]
     },
     "metadata": {},
     "output_type": "display_data"
    },
    {
     "data": {
      "application/vnd.jupyter.widget-view+json": {
       "model_id": "7f6eeecae78648d584ea30c6ca017036",
       "version_major": 2,
       "version_minor": 0
      },
      "text/plain": [
       "Indexing chr14.: 0it [00:00, ?it/s]"
      ]
     },
     "metadata": {},
     "output_type": "display_data"
    },
    {
     "data": {
      "application/vnd.jupyter.widget-view+json": {
       "model_id": "20a362bca2084a9ea62d8e7185d1c107",
       "version_major": 2,
       "version_minor": 0
      },
      "text/plain": [
       "Indexing chr15.: 0it [00:00, ?it/s]"
      ]
     },
     "metadata": {},
     "output_type": "display_data"
    },
    {
     "data": {
      "application/vnd.jupyter.widget-view+json": {
       "model_id": "4e918741d7e848b297d2d6476c9064f3",
       "version_major": 2,
       "version_minor": 0
      },
      "text/plain": [
       "Indexing chr16.: 0it [00:00, ?it/s]"
      ]
     },
     "metadata": {},
     "output_type": "display_data"
    },
    {
     "data": {
      "application/vnd.jupyter.widget-view+json": {
       "model_id": "a83cf5d5ecde4401b4fc39645d506c6e",
       "version_major": 2,
       "version_minor": 0
      },
      "text/plain": [
       "Indexing chr17.: 0it [00:00, ?it/s]"
      ]
     },
     "metadata": {},
     "output_type": "display_data"
    },
    {
     "data": {
      "application/vnd.jupyter.widget-view+json": {
       "model_id": "aed54e4b9e884327a82be6a78f14fa8b",
       "version_major": 2,
       "version_minor": 0
      },
      "text/plain": [
       "Indexing chr19.: 0it [00:00, ?it/s]"
      ]
     },
     "metadata": {},
     "output_type": "display_data"
    },
    {
     "data": {
      "application/vnd.jupyter.widget-view+json": {
       "model_id": "e9e7483c7d2f4ba2af7b676c13675e7d",
       "version_major": 2,
       "version_minor": 0
      },
      "text/plain": [
       "Indexing chr2.: 0it [00:00, ?it/s]"
      ]
     },
     "metadata": {},
     "output_type": "display_data"
    },
    {
     "data": {
      "application/vnd.jupyter.widget-view+json": {
       "model_id": "217e6ea6915c452c8138b61c6d0512a8",
       "version_major": 2,
       "version_minor": 0
      },
      "text/plain": [
       "Indexing chr20.: 0it [00:00, ?it/s]"
      ]
     },
     "metadata": {},
     "output_type": "display_data"
    },
    {
     "data": {
      "application/vnd.jupyter.widget-view+json": {
       "model_id": "66adae3c22514f19865e49ba75d75bfe",
       "version_major": 2,
       "version_minor": 0
      },
      "text/plain": [
       "Indexing chr21.: 0it [00:00, ?it/s]"
      ]
     },
     "metadata": {},
     "output_type": "display_data"
    },
    {
     "data": {
      "application/vnd.jupyter.widget-view+json": {
       "model_id": "4937d8a09d45448cbaaf0797608b6248",
       "version_major": 2,
       "version_minor": 0
      },
      "text/plain": [
       "Indexing chr3.: 0it [00:00, ?it/s]"
      ]
     },
     "metadata": {},
     "output_type": "display_data"
    },
    {
     "data": {
      "application/vnd.jupyter.widget-view+json": {
       "model_id": "7114d2d8acbb4d75ac638532a2e23cee",
       "version_major": 2,
       "version_minor": 0
      },
      "text/plain": [
       "Indexing chr5.: 0it [00:00, ?it/s]"
      ]
     },
     "metadata": {},
     "output_type": "display_data"
    },
    {
     "data": {
      "application/vnd.jupyter.widget-view+json": {
       "model_id": "a0670881651847d19f69bfef358fb27f",
       "version_major": 2,
       "version_minor": 0
      },
      "text/plain": [
       "Indexing chr6.: 0it [00:00, ?it/s]"
      ]
     },
     "metadata": {},
     "output_type": "display_data"
    },
    {
     "data": {
      "application/vnd.jupyter.widget-view+json": {
       "model_id": "40adc2650f9d4acc814500fecada7143",
       "version_major": 2,
       "version_minor": 0
      },
      "text/plain": [
       "Indexing chr7.: 0it [00:00, ?it/s]"
      ]
     },
     "metadata": {},
     "output_type": "display_data"
    },
    {
     "data": {
      "application/vnd.jupyter.widget-view+json": {
       "model_id": "b0e3b60185eb4456ba46744fd6f7a5fa",
       "version_major": 2,
       "version_minor": 0
      },
      "text/plain": [
       "Indexing chr8.: 0it [00:00, ?it/s]"
      ]
     },
     "metadata": {},
     "output_type": "display_data"
    },
    {
     "data": {
      "application/vnd.jupyter.widget-view+json": {
       "model_id": "ad78adf7e2d44c0c97fff12ffc4eb6dd",
       "version_major": 2,
       "version_minor": 0
      },
      "text/plain": [
       "Indexing chr9.: 0it [00:00, ?it/s]"
      ]
     },
     "metadata": {},
     "output_type": "display_data"
    },
    {
     "data": {
      "application/vnd.jupyter.widget-view+json": {
       "model_id": "32e930eb94974c12b044994c912ed25a",
       "version_major": 2,
       "version_minor": 0
      },
      "text/plain": [
       "Indexing chrX.: 0it [00:00, ?it/s]"
      ]
     },
     "metadata": {},
     "output_type": "display_data"
    },
    {
     "data": {
      "application/vnd.jupyter.widget-view+json": {
       "model_id": "9788b922ab0f422ea3344f1cf2e441d2",
       "version_major": 2,
       "version_minor": 0
      },
      "text/plain": [
       "Step 2: Writing pileup.sorted.bed.gz contents to pileup.fractions.bigwig:   0%|          | 0/17 [00:00<?, ?it/…"
      ]
     },
     "metadata": {},
     "output_type": "display_data"
    },
    {
     "data": {
      "application/vnd.jupyter.widget-view+json": {
       "model_id": "3668f86ea61c46d0b249e5f92608dfad",
       "version_major": 2,
       "version_minor": 0
      },
      "text/plain": [
       "Writing chr1.:   0%|          | 0/12214 [00:00<?, ?it/s]"
      ]
     },
     "metadata": {},
     "output_type": "display_data"
    },
    {
     "data": {
      "application/vnd.jupyter.widget-view+json": {
       "model_id": "9dcee3cc5335445d867ccf02550147c4",
       "version_major": 2,
       "version_minor": 0
      },
      "text/plain": [
       "Writing chr12.:   0%|          | 0/3429 [00:00<?, ?it/s]"
      ]
     },
     "metadata": {},
     "output_type": "display_data"
    },
    {
     "data": {
      "application/vnd.jupyter.widget-view+json": {
       "model_id": "a061126dad91443db77267ed4aa1bb24",
       "version_major": 2,
       "version_minor": 0
      },
      "text/plain": [
       "Writing chr14.:   0%|          | 0/6430 [00:00<?, ?it/s]"
      ]
     },
     "metadata": {},
     "output_type": "display_data"
    },
    {
     "data": {
      "application/vnd.jupyter.widget-view+json": {
       "model_id": "6c6dd56278e64453849bfee4218d6cd7",
       "version_major": 2,
       "version_minor": 0
      },
      "text/plain": [
       "Writing chr15.:   0%|          | 0/6224 [00:00<?, ?it/s]"
      ]
     },
     "metadata": {},
     "output_type": "display_data"
    },
    {
     "data": {
      "application/vnd.jupyter.widget-view+json": {
       "model_id": "de3f560a327041e79f6d486510fbadda",
       "version_major": 2,
       "version_minor": 0
      },
      "text/plain": [
       "Writing chr16.:   0%|          | 0/9236 [00:00<?, ?it/s]"
      ]
     },
     "metadata": {},
     "output_type": "display_data"
    },
    {
     "data": {
      "application/vnd.jupyter.widget-view+json": {
       "model_id": "bc92df9a7ae446b7921300ea6fd068ac",
       "version_major": 2,
       "version_minor": 0
      },
      "text/plain": [
       "Writing chr17.:   0%|          | 0/12035 [00:00<?, ?it/s]"
      ]
     },
     "metadata": {},
     "output_type": "display_data"
    },
    {
     "data": {
      "application/vnd.jupyter.widget-view+json": {
       "model_id": "ea4ab336944e4abeb905a908ffe5c70b",
       "version_major": 2,
       "version_minor": 0
      },
      "text/plain": [
       "Writing chr19.:   0%|          | 0/9694 [00:00<?, ?it/s]"
      ]
     },
     "metadata": {},
     "output_type": "display_data"
    },
    {
     "data": {
      "application/vnd.jupyter.widget-view+json": {
       "model_id": "5b7307ff92f5498a8dba118e1df0555f",
       "version_major": 2,
       "version_minor": 0
      },
      "text/plain": [
       "Writing chr2.:   0%|          | 0/4026 [00:00<?, ?it/s]"
      ]
     },
     "metadata": {},
     "output_type": "display_data"
    },
    {
     "data": {
      "application/vnd.jupyter.widget-view+json": {
       "model_id": "e4cd8939b390445ab7095c38ba1682fa",
       "version_major": 2,
       "version_minor": 0
      },
      "text/plain": [
       "Writing chr20.:   0%|          | 0/12951 [00:00<?, ?it/s]"
      ]
     },
     "metadata": {},
     "output_type": "display_data"
    },
    {
     "data": {
      "application/vnd.jupyter.widget-view+json": {
       "model_id": "390a1573d6aa4d4e91e3a61bb2d31c3c",
       "version_major": 2,
       "version_minor": 0
      },
      "text/plain": [
       "Writing chr21.:   0%|          | 0/3712 [00:00<?, ?it/s]"
      ]
     },
     "metadata": {},
     "output_type": "display_data"
    },
    {
     "data": {
      "application/vnd.jupyter.widget-view+json": {
       "model_id": "b1d3e415be1a4aa2b16b326bb25ed4ab",
       "version_major": 2,
       "version_minor": 0
      },
      "text/plain": [
       "Writing chr3.:   0%|          | 0/2986 [00:00<?, ?it/s]"
      ]
     },
     "metadata": {},
     "output_type": "display_data"
    },
    {
     "data": {
      "application/vnd.jupyter.widget-view+json": {
       "model_id": "4f04ab6a1889400997ffb2789537467f",
       "version_major": 2,
       "version_minor": 0
      },
      "text/plain": [
       "Writing chr5.:   0%|          | 0/6952 [00:00<?, ?it/s]"
      ]
     },
     "metadata": {},
     "output_type": "display_data"
    },
    {
     "data": {
      "application/vnd.jupyter.widget-view+json": {
       "model_id": "af1c57fd13cb4b199672d2b48eb4dd01",
       "version_major": 2,
       "version_minor": 0
      },
      "text/plain": [
       "Writing chr6.:   0%|          | 0/17191 [00:00<?, ?it/s]"
      ]
     },
     "metadata": {},
     "output_type": "display_data"
    },
    {
     "data": {
      "application/vnd.jupyter.widget-view+json": {
       "model_id": "de7c6ba9d433435396496537a6a17709",
       "version_major": 2,
       "version_minor": 0
      },
      "text/plain": [
       "Writing chr7.:   0%|          | 0/3154 [00:00<?, ?it/s]"
      ]
     },
     "metadata": {},
     "output_type": "display_data"
    },
    {
     "data": {
      "application/vnd.jupyter.widget-view+json": {
       "model_id": "1bc7fe897fd24d2eb4b66079dc96a7a0",
       "version_major": 2,
       "version_minor": 0
      },
      "text/plain": [
       "Writing chr8.:   0%|          | 0/2762 [00:00<?, ?it/s]"
      ]
     },
     "metadata": {},
     "output_type": "display_data"
    },
    {
     "data": {
      "application/vnd.jupyter.widget-view+json": {
       "model_id": "a4b72bcd3f9f4c03856265cda9e46f5f",
       "version_major": 2,
       "version_minor": 0
      },
      "text/plain": [
       "Writing chr9.:   0%|          | 0/3229 [00:00<?, ?it/s]"
      ]
     },
     "metadata": {},
     "output_type": "display_data"
    },
    {
     "data": {
      "application/vnd.jupyter.widget-view+json": {
       "model_id": "ad1baa8e3d2a4b7ba63598a224c1895c",
       "version_major": 2,
       "version_minor": 0
      },
      "text/plain": [
       "Writing chrX.:   0%|          | 0/6804 [00:00<?, ?it/s]"
      ]
     },
     "metadata": {},
     "output_type": "display_data"
    }
   ],
   "source": [
    "from dimelo import export\n",
    "export.pileup_to_bigwig(\n",
    "    bedmethyl_file = pileup_file,\n",
    "    motif = 'A,0', # the file will contain mod fraction for a specified motif\n",
    "    bigwig_file = None, # if None, this will default to pileup.fractions.bigwig in the pileup_file directory\n",
    "    strand = '.', # specifying + or - will save only mod fractions for the strand in question so you can see strand-specific features\n",
    "    chunk_size = 1000, # mod positions per bigwig write operation. defaults to 1000. minor effect on performance for most reasonable values\n",
    ")"
   ]
  },
  {
   "cell_type": "markdown",
   "metadata": {},
   "source": [
    "## Handling single read probabilities with plot_reads"
   ]
  },
  {
   "cell_type": "markdown",
   "metadata": {},
   "source": [
    "You can still plot .h5 single read files with our `plot_reads` module, but because no threshold was applied in parsing a threshold must be provided to the plotting module."
   ]
  },
  {
   "cell_type": "code",
   "execution_count": 30,
   "metadata": {},
   "outputs": [
    {
     "name": "stdout",
     "output_type": "stream",
     "text": [
      "This is expected to fail. Read the error message below:\n",
      "\n",
      "\n",
      "No threshold has been applied to this .h5 single read data. You must provide a threshold using the thresh parameter in order to extract binarized modification arrays.\n"
     ]
    }
   ],
   "source": [
    "try:\n",
    "    plot_reads.plot_reads(\n",
    "        mod_file_name=extract_file_no_thresh, # the no threshold file\n",
    "        regions=ctcf_target_regions, # same regions as before\n",
    "        motifs=['A,0', 'CG,0'],\n",
    "        window_size=1000,\n",
    "    )\n",
    "except Exception as e:\n",
    "    print('This is expected to fail. Read the error message below:\\n\\n')\n",
    "    print(e)"
   ]
  },
  {
   "cell_type": "code",
   "execution_count": 31,
   "metadata": {},
   "outputs": [
    {
     "data": {
      "text/plain": [
       "Text(0, 0.5, 'reads')"
      ]
     },
     "execution_count": 31,
     "metadata": {},
     "output_type": "execute_result"
    },
    {
     "data": {
      "image/png": "[encoded data removed]",
      "text/plain": [
       "<Figure size 640x480 with 1 Axes>"
      ]
     },
     "metadata": {},
     "output_type": "display_data"
    }
   ],
   "source": [
    "sort_by = ['chromosome','region_start'] # you can sort reads also!\n",
    "plot_reads.plot_reads(\n",
    "    mod_file_name=extract_file_no_thresh,\n",
    "    regions=ctcf_target_regions,\n",
    "    motifs=['A,0', 'CG,0'],\n",
    "    window_size=1000,\n",
    "    single_strand=False, # if set to True, regions that specify the strand will only pull from reads on the strand (as opposed to both strands)\n",
    "    regions_5to3prime=True, # if set to True, regions on the reverse (-) strand will be flipped so everything is 5 prime to 3 prime\n",
    "    thresh=190,\n",
    "    sort_by=sort_by,\n",
    "    s=2, \n",
    ")\n",
    "plt.title(f'CTCF target data, 100 known binding locations\\nsort_by={sort_by}')\n",
    "plt.xlabel('position relative to annotated CTCF site')\n",
    "plt.ylabel('reads')"
   ]
  },
  {
   "cell_type": "markdown",
   "metadata": {},
   "source": [
    "## Manually Loading Processed Data"
   ]
  },
  {
   "cell_type": "markdown",
   "metadata": {},
   "source": [
    "### Load sum total modified/valid base read counts by genomic regions"
   ]
  },
  {
   "cell_type": "code",
   "execution_count": 32,
   "metadata": {},
   "outputs": [],
   "source": [
    "from dimelo import load_processed"
   ]
  },
  {
   "cell_type": "code",
   "execution_count": 33,
   "metadata": {},
   "outputs": [
    {
     "name": "stdout",
     "output_type": "stream",
     "text": [
      "total methylated adenines across regions in bed file: 14242 \n",
      "total adenine reads called as methylated or unmethylated across regions in bed file: 174078\n"
     ]
    }
   ],
   "source": [
    "modified_base_count,valid_base_count = load_processed.pileup_counts_from_bedmethyl(\n",
    "    bedmethyl_file = pileup_file,\n",
    "    motif = 'A,0',\n",
    "    regions = ctcf_target_regions,\n",
    "    single_strand=False, # if set to True, regions that specify the strand will only pull from reads on the strand (as opposed to both strands)\n",
    ")\n",
    "print('total methylated adenines across regions in bed file:',modified_base_count,'\\ntotal adenine reads called as methylated or unmethylated across regions in bed file:',valid_base_count)"
   ]
  },
  {
   "cell_type": "code",
   "execution_count": 34,
   "metadata": {},
   "outputs": [
    {
     "name": "stdout",
     "output_type": "stream",
     "text": [
      "total methylated adenines in single window: 213 \n",
      "total adenine reads called as methylated or unmethylated in single window: 1619\n"
     ]
    }
   ],
   "source": [
    "modified_base_count,valid_base_count = load_processed.pileup_counts_from_bedmethyl(\n",
    "    bedmethyl_file = pileup_file,\n",
    "    motif = 'A,0',\n",
    "    regions = 'chr1:114358436-114358754',\n",
    "    single_strand=False, # if set to True, regions that specify the strand will only pull from reads on the strand (as opposed to both strands)\n",
    ")\n",
    "print('total methylated adenines in single window:',modified_base_count,'\\ntotal adenine reads called as methylated or unmethylated in single window:',valid_base_count)"
   ]
  },
  {
   "cell_type": "markdown",
   "metadata": {},
   "source": [
    "### Load pileup vectors (modified and valid base read counts) aligned to target region(s)"
   ]
  },
  {
   "cell_type": "code",
   "execution_count": 35,
   "metadata": {},
   "outputs": [
    {
     "name": "stdout",
     "output_type": "stream",
     "text": [
      "methylated adenines by position near peak center:\n",
      " [38 53 32  6  4 54  2 83 90  0 85 39 15 45 11 18 11 16 38 20] \n",
      "adenine reads by position, called as methylated or unmethylated:\n",
      " [588 679 297 210  70 534  58 445 839   0 891 431  80 486  51 303 286 514\n",
      " 491 589]\n"
     ]
    }
   ],
   "source": [
    "modified_base_counts,valid_base_counts = load_processed.pileup_vectors_from_bedmethyl(\n",
    "    bedmethyl_file = pileup_file,\n",
    "    motif = 'A,0',\n",
    "    regions = ctcf_target_regions, # Regions from bed file\n",
    "    window_size = 10, # Trim/extend regions to same size\n",
    "    single_strand=False, # if set to True, regions that specify the strand will only pull from reads on the strand (as opposed to both strands)\n",
    "    regions_5to3prime=False, # if set to True, regions on the reverse (-) strand will be flipped so everything is 5 prime to 3 prime\n",
    ")\n",
    "print('methylated adenines by position near peak center:\\n',modified_base_counts,'\\nadenine reads by position, called as methylated or unmethylated:\\n',valid_base_counts)"
   ]
  },
  {
   "cell_type": "code",
   "execution_count": 36,
   "metadata": {},
   "outputs": [
    {
     "name": "stdout",
     "output_type": "stream",
     "text": [
      "methylated adenines by position near peak center:\n",
      " [1 0 3 0 0 0 1 1 0 0 0 0 0 0 0 0 0 0 0 0] \n",
      "adenine reads by position, called as methylated or unmethylated:\n",
      " [14  0 14  0  0 13 14 14 13  0 13  0  0  0  0  0  0  0 13  0]\n"
     ]
    }
   ],
   "source": [
    "modified_base_counts,valid_base_counts = load_processed.pileup_vectors_from_bedmethyl(\n",
    "    bedmethyl_file = pileup_file,\n",
    "    motif = 'A,0',\n",
    "    regions = 'chr1:114358585-114358605', # Region from string specifier\n",
    "    window_size = None, # No adjustment applied to regions \n",
    "    single_strand=False, # if set to True, regions that specify the strand will only pull from reads on the strand (as opposed to both strands)\n",
    "    regions_5to3prime=False, # if set to True, regions on the reverse (-) strand will be flipped so everything is 5 prime to 3 prime\n",
    ")\n",
    "print('methylated adenines by position near peak center:\\n',modified_base_counts,'\\nadenine reads by position, called as methylated or unmethylated:\\n',valid_base_counts)"
   ]
  },
  {
   "cell_type": "markdown",
   "metadata": {},
   "source": [
    "### Load modified/valid base information by individual reads"
   ]
  },
  {
   "cell_type": "markdown",
   "metadata": {},
   "source": [
    "The current function to load reads returns somewhat counterintuitive data structures; this will likely be changed in future. If you want to convert to a more straightforward list of read data dicts, where each element in the list represents specific modification types (e.g. A,0) on a specific read from a specific region, code is provided below. An example is also shown for how one might filter reads using list and dict comprehension using this structure. "
   ]
  },
  {
   "cell_type": "code",
   "execution_count": 37,
   "metadata": {},
   "outputs": [
    {
     "name": "stdout",
     "output_type": "stream",
     "text": [
      "chromosome\n",
      "\tchr1\n",
      "mod_vector\n",
      "\t[False False False ... False False False]\n",
      "motif\n",
      "\tA,0\n",
      "read_end\n",
      "\t9206582\n",
      "read_name\n",
      "\tbc8057e5-935b-4a1a-a0de-f7a4c0dbe4bb\n",
      "read_start\n",
      "\t9127032\n",
      "strand\n",
      "\t-\n",
      "val_vector\n",
      "\t[False False False ... False False  True]\n",
      "region_start\n",
      "\t9169918\n",
      "region_end\n",
      "\t9170236\n",
      "region_strand\n",
      "\t.\n",
      "CG,0_mod_fraction\n",
      "\t0.15053763440860216\n",
      "A,0_mod_fraction\n",
      "\t0.01842948717948718\n",
      "[{'chromosome': 'chr14', 'mod_vector': array([False, False, False, ..., False, False, False]), 'motif': 'CG,0', 'read_end': 44230138, 'read_name': 'b35229d7-6592-48fa-ab21-53154531c984', 'read_start': 43990221, 'strand': '-', 'val_vector': array([False, False, False, ..., False, False,  True]), 'region_start': 44125008, 'region_end': 44125326, 'region_strand': '.', 'CG,0_mod_fraction': 0.03731343283582089, 'A,0_mod_fraction': 0.007779772591262717}, {'chromosome': 'chr14', 'mod_vector': array([False, False, False, ..., False, False, False]), 'motif': 'CG,0', 'read_end': 44230138, 'read_name': 'b35229d7-6592-48fa-ab21-53154531c984', 'read_start': 43990221, 'strand': '-', 'val_vector': array([False, False, False, ..., False, False,  True]), 'region_start': 44125009, 'region_end': 44125325, 'region_strand': '.', 'CG,0_mod_fraction': 0.03731343283582089, 'A,0_mod_fraction': 0.007779772591262717}]\n"
     ]
    }
   ],
   "source": [
    "read_data_list, datasets, _ = load_processed.read_vectors_from_hdf5(\n",
    "    file=extract_file, # binarized modification calls\n",
    "    regions=ctcf_target_regions,\n",
    "    motifs=['CG,0','A,0'],\n",
    "    single_strand=False, # if set to True, regions that specify the strand will only pull from reads on the strand (as opposed to both strands)\n",
    "    sort_by = ['chromosome','read_start','read_name']\n",
    ")\n",
    "# Print out the data from the first read\n",
    "for idx,dataset in enumerate(datasets):\n",
    "    print(dataset)\n",
    "    for read_data in read_data_list:\n",
    "        print('\\t'+str(read_data[idx]))\n",
    "        break\n",
    "# create a list of dicts for easy processing\n",
    "list_of_dicts = [dict(zip(datasets,data)) for data in read_data_list]\n",
    "# pull out a read by info about it, in this case the name and motif\n",
    "# note that if your regions parameter for load_processed.read_vectors_from_hdf5 has multiple windows \n",
    "# and a read is present in more than one of them, that read will be returned more than once, which is\n",
    "# necessary and correct for e.g. the plot_reads functionality\n",
    "print([read for read in list_of_dicts \n",
    "       if read['read_name']=='b35229d7-6592-48fa-ab21-53154531c984' \n",
    "       and read['motif']=='CG,0']\n",
    "       )"
   ]
  },
  {
   "cell_type": "code",
   "execution_count": 38,
   "metadata": {},
   "outputs": [
    {
     "name": "stdout",
     "output_type": "stream",
     "text": [
      "chromosome\n",
      "\t chr14\n",
      "mod_vector\n",
      "\t [0.       0.       0.       ... 0.       0.       0.001953]\n",
      "motif\n",
      "\t A,0\n",
      "read_end\n",
      "\t 44230138\n",
      "read_name\n",
      "\t b35229d7-6592-48fa-ab21-53154531c984\n",
      "read_start\n",
      "\t 43990221\n",
      "strand\n",
      "\t -\n",
      "val_vector\n",
      "\t [0 0 0 ... 0 0 1]\n",
      "region_start\n",
      "\t 44125008\n",
      "region_end\n",
      "\t 44125326\n",
      "region_strand\n",
      "\t .\n",
      "CG,0_mod_fraction\n",
      "\t 0.09485774253731344\n",
      "A,0_mod_fraction\n",
      "\t 0.020627618192698982\n",
      "[{'chromosome': 'chr14', 'mod_vector': array([0.    , 0.    , 0.    , ..., 0.    , 0.    , 0.3223], dtype=float16), 'motif': 'CG,0', 'read_end': 44230138, 'read_name': 'b35229d7-6592-48fa-ab21-53154531c984', 'read_start': 43990221, 'strand': '-', 'val_vector': array([0, 0, 0, ..., 0, 0, 1]), 'region_start': 44125008, 'region_end': 44125326, 'region_strand': '.', 'CG,0_mod_fraction': 0.09485774253731344, 'A,0_mod_fraction': 0.020627618192698982}]\n"
     ]
    }
   ],
   "source": [
    "read_data_list, datasets, _ = load_processed.read_vectors_from_hdf5(\n",
    "    file=extract_file_no_thresh, # raw modification probabilities\n",
    "    regions='chr14:44125008-44125326',\n",
    "    motifs=['CG,0','A,0'],\n",
    "    single_strand=False, # if set to True, regions that specify the strand will only pull from reads on the strand (as opposed to both strands)\n",
    ")\n",
    "# Print out the data from the first read\n",
    "for idx,dataset in enumerate(datasets):\n",
    "    print(dataset)\n",
    "    for read_data in read_data_list:\n",
    "        print('\\t',read_data[idx])\n",
    "        break\n",
    "# create a list of dicts for easy processing\n",
    "list_of_dicts = [dict(zip(datasets,data)) for data in read_data_list]\n",
    "# pull out a read by info about it, in this case the name and motif\n",
    "# note that if your regions parameter for load_processed.read_vectors_from_hdf5 has multiple windows \n",
    "# and a read is present in more than one of them, that read will be returned more than once, which is\n",
    "# necessary and correct for e.g. the plot_reads functionality\n",
    "print([read for read in list_of_dicts \n",
    "       if read['read_name']=='b35229d7-6592-48fa-ab21-53154531c984' \n",
    "       and read['motif']=='CG,0']\n",
    "       )"
   ]
  },
  {
   "cell_type": "markdown",
   "metadata": {},
   "source": [
    "# Mod code specification and adjustment"
   ]
  },
  {
   "cell_type": "markdown",
   "metadata": {},
   "source": [
    "In addition to the modification context motif and mod quality threshold, the `dimelo` package can delineate different modification codes. For example, a cytosine called with Dorado on Nanopore R10 traces can have modification scores reported for both `m` (methylation) and `h` (hydroxymethylation). These have different biological relevance and may be important to distinguish.\n",
    "\n",
    "By default, the `dimelo` package only looks for methylation. However, the `motif` specifier can optionally include a third field, e.g. `CG,0,m` or `CG,0,h' to call out a specific mod code.\n",
    "\n",
    "Different base callers may use different mod codes however. For example, Guppy and Megalodon for R9 Nanopore data tend to us `Y` for adenine and `Z` for cytosine, while the standard is `a` and `m`.\n",
    "\n",
    "The `dimelo` package reports a warning if a specific mod code is not present, and the bundled `modkit` program offers a command line tool to make adjustments to bam files as desired."
   ]
  },
  {
   "cell_type": "code",
   "execution_count": 39,
   "metadata": {},
   "outputs": [
    {
     "name": "stdout",
     "output_type": "stream",
     "text": [
      "\n",
      "WARNING: no modified appropriately-coded values found for ['A', 'C'] in the first 100 reads. \n",
      "Do you expect this file to contain these modifications? parse_bam is looking for ['A,0,a', 'CG,0,m'] but for ['A', 'C'] found only found [\"C+{'Z'}\", \"A+{'Y'}\"].\n",
      "\n",
      "Consider passing only the motifs and mod codes (e.g. m,h,a) that you expect to be present in your file. \n",
      "You can use modkit adjust-mods --convert <CONVERT> <CONVERT> [OPTIONS] <IN_BAM> <OUT_BAM> to update or consolidate mod codes.\n",
      "See https://github.com/nanoporetech/modkit/blob/master/book/src/advanced_usage.md\n",
      "                    \n",
      "No specified number of cores requested. 8 available on machine, allocating all.\n",
      "Modification threshold of 190 assumed to be for range 0-255. 190/255=0.7450980392156863 will be sent to modkit.\n"
     ]
    },
    {
     "data": {
      "application/vnd.jupyter.widget-view+json": {
       "model_id": "794946f36b1e43aa83fced7d9e038955",
       "version_major": 2,
       "version_minor": 0
      },
      "text/plain": [
       "          | Step 1: Identify motif locations in chm13.draft_v1.0.fasta   0% | 00:00"
      ]
     },
     "metadata": {},
     "output_type": "display_data"
    },
    {
     "data": {
      "application/vnd.jupyter.widget-view+json": {
       "model_id": "942fcccb0a994e288a86197cd7fc3611",
       "version_major": 2,
       "version_minor": 0
      },
      "text/plain": [
       "          | Step 2: Parse regions in ctcf_demo.updated.bam   0% | 00:00<?"
      ]
     },
     "metadata": {},
     "output_type": "display_data"
    },
    {
     "data": {
      "application/vnd.jupyter.widget-view+json": {
       "model_id": "97a74b316c3647c5987fc2fac1fd21ba",
       "version_major": 2,
       "version_minor": 0
      },
      "text/plain": [
       "          |    0%"
      ]
     },
     "metadata": {},
     "output_type": "display_data"
    }
   ],
   "source": [
    "pileup_file_coded, pileup_regions = parse_bam.pileup(\n",
    "    input_file=ctcf_bam_file_updated,\n",
    "    output_name='ctcf_demo_pileup_on_target_mod_code_specified',\n",
    "    ref_genome=ref_genome_file,\n",
    "    output_directory=output_dir,\n",
    "    regions=[ctcf_target_regions,ctcf_off_target_regions],\n",
    "    # motifs=['A,0','CG,0'],\n",
    "    # parsing can optionally specify mod codes. \n",
    "    # The default is Y or a for adenine and m or Z for cytosine, corresponding to methylation\n",
    "    motifs = ['A,0,a','CG,0,m'], \n",
    "    thresh=190,\n",
    "    window_size=1000,\n",
    "    # cores = 1, # uncomment this line if your process appears to be terminating early (reduces memory usage)\n",
    "    # quiet = True,\n",
    "    # cleanup = False,\n",
    "    # log=True,\n",
    ")"
   ]
  },
  {
   "cell_type": "markdown",
   "metadata": {},
   "source": [
    "`dimelo` lets you run even if the mod codes aren't found in the first 100 reads, but the warning is worth paying attention to: sometimes, as in this case, they actually aren't present at all!\n",
    "\n",
    "In that case, plotting will yield an empty plot. We clearly need to properly specify the mod codes if we want the right result."
   ]
  },
  {
   "cell_type": "code",
   "execution_count": 40,
   "metadata": {},
   "outputs": [
    {
     "data": {
      "text/plain": [
       "<Axes: xlabel='pos', ylabel='fraction modified bases'>"
      ]
     },
     "execution_count": 40,
     "metadata": {},
     "output_type": "execute_result"
    },
    {
     "data": {
      "image/png": "[encoded data removed]",
      "text/plain": [
       "<Figure size 640x480 with 1 Axes>"
      ]
     },
     "metadata": {},
     "output_type": "display_data"
    }
   ],
   "source": [
    "from dimelo import plot_enrichment_profile\n",
    "plot_enrichment_profile.by_modification(\n",
    "    mod_file_name=pileup_file_coded,\n",
    "    regions=ctcf_target_regions,\n",
    "    window_size=1000,\n",
    "    motifs=['A,0,a','CG,0,m'], # We know from above that these mod codes aren't present in our file!\n",
    "    single_strand=False, # if set to True, regions that specify the strand will only pull from reads on the strand (as opposed to both strands)\n",
    "    regions_5to3prime=False, # if set to True, regions on the reverse (-) strand will be flipped so everything is 5 prime to 3 prime\n",
    "    smooth_window=50,\n",
    ")"
   ]
  },
  {
   "cell_type": "markdown",
   "metadata": {},
   "source": [
    "The `modkit` command below will make the bam file work for the to-spec mod codes m and a. However, you must use this command with caution: `modkit` can and will adjust any mod code to any other mod code; you need to verify yourself that they are actually equivalent and thus that the operation is in fact valid."
   ]
  },
  {
   "cell_type": "code",
   "execution_count": 41,
   "metadata": {},
   "outputs": [
    {
     "name": "stdout",
     "output_type": "stream",
     "text": [
      "> Converting Z to m\n",
      "> Converting Y to a\n",
      "\u001b[2K> done, 1025 records processed, 0 failed, 0 skipped                                      \n"
     ]
    }
   ],
   "source": [
    "!modkit adjust-mods dimelo/test/output/ctcf_demo.updated.bam dimelo/test/output/ctcf_demo.recoded.bam --convert Y a --convert Z m"
   ]
  },
  {
   "cell_type": "code",
   "execution_count": 42,
   "metadata": {},
   "outputs": [
    {
     "data": {
      "text/plain": [
       "''"
      ]
     },
     "execution_count": 42,
     "metadata": {},
     "output_type": "execute_result"
    }
   ],
   "source": [
    "ctcf_bam_file_recoded = output_dir / 'ctcf_demo.recoded.bam'\n",
    "pysam.index(str(ctcf_bam_file_recoded))"
   ]
  },
  {
   "cell_type": "code",
   "execution_count": 43,
   "metadata": {},
   "outputs": [
    {
     "name": "stdout",
     "output_type": "stream",
     "text": [
      "No specified number of cores requested. 8 available on machine, allocating all.\n",
      "Modification threshold of 190 assumed to be for range 0-255. 190/255=0.7450980392156863 will be sent to modkit.\n"
     ]
    },
    {
     "data": {
      "application/vnd.jupyter.widget-view+json": {
       "model_id": "f25799346e454535b8f6f937275f7613",
       "version_major": 2,
       "version_minor": 0
      },
      "text/plain": [
       "          | Step 1: Identify motif locations in chm13.draft_v1.0.fasta   0% | 00:00"
      ]
     },
     "metadata": {},
     "output_type": "display_data"
    },
    {
     "data": {
      "application/vnd.jupyter.widget-view+json": {
       "model_id": "0f3a6896f186469fa18b3e0c75137d06",
       "version_major": 2,
       "version_minor": 0
      },
      "text/plain": [
       "          | Step 2: Parse regions in ctcf_demo.recoded.bam   0% | 00:00<?"
      ]
     },
     "metadata": {},
     "output_type": "display_data"
    },
    {
     "data": {
      "application/vnd.jupyter.widget-view+json": {
       "model_id": "be3fd4aa82bc46579d8b24239521796f",
       "version_major": 2,
       "version_minor": 0
      },
      "text/plain": [
       "          |    0%"
      ]
     },
     "metadata": {},
     "output_type": "display_data"
    }
   ],
   "source": [
    "pileup_file_recoded, pileup_regions = parse_bam.pileup(\n",
    "    input_file=ctcf_bam_file_recoded,\n",
    "    output_name='ctcf_demo_pileup_on_target_mod_code_specified_adjusted',\n",
    "    ref_genome=ref_genome_file,\n",
    "    output_directory=output_dir,\n",
    "    regions=[ctcf_target_regions,ctcf_off_target_regions],\n",
    "    # motifs=['A,0','CG,0'],\n",
    "    # parsing can optionally specify mod codes. \n",
    "    # The default is Y or a for adenine and m or Z for cytosine, corresponding to methylation\n",
    "    motifs = ['A,0,a','CG,0,m'], \n",
    "    thresh=190,\n",
    "    window_size=1000,\n",
    "    # cores = 1, # uncomment this line if your process appears to be terminating early (reduces memory usage)\n",
    "    # quiet = True,\n",
    "    # cleanup = False,\n",
    "    # log=True,\n",
    ")"
   ]
  },
  {
   "cell_type": "code",
   "execution_count": 44,
   "metadata": {},
   "outputs": [
    {
     "data": {
      "text/plain": [
       "<Axes: xlabel='pos', ylabel='fraction modified bases'>"
      ]
     },
     "execution_count": 44,
     "metadata": {},
     "output_type": "execute_result"
    },
    {
     "data": {
      "image/png": "[encoded data removed]",
      "text/plain": [
       "<Figure size 640x480 with 1 Axes>"
      ]
     },
     "metadata": {},
     "output_type": "display_data"
    }
   ],
   "source": [
    "from dimelo import plot_enrichment_profile\n",
    "plot_enrichment_profile.by_modification(\n",
    "    mod_file_name=pileup_file_recoded,\n",
    "    regions=ctcf_target_regions,\n",
    "    window_size=1000,\n",
    "    motifs=['A,0,a','CG,0,m'],\n",
    "    single_strand=False, # if set to True, regions that specify the strand will only pull from reads on the strand (as opposed to both strands)\n",
    "    regions_5to3prime=False, # if set to True, regions on the reverse (-) strand will be flipped so everything is 5 prime to 3 prime\n",
    "    smooth_window=50,\n",
    ")"
   ]
  }
 ],
 "metadata": {
  "kernelspec": {
   "display_name": "dimelo_v2",
   "language": "python",
   "name": "dimelo_v2"
  },
  "language_info": {
   "codemirror_mode": {
    "name": "ipython",
    "version": 3
   },
   "file_extension": ".py",
   "mimetype": "text/x-python",
   "name": "python",
   "nbconvert_exporter": "python",
   "pygments_lexer": "ipython3",
   "version": "3.11.9"
  }
 },
 "nbformat": 4,
 "nbformat_minor": 4
}
